{
 "cells": [
  {
   "cell_type": "markdown",
   "metadata": {},
   "source": [
    "# `nwpy` tutorial\n",
    "\n",
    "Milos Atz \n",
    "\n",
    "Last modified on 2018-11-27"
   ]
  },
  {
   "cell_type": "code",
   "execution_count": 1,
   "metadata": {},
   "outputs": [],
   "source": [
    "%matplotlib inline"
   ]
  },
  {
   "cell_type": "markdown",
   "metadata": {},
   "source": [
    "## 1. Introduction\n",
    "\n",
    "The `nwpy` package mimics the mass flow operations described in the Department of Energy Fuel Cycle Evaluation and Screening (FCES) study and produces values for the mass and composition of different waste streams. The package then extends beyond the FCES work by enabling the loading of waste streams into forms suitable for final disposal. These forms can then be used as source term for subsequent waste management calculations, such as repository performance assessment."
   ]
  },
  {
   "cell_type": "markdown",
   "metadata": {},
   "source": [
    "## 2. Organization and data\n",
    "\n",
    "In keeping with the hierarchical fuel cycle organization scheme presented in the FCES report, users of `nwpy.fuelcycle` instantiate a `FuelCycle`, which in turn is made up of `Stages`. The `Stage` is the main object in `fuelcycle` because each fuel cycle stage produces unique, independent waste streams. Upon instantiation, `Stage` objects read the following essential data, along with other descriptive details, that were obtained from the FCES reports and online database. \n",
    "\n",
    "1. the mass of used nuclear fuel (UNF) discharged from the irradiation system\n",
    "2. the cooling time required for UNF after discharge\n",
    "3. the method used to reprocess UNF, if applicable\n",
    "4. the species recovered from the UNF, if applicable.\n",
    "\n",
    "The above data describe the operations that take place within the `Stage`, which is made up of sub-objects that carry them out. The structure of the `Stage` is shown below. The arrangement of operations is similar to that of an FCES stage. \n",
    "\n",
    "![alt text](./img/stage.png \"Layout of the Stage object\")\n",
    "\n",
    "Each operation acts on a material `Stream` object, which contains characteristic data such as mass and composition, as well as keywords identifying the form of the stream. When streams are created within the `Stage` object, they are loaded with composition data from CSV files associated with the `Stage`. After streams are created, decay calculations, separations, and waste form loading can be applied. This notebook demonstrates the application of some of the methods available in the `fuelcycle` package."
   ]
  },
  {
   "cell_type": "markdown",
   "metadata": {},
   "source": [
    "## 3. Fundamental `Stage` methods\n",
    "\n",
    "The steps below outline the process by which one can calculate waste properties from a `Stage`. These methods are also encapsulated in other `Stage` methods. The ellipses indicate optional keyword arguments that can be passed into the method to alter its behavior. More details about those can be found in the documentation.\n",
    "\n",
    "| Step | Description                    | Example                                 |\n",
    "|:-----|:-------------------------------|:----------------------------------------|\n",
    "| 0.   | Import `nwpy`                  | `from nwpy.fuelcycle import stage`      |\n",
    "| 1.   | Instantiate the `Stage`        | `s = stage.Stage('egXX', NSTG)`         |\n",
    "| 2.   | Discharge `Streams`            | `strm = s.discharge_streams()`          |\n",
    "| 3.   | Cool `Streams`                 | `strm = s.cool(strm, ...) `             |\n",
    "| 4.   | Reprocess `Streams`            | `w = s.reprocess(strm, ...)`            |\n",
    "| 5.   | Load `Streams` in `WasteForms` | `wf = s.load_waste(w, ...)`             |\n",
    "| 6.   | Calculate long-term properties | `wf = s.decay(w, endtime, nsteps, ...)` |\n",
    "\n",
    "This sequence of methods produces one or more `WasteForm` objects, which are identical to the `Stream` object but with extra attributes: the dimensions of the waste package and the number of waste packages of its kind produced in the stage. At this point, loading is implemented for only major waste streams—those containing the bulk of the decay heat and radioactivity. Support for others may be developed in the future."
   ]
  },
  {
   "cell_type": "markdown",
   "metadata": {},
   "source": [
    "**Step 0.** Import the `stage` module from `nwpy`"
   ]
  },
  {
   "cell_type": "code",
   "execution_count": 16,
   "metadata": {},
   "outputs": [
    {
     "name": "stdout",
     "output_type": "stream",
     "text": [
      "Processing /Users/harukowainwright/Documents/Projects/Chloe/Codes/nwpy_code\n",
      "  Preparing metadata (setup.py) ... \u001b[?25ldone\n",
      "\u001b[?25hBuilding wheels for collected packages: nwpy\n",
      "  Building wheel for nwpy (setup.py) ... \u001b[?25ldone\n",
      "\u001b[?25h  Created wheel for nwpy: filename=nwpy-0.0.3-py3-none-any.whl size=637651 sha256=00000f4d519eedc8904750ea28be52bbae8a78311b9e44a2d161c0fe87ccf7f0\n",
      "  Stored in directory: /private/var/folders/53/mywvp84j3zv5w72jr7dh8jth0000gn/T/pip-ephem-wheel-cache-c5gfiinx/wheels/de/1a/a1/2a79d019f1ffbfd489d70753db5166c6a80a71ab9b21fed7b4\n",
      "Successfully built nwpy\n",
      "Installing collected packages: nwpy\n",
      "Successfully installed nwpy-0.0.3\n"
     ]
    }
   ],
   "source": [
    "!pip install -t ./ ../"
   ]
  },
  {
   "cell_type": "code",
   "execution_count": 17,
   "metadata": {},
   "outputs": [
    {
     "name": "stderr",
     "output_type": "stream",
     "text": [
      "/Users/harukowainwright/Documents/Projects/Chloe/Codes/nwpy_code/notebooks/nwpy/origen.py:212: SyntaxWarning: invalid escape sequence '\\.'\n",
      "  dat=dat.loc[:,~dat.columns.str.replace(\"(\\.\\d+)$\",\"\").duplicated()]\n"
     ]
    },
    {
     "ename": "ModuleNotFoundError",
     "evalue": "No module named 'imp'",
     "output_type": "error",
     "traceback": [
      "\u001b[0;31m---------------------------------------------------------------------------\u001b[0m",
      "\u001b[0;31mModuleNotFoundError\u001b[0m                       Traceback (most recent call last)",
      "Cell \u001b[0;32mIn[17], line 1\u001b[0m\n\u001b[0;32m----> 1\u001b[0m \u001b[38;5;28;01mimport\u001b[39;00m \u001b[38;5;21;01mnwpy\u001b[39;00m\n",
      "File \u001b[0;32m~/Documents/Projects/Chloe/Codes/nwpy_code/notebooks/nwpy/__init__.py:13\u001b[0m\n\u001b[1;32m     11\u001b[0m \u001b[38;5;28;01mimport\u001b[39;00m \u001b[38;5;21;01mos\u001b[39;00m\n\u001b[1;32m     12\u001b[0m \u001b[38;5;28;01mfrom\u001b[39;00m \u001b[38;5;21;01mnwpy\u001b[39;00m \u001b[38;5;28;01mimport\u001b[39;00m nuclidedata\n\u001b[0;32m---> 13\u001b[0m \u001b[38;5;28;01mfrom\u001b[39;00m \u001b[38;5;21;01mnwpy\u001b[39;00m \u001b[38;5;28;01mimport\u001b[39;00m stage\n\u001b[1;32m     14\u001b[0m \u001b[38;5;28;01mfrom\u001b[39;00m \u001b[38;5;21;01mnwpy\u001b[39;00m \u001b[38;5;28;01mimport\u001b[39;00m fuelcycle\n\u001b[1;32m     15\u001b[0m \u001b[38;5;28;01mfrom\u001b[39;00m \u001b[38;5;21;01mnwpy\u001b[39;00m \u001b[38;5;28;01mimport\u001b[39;00m repository_area\n",
      "File \u001b[0;32m~/Documents/Projects/Chloe/Codes/nwpy_code/notebooks/nwpy/stage.py:22\u001b[0m\n\u001b[1;32m     20\u001b[0m \u001b[38;5;28;01mfrom\u001b[39;00m \u001b[38;5;21;01mnwpy\u001b[39;00m \u001b[38;5;28;01mimport\u001b[39;00m stream\n\u001b[1;32m     21\u001b[0m \u001b[38;5;28;01mfrom\u001b[39;00m \u001b[38;5;21;01mnwpy\u001b[39;00m \u001b[38;5;28;01mimport\u001b[39;00m reactor\n\u001b[0;32m---> 22\u001b[0m \u001b[38;5;28;01mfrom\u001b[39;00m \u001b[38;5;21;01mnwpy\u001b[39;00m \u001b[38;5;28;01mimport\u001b[39;00m separation\n\u001b[1;32m     23\u001b[0m \u001b[38;5;28;01mfrom\u001b[39;00m \u001b[38;5;21;01mnwpy\u001b[39;00m \u001b[38;5;28;01mimport\u001b[39;00m loading\n\u001b[1;32m     24\u001b[0m \u001b[38;5;66;03m###############################################################################\u001b[39;00m\n",
      "File \u001b[0;32m~/Documents/Projects/Chloe/Codes/nwpy_code/notebooks/nwpy/separation.py:12\u001b[0m\n\u001b[1;32m     10\u001b[0m \u001b[38;5;66;03m###############################################################################\u001b[39;00m\n\u001b[1;32m     11\u001b[0m \u001b[38;5;28;01mimport\u001b[39;00m \u001b[38;5;21;01mos\u001b[39;00m\n\u001b[0;32m---> 12\u001b[0m \u001b[38;5;28;01mimport\u001b[39;00m \u001b[38;5;21;01mimp\u001b[39;00m\n\u001b[1;32m     13\u001b[0m \u001b[38;5;28;01mimport\u001b[39;00m \u001b[38;5;21;01mnumpy\u001b[39;00m \u001b[38;5;28;01mas\u001b[39;00m \u001b[38;5;21;01mnp\u001b[39;00m\n\u001b[1;32m     14\u001b[0m \u001b[38;5;28;01mimport\u001b[39;00m \u001b[38;5;21;01mpandas\u001b[39;00m \u001b[38;5;28;01mas\u001b[39;00m \u001b[38;5;21;01mpd\u001b[39;00m\n",
      "\u001b[0;31mModuleNotFoundError\u001b[0m: No module named 'imp'"
     ]
    }
   ],
   "source": [
    "import nwpy"
   ]
  },
  {
   "cell_type": "code",
   "execution_count": 4,
   "metadata": {},
   "outputs": [
    {
     "ename": "ModuleNotFoundError",
     "evalue": "No module named 'nwpy'",
     "output_type": "error",
     "traceback": [
      "\u001b[0;31m---------------------------------------------------------------------------\u001b[0m",
      "\u001b[0;31mModuleNotFoundError\u001b[0m                       Traceback (most recent call last)",
      "Cell \u001b[0;32mIn[4], line 1\u001b[0m\n\u001b[0;32m----> 1\u001b[0m \u001b[38;5;28;01mfrom\u001b[39;00m \u001b[38;5;21;01mnwpy\u001b[39;00m \u001b[38;5;28;01mimport\u001b[39;00m stage\n",
      "\u001b[0;31mModuleNotFoundError\u001b[0m: No module named 'nwpy'"
     ]
    }
   ],
   "source": [
    "from nwpy import stage"
   ]
  },
  {
   "cell_type": "markdown",
   "metadata": {},
   "source": [
    "**Step 1.** Instantiate the `Stage`"
   ]
  },
  {
   "cell_type": "code",
   "execution_count": null,
   "metadata": {},
   "outputs": [],
   "source": [
    "# Example: EG13-1\n",
    "s = stage.Stage('eg13', 1)"
   ]
  },
  {
   "cell_type": "code",
   "execution_count": null,
   "metadata": {},
   "outputs": [],
   "source": [
    "print s"
   ]
  },
  {
   "cell_type": "markdown",
   "metadata": {},
   "source": [
    "**Step 2.** Discharge `Streams` from the reactor"
   ]
  },
  {
   "cell_type": "code",
   "execution_count": null,
   "metadata": {},
   "outputs": [],
   "source": [
    "strm = s.discharge_streams()"
   ]
  },
  {
   "cell_type": "code",
   "execution_count": null,
   "metadata": {},
   "outputs": [],
   "source": [
    "print strm"
   ]
  },
  {
   "cell_type": "code",
   "execution_count": null,
   "metadata": {},
   "outputs": [],
   "source": [
    "dir(strm)"
   ]
  },
  {
   "cell_type": "code",
   "execution_count": null,
   "metadata": {},
   "outputs": [],
   "source": [
    "strm.mass_fraction('u238')"
   ]
  },
  {
   "cell_type": "markdown",
   "metadata": {},
   "source": [
    "**Step 3.** Cool Streams after discharge, before reprocessing/loading\n",
    "\n",
    "NOTE: Optional keyword argument for `cool`: `rerun=False`. Use if you've already run this case and are just reloading the data"
   ]
  },
  {
   "cell_type": "code",
   "execution_count": null,
   "metadata": {},
   "outputs": [],
   "source": [
    "strm = s.cool(strm)#, rerun=False)"
   ]
  },
  {
   "cell_type": "markdown",
   "metadata": {},
   "source": [
    "**Step 4.** Reprocess Streams\n",
    "\n",
    "If the `Stage` does not involve reprocessing, this will return the `Stream`(`s`) unaltered\n"
   ]
  },
  {
   "cell_type": "code",
   "execution_count": null,
   "metadata": {},
   "outputs": [],
   "source": [
    "w = s.reprocess(strm)"
   ]
  },
  {
   "cell_type": "code",
   "execution_count": null,
   "metadata": {},
   "outputs": [],
   "source": [
    "w"
   ]
  },
  {
   "cell_type": "code",
   "execution_count": null,
   "metadata": {},
   "outputs": [],
   "source": [
    "glass = w[0]\n",
    "#glass.comp"
   ]
  },
  {
   "cell_type": "code",
   "execution_count": null,
   "metadata": {},
   "outputs": [],
   "source": []
  },
  {
   "cell_type": "markdown",
   "metadata": {},
   "source": [
    "**Step 5.** Load the waste Streams into WasteForms\n",
    "\n",
    "If the loading for a certain `Stream` into a `WasteForm` is not supported, this method will skip it"
   ]
  },
  {
   "cell_type": "code",
   "execution_count": null,
   "metadata": {},
   "outputs": [],
   "source": [
    "import matplotlib.pyplot as plt"
   ]
  },
  {
   "cell_type": "code",
   "execution_count": null,
   "metadata": {},
   "outputs": [],
   "source": [
    "wf = s.load_waste(w, plot=True)\n",
    "plt.savefig('glass_loading.png')"
   ]
  },
  {
   "cell_type": "code",
   "execution_count": null,
   "metadata": {},
   "outputs": [],
   "source": [
    "print(wf)"
   ]
  },
  {
   "cell_type": "code",
   "execution_count": null,
   "metadata": {},
   "outputs": [],
   "source": [
    "wf = s.load_waste(glass)"
   ]
  },
  {
   "cell_type": "code",
   "execution_count": null,
   "metadata": {},
   "outputs": [],
   "source": [
    "wf.canister"
   ]
  },
  {
   "cell_type": "markdown",
   "metadata": {},
   "source": [
    "**Step 6.** Calculate long-term time-dependent characteristics"
   ]
  },
  {
   "cell_type": "code",
   "execution_count": null,
   "metadata": {},
   "outputs": [],
   "source": [
    "wf = s.decay(wf, endtime=1e5, steps=20)"
   ]
  },
  {
   "cell_type": "code",
   "execution_count": null,
   "metadata": {},
   "outputs": [],
   "source": [
    "wf.tox"
   ]
  },
  {
   "cell_type": "markdown",
   "metadata": {},
   "source": [
    "These methods are incorporated into broader methods in the `Stage`. After instantiation as `s`, the user can call `s.discharge_all_wastes(...)` to run steps 2-6 above. The keyword arguments for this method are those for `load_waste` and `decay`."
   ]
  },
  {
   "cell_type": "code",
   "execution_count": null,
   "metadata": {},
   "outputs": [],
   "source": [
    "# wf = s.discharge_all_wastes()"
   ]
  },
  {
   "cell_type": "markdown",
   "metadata": {},
   "source": [
    "## 2. Plotting\n",
    "\n",
    "`nwpy.fuelcycle` offers a plotting module to make simple plots of `Stream` data. The module is built on top of the `matplotlib.pyplot` package. Two types of plots are supported: \n",
    "\n",
    "1. Pie plots, which can be used to examine the breakdown of a property for a single `Stream`.\n",
    "2. Time-dependent line plots, which can be used to compare properties of different `Streams`;\n",
    "\n",
    "The use of those plots is demonstrated here for the `WasteForm` instance we generated above."
   ]
  },
  {
   "cell_type": "markdown",
   "metadata": {},
   "source": [
    "### 2.1 Pie plot\n",
    "\n",
    "The pie plot can be used to compare `Stream` data among isotopes. The user specifies the following inputs:\n",
    "\n",
    "1. The `Stream` instance\n",
    "2. The data to be plotted (in this example, the plot will be of decay heat)\n",
    "3. (optional) If time-dependent data has been generated, the time snapshot at which to plot the data\n",
    "4. (optional) `maxslices` (for the maximum number of slices in the pie)\n",
    "5. (optional) `cutoff` (minimum value below which values are not included in the plot). "
   ]
  },
  {
   "cell_type": "code",
   "execution_count": null,
   "metadata": {},
   "outputs": [],
   "source": [
    "from nwpy.plot import PiePlot as pp"
   ]
  },
  {
   "cell_type": "code",
   "execution_count": null,
   "metadata": {},
   "outputs": [],
   "source": [
    "pp.plot(wf, 'heat', time=100.0, maxslices=5)\n",
    "pp.label()\n",
    "# pp.legend() # not yet implemented\n",
    "pp.show()"
   ]
  },
  {
   "cell_type": "markdown",
   "metadata": {},
   "source": [
    "### 2.2 Time plot"
   ]
  },
  {
   "cell_type": "markdown",
   "metadata": {},
   "source": [
    "The time plot can be used to compare time-dependent `Stream` data. The plot can show different elements, isotopes, and species from different `Streams`. The `Stream` total data is plotted using the main method, `plot`, which has the following inputs:\n",
    "\n",
    "1. The `Stream` instance\n",
    "2. The data to be plotted (in this example, the plot will be of decay heat)\n",
    "\n",
    "Optional keyword formatting arguments can be passed to `matplotlib.pyplot`, including:\n",
    "* color: str indicating color of line and markers\n",
    "* linestyle: str indicating the style of line (dash vs. solid, etc.)\n",
    "* marker: str indicating marker style\n",
    "* markevery: int indicating interval to skip marking data points (good to use for log-plots)\n",
    "\n",
    "Calling `plot` multiple times with new `Streams` will add all of them to the same plot. To add curves for specific lines, the user can use the `add_element`, `add_isotope`, and `add_species` methods, which have the same inputs as the main `plot` method.\n",
    "\n",
    "Other commands allow the user to format the axes or add a legend."
   ]
  },
  {
   "cell_type": "code",
   "execution_count": null,
   "metadata": {},
   "outputs": [],
   "source": [
    "from nwpy.fuelcycle.plot import TimePlot as tp"
   ]
  },
  {
   "cell_type": "code",
   "execution_count": null,
   "metadata": {},
   "outputs": [],
   "source": [
    "tp.plot(wf, 'heat', color='k')\n",
    "tp.add_element(wf, 'am', linestyle='--', color='r')\n",
    "tp.add_isotope(wf, 'am241', marker='o', color='r', markevery=2)\n",
    "tp.set_log('x', 'y')\n",
    "tp.ylim(ymin=1)\n",
    "tp.legend()\n",
    "tp.show()"
   ]
  },
  {
   "cell_type": "markdown",
   "metadata": {},
   "source": [
    "## 3. `FuelCycle` and benchmarking"
   ]
  },
  {
   "cell_type": "markdown",
   "metadata": {},
   "source": [
    "The `FuelCycle` object is a collection of `Stages`. It contains methods that can be applied to all the stages in the fuel cycle. One important method is `benchmark`. After separations have been applied, the metric data used to evaluate the waste management criterion in the FCES study can be evaluated. By calculating time-dependent data for the `Streams` produced after reprocessing and summing the results, we can compare fuelcycle results with those from the FCES study. The `benchmark` method prints the ratio of the `nwpy`-calculated result against that of the FCES metric result for 3 of the waste management metrics analyzed in the study"
   ]
  },
  {
   "cell_type": "code",
   "execution_count": null,
   "metadata": {},
   "outputs": [],
   "source": [
    "from nwpy import fuelcycle"
   ]
  },
  {
   "cell_type": "code",
   "execution_count": null,
   "metadata": {},
   "outputs": [],
   "source": [
    "fc = fuelcycle.FuelCycle('eg05')\n",
    "fc.benchmark()"
   ]
  },
  {
   "cell_type": "code",
   "execution_count": null,
   "metadata": {},
   "outputs": [],
   "source": [
    "import matplotlib.pyplot as plt"
   ]
  },
  {
   "cell_type": "code",
   "execution_count": null,
   "metadata": {},
   "outputs": [],
   "source": [
    "from nwpy.plot import TimePlot as tp"
   ]
  },
  {
   "cell_type": "code",
   "execution_count": null,
   "metadata": {},
   "outputs": [],
   "source": [
    "s = stage.Stage('eg01', 1)\n",
    "strm = s.discharge_streams()\n",
    "w = s.load_waste(strm, loading=1)\n",
    "w = s.decay(w, endtime=1e6, steps=100)"
   ]
  },
  {
   "cell_type": "code",
   "execution_count": null,
   "metadata": {},
   "outputs": [],
   "source": [
    "tp.plot(w, 'heat', color='k', linewidth=2, label='Total')\n",
    "tp.add_species(w, 'actinide', linestyle='--', linewidth=2, color='b', label='Actinide')\n",
    "tp.add_species(w, 'fp', linestyle='--', linewidth=2, color='r', label='FP')#, markevery=2)\n",
    "tp.set_log('x', 'y')\n",
    "tp.ylim([0.1, 1e4])\n",
    "tp.legend()\n",
    "plt.savefig('./heat.png', dpi=200)\n",
    "tp.show()"
   ]
  },
  {
   "cell_type": "code",
   "execution_count": null,
   "metadata": {},
   "outputs": [],
   "source": []
  }
 ],
 "metadata": {
  "anaconda-cloud": {},
  "kernelspec": {
   "display_name": "Python 3 (ipykernel)",
   "language": "python",
   "name": "python3"
  },
  "language_info": {
   "codemirror_mode": {
    "name": "ipython",
    "version": 3
   },
   "file_extension": ".py",
   "mimetype": "text/x-python",
   "name": "python",
   "nbconvert_exporter": "python",
   "pygments_lexer": "ipython3",
   "version": "3.8.18"
  }
 },
 "nbformat": 4,
 "nbformat_minor": 1
}
