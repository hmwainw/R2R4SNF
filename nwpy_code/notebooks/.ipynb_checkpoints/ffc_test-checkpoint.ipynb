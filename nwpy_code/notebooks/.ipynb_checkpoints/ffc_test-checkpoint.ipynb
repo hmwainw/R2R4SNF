{
 "cells": [
  {
   "cell_type": "markdown",
   "metadata": {},
   "source": [
    "Should we include all TRU?\n",
    "--------------------------\n",
    "Reasons yes:\n",
    "- potentially conservative (more fissile material)\n",
    "- source of heavy metal for fuel cycle wastes in which less heavy metal is sent to the waste\n",
    "\n",
    "\n",
    "In notebook\n",
    "-----------\n",
    "UNF: Get PWR UNF composition at some decay time (200k years)\n",
    "HLW: Make HLW after recovering Pu from PWR UNF at some decay time (leave TRU in waste)\n",
    "Print actinide compositions\n",
    "\n",
    "On Savio\n",
    "--------\n",
    "Input composition (by hand) into TAPE7\n",
    "Assume rock composition, porosity\n",
    "Calculate minimum critical mass including U, Pu isotopes\n",
    "Calculate minimum critical mass including U, TRU isotopes\n",
    "Result (UNF): comparing with large U dilution\n",
    "Result (HLW): comparing with little-to-no U dilution"
   ]
  },
  {
   "cell_type": "code",
   "execution_count": 31,
   "metadata": {
    "collapsed": false
   },
   "outputs": [],
   "source": [
    "import nwpy\n",
    "from nwpy import stage\n",
    "from nwpy import nuclidedata\n",
    "from decimal import Decimal"
   ]
  },
  {
   "cell_type": "code",
   "execution_count": 24,
   "metadata": {
    "collapsed": false
   },
   "outputs": [],
   "source": [
    "def make_zaid(nuclide):\n",
    "    \"\"\"Given a string that characterizes \n",
    "    a radionuclide, make a ZAID\"\"\"\n",
    "\n",
    "    el, A, meta = nuclidedata.determine_nuclide_info(nuclide)\n",
    "    zaid = str(nuclidedata.Z[el])\n",
    "    if(len(A) < 2):\n",
    "        zaid += '0'\n",
    "    if(len(A) < 3):\n",
    "        zaid += '0'\n",
    "    zaid += str(A)\n",
    "    return(zaid)"
   ]
  },
  {
   "cell_type": "code",
   "execution_count": 73,
   "metadata": {
    "collapsed": true
   },
   "outputs": [],
   "source": [
    "def printcomp(strm, el_list, cutoff=1e-6):\n",
    "    \n",
    "    to_return = ''\n",
    "    for iso in strm.comp.index:\n",
    "        el, A, m = nuclidedata.determine_nuclide_info(iso)\n",
    "        if(any([nuclidedata.is_group(el, x) for x in el_list])):\n",
    "            z = make_zaid(iso)\n",
    "            v = strm.comp[strm.comp.columns[-1]][iso]\n",
    "            if(v>cutoff):\n",
    "                #v = '%.4E'%Decimal(v)\n",
    "                v = '%.4E'%Decimal(mass_to_moles(v, float(A)))\n",
    "                to_return+=str(z)+' '+str(v)+'\\n'\n",
    "    print to_return"
   ]
  },
  {
   "cell_type": "code",
   "execution_count": 69,
   "metadata": {
    "collapsed": true
   },
   "outputs": [],
   "source": [
    "def mass_to_moles(mass, a):\n",
    "    return(mass/a)"
   ]
  },
  {
   "cell_type": "code",
   "execution_count": 3,
   "metadata": {
    "collapsed": false
   },
   "outputs": [],
   "source": [
    "eg01 = stage.Stage('eg01',1)\n",
    "pwr_unf = eg01.discharge_streams()\n",
    "pwr_unf = eg01.decay(pwr_unf, endtime=200000, steps=20)"
   ]
  },
  {
   "cell_type": "code",
   "execution_count": 74,
   "metadata": {
    "collapsed": false
   },
   "outputs": [
    {
     "name": "stdout",
     "output_type": "stream",
     "text": [
      "92232 5.7371E-07\n",
      "92233 9.5064E+02\n",
      "92234 2.8231E+03\n",
      "92235 1.2723E+05\n",
      "92236 7.8263E+04\n",
      "92238 8.4874E+06\n",
      "94236 2.3458E-08\n",
      "94239 1.8833E+02\n",
      "94240 3.9379E-05\n",
      "94241 6.9544E-09\n",
      "94242 5.4545E+03\n",
      "94244 2.6102E-01\n",
      "\n",
      "\n",
      "\n",
      "92232 5.7371E-07\n",
      "92233 9.5064E+02\n",
      "92234 2.8231E+03\n",
      "92235 1.2723E+05\n",
      "92236 7.8263E+04\n",
      "92238 8.4874E+06\n",
      "93236 9.3008E-03\n",
      "93237 2.1451E+04\n",
      "94236 2.3458E-08\n",
      "94239 1.8833E+02\n",
      "94240 3.9379E-05\n",
      "94241 6.9544E-09\n",
      "94242 5.4545E+03\n",
      "94244 2.6102E-01\n",
      "95241 2.2178E-07\n",
      "95243 5.2716E-05\n",
      "96245 4.1306E-06\n",
      "96247 8.6154E-02\n",
      "96248 4.4919E-03\n",
      "\n"
     ]
    }
   ],
   "source": [
    "printcomp(pwr_unf, ['u', 'pu'])\n",
    "print ('\\n')\n",
    "printcomp(pwr_unf, ['u', 'tru'])"
   ]
  },
  {
   "cell_type": "code",
   "execution_count": 75,
   "metadata": {
    "collapsed": false
   },
   "outputs": [],
   "source": [
    "eg13 = stage.Stage('eg13',1)\n",
    "s1 = eg13.discharge_streams()\n",
    "s1 = eg13.cool(s1)\n",
    "glass = eg13.reprocess(s1)[0]\n",
    "glass = eg13.decay(s1, endtime=199995, steps=20)"
   ]
  },
  {
   "cell_type": "code",
   "execution_count": 76,
   "metadata": {
    "collapsed": false
   },
   "outputs": [
    {
     "name": "stdout",
     "output_type": "stream",
     "text": [
      "92232 5.1810E-07\n",
      "92233 8.5708E+02\n",
      "92234 2.5462E+03\n",
      "92235 1.1468E+05\n",
      "92236 7.0636E+04\n",
      "92238 7.6471E+06\n",
      "94236 2.1169E-08\n",
      "94239 1.6962E+02\n",
      "94240 3.5533E-05\n",
      "94241 6.2697E-09\n",
      "94242 4.9215E+03\n",
      "94244 2.3557E-01\n",
      "\n",
      "\n",
      "\n",
      "92232 5.1810E-07\n",
      "92233 8.5708E+02\n",
      "92234 2.5462E+03\n",
      "92235 1.1468E+05\n",
      "92236 7.0636E+04\n",
      "92238 7.6471E+06\n",
      "93236 8.3941E-03\n",
      "93237 1.9333E+04\n",
      "94236 2.1169E-08\n",
      "94239 1.6962E+02\n",
      "94240 3.5533E-05\n",
      "94241 6.2697E-09\n",
      "94242 4.9215E+03\n",
      "94244 2.3557E-01\n",
      "95241 2.0000E-07\n",
      "95243 4.7531E-05\n",
      "96245 3.7241E-06\n",
      "96247 7.7652E-02\n",
      "96248 4.0524E-03\n",
      "\n"
     ]
    }
   ],
   "source": [
    "printcomp(glass, ['u', 'pu'])\n",
    "print ('\\n')\n",
    "printcomp(glass, ['u', 'tru'])"
   ]
  },
  {
   "cell_type": "code",
   "execution_count": null,
   "metadata": {
    "collapsed": true
   },
   "outputs": [],
   "source": []
  }
 ],
 "metadata": {
  "kernelspec": {
   "display_name": "Python [anaconda2]",
   "language": "python",
   "name": "Python [anaconda2]"
  },
  "language_info": {
   "codemirror_mode": {
    "name": "ipython",
    "version": 2
   },
   "file_extension": ".py",
   "mimetype": "text/x-python",
   "name": "python",
   "nbconvert_exporter": "python",
   "pygments_lexer": "ipython2",
   "version": "2.7.12"
  }
 },
 "nbformat": 4,
 "nbformat_minor": 0
}
