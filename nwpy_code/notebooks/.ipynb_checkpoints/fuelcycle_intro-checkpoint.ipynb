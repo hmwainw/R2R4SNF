{
 "cells": [
  {
   "cell_type": "markdown",
   "metadata": {},
   "source": [
    "# `nwpy.fuelcycle` tutorial\n",
    "\n",
    "Milos Atz \n",
    "\n",
    "Last modified on 2018-11-27"
   ]
  },
  {
   "cell_type": "code",
   "execution_count": 16,
   "metadata": {
    "collapsed": true
   },
   "outputs": [],
   "source": [
    "%matplotlib inline"
   ]
  },
  {
   "cell_type": "markdown",
   "metadata": {},
   "source": [
    "## 1. Introduction\n",
    "\n",
    "The `nwpy.fuelcycle` package mimics the mass flow operations described in the Department of Energy Fuel Cycle Evaluation and Screening (FCES) study and produces values for the mass and composition of different waste streams. The package then extends beyond the FCES work by enabling the loading of waste streams into forms suitable for final disposal. These forms can then be used as source term for subsequent waste management calculations, such as repository performance assessment."
   ]
  },
  {
   "cell_type": "markdown",
   "metadata": {},
   "source": [
    "## 2. Organization and data\n",
    "\n",
    "In keeping with the hierarchical fuel cycle organization scheme presented in the FCES report, users of `nwpy.fuelcycle` instantiate a `FuelCycle`, which in turn is made up of `Stages`. The `Stage` is the main object in `fuelcycle` because each fuel cycle stage produces unique, independent waste streams. Upon instantiation, `Stage` objects read the following essential data, along with other descriptive details, that were obtained from the FCES reports and online database. \n",
    "\n",
    "1.\tthe mass of used nuclear fuel (UNF) discharged from the irradiation system\n",
    "2.\tthe cooling time required for UNF after discharge\n",
    "3.\tthe method used to reprocess UNF, if applicable\n",
    "4.\tthe species recovered from the UNF, if applicable.\n",
    "\n",
    "The above data describe the operations that take place within the `Stage`, which is made up of sub-objects that carry them out. The structure of the `Stage` is shown below. The arrangement of operations is similar to that of an FCES stage. \n",
    "\n",
    "![alt text](./img/stage.png \"Layout of the Stage object\")\n",
    "\n",
    "Each operation acts on a material `Stream` object, which contains characteristic data such as mass and composition, as well as keywords identifying the form of the stream. When streams are created within the `Stage` object, they are loaded with composition data from CSV files associated with the `Stage`. After streams are created, decay calculations, separations, and waste form loading can be applied. This notebook demonstrates the application of some of the methods available in the `fuelcycle` package."
   ]
  },
  {
   "cell_type": "markdown",
   "metadata": {},
   "source": [
    "## 3. Fundamental `Stage` methods\n",
    "\n",
    "The steps below outline the process by which one can calculate waste properties from a `Stage`. These methods are also encapsulated in other `Stage` methods. The ellipses indicate optional keyword arguments that can be passed into the method to alter its behavior. More details about those can be found in the documentation.\n",
    "\n",
    "| Step | Description                    | Example                                 |\n",
    "|:-----|:-------------------------------|:----------------------------------------|\n",
    "| 0.   | Import `nwpy`                  | `from nwpy.fuelcycle import stage`      |\n",
    "| 1.   | Instantiate the `Stage`        | `s = stage.Stage('egXX', NSTG)`         |\n",
    "| 2.   | Discharge `Streams`            | `strm = s.discharge_streams()`          |\n",
    "| 3.   | Cool `Streams`                 | `strm = s.cool(strm, ...) `             |\n",
    "| 4.   | Reprocess `Streams`            | `w = s.reprocess(strm, ...)`            |\n",
    "| 5.   | Load `Streams` in `WasteForms` | `wf = s.load_waste(w, ...)`             |\n",
    "| 6.   | Calculate long-term properties | `wf = s.decay(w, endtime, nsteps, ...)` |\n",
    "\n",
    "This sequence of methods produces one or more `WasteForm` objects, which are identical to the `Stream` object but with extra attributes: the dimensions of the waste package and the number of waste packages of its kind produced in the stage. At this point, loading is implemented for only major waste streams—those containing the bulk of the decay heat and radioactivity. Support for others may be developed in the future."
   ]
  },
  {
   "cell_type": "markdown",
   "metadata": {},
   "source": [
    "**Step 0.** Import the `stage` module from `nwpy`"
   ]
  },
  {
   "cell_type": "code",
   "execution_count": 2,
   "metadata": {
    "collapsed": true
   },
   "outputs": [],
   "source": [
    "from nwpy.fuelcycle import stage"
   ]
  },
  {
   "cell_type": "markdown",
   "metadata": {},
   "source": [
    "**Step 1.** Instantiate the `Stage`"
   ]
  },
  {
   "cell_type": "code",
   "execution_count": 3,
   "metadata": {
    "collapsed": false
   },
   "outputs": [],
   "source": [
    "# Example: EG13-1\n",
    "s = stage.Stage('eg13', 1)"
   ]
  },
  {
   "cell_type": "markdown",
   "metadata": {},
   "source": [
    "**Step 2.** Discharge `Streams` from the reactor"
   ]
  },
  {
   "cell_type": "code",
   "execution_count": null,
   "metadata": {
    "collapsed": true
   },
   "outputs": [],
   "source": [
    "strm = s.discharge_streams()"
   ]
  },
  {
   "cell_type": "markdown",
   "metadata": {},
   "source": [
    "**Step 3.** Cool Streams after discharge, before reprocessing/loading\n",
    "\n",
    "NOTE: Optional keyword argument for `cool`: `rerun=False`. Use if you've already run this case and are just reloading the data"
   ]
  },
  {
   "cell_type": "code",
   "execution_count": null,
   "metadata": {
    "collapsed": true
   },
   "outputs": [],
   "source": [
    "strm = s.cool(strm, rerun=False)"
   ]
  },
  {
   "cell_type": "markdown",
   "metadata": {},
   "source": [
    "**Step 4.** Reprocess Streams\n",
    "\n",
    "If the `Stage` does not involve reprocessing, this will return the `Stream`(`s`) unaltered\n"
   ]
  },
  {
   "cell_type": "code",
   "execution_count": null,
   "metadata": {
    "collapsed": true
   },
   "outputs": [],
   "source": [
    "w = s.reprocess(strm)"
   ]
  },
  {
   "cell_type": "markdown",
   "metadata": {},
   "source": [
    "**Step 5.** Load the waste Streams into WasteForms\n",
    "\n",
    "If the loading for a certain `Stream` into a `WasteForm` is not supported, this method will skip it"
   ]
  },
  {
   "cell_type": "code",
   "execution_count": null,
   "metadata": {
    "collapsed": true
   },
   "outputs": [],
   "source": [
    "wf = s.load_waste(w)"
   ]
  },
  {
   "cell_type": "markdown",
   "metadata": {},
   "source": [
    "**Step 6.** Calculate long-term time-dependent characteristics"
   ]
  },
  {
   "cell_type": "code",
   "execution_count": 11,
   "metadata": {
    "collapsed": true
   },
   "outputs": [],
   "source": [
    "wf = s.decay(wf, endtime=1e5, steps=20)"
   ]
  },
  {
   "cell_type": "markdown",
   "metadata": {},
   "source": [
    "These methods are incorporated into broader methods in the `Stage`. After instantiation as `s`, the user can call `s.discharge_all_wastes(...)` to run steps 2-6 above. The keyword arguments for this method are those for `load_waste` and `decay`."
   ]
  },
  {
   "cell_type": "code",
   "execution_count": 6,
   "metadata": {
    "collapsed": true
   },
   "outputs": [],
   "source": [
    "# wf = s.discharge_all_wastes()"
   ]
  },
  {
   "cell_type": "markdown",
   "metadata": {},
   "source": [
    "## 2. Plotting\n",
    "\n",
    "`nwpy.fuelcycle` offers a plotting module to make simple plots of `Stream` data. The module is built on top of the `matplotlib.pyplot` package. Two types of plots are supported: \n",
    "\n",
    "1. Pie plots, which can be used to examine the breakdown of a property for a single `Stream`.\n",
    "2. Time-dependent line plots, which can be used to compare properties of different `Streams`;\n",
    "\n",
    "The use of those plots is demonstrated here for the `WasteForm` instance we generated above."
   ]
  },
  {
   "cell_type": "markdown",
   "metadata": {},
   "source": [
    "### 2.1 Pie plot\n",
    "\n",
    "The pie plot can be used to compare `Stream` data among isotopes. The user specifies the following inputs:\n",
    "\n",
    "1. The `Stream` instance\n",
    "2. The data to be plotted (in this example, the plot will be of decay heat)\n",
    "3. (optional) If time-dependent data has been generated, the time snapshot at which to plot the data\n",
    "4. (optional) `maxslices` (for the maximum number of slices in the pie)\n",
    "5. (optional) `cutoff` (minimum value below which values are not included in the plot). "
   ]
  },
  {
   "cell_type": "code",
   "execution_count": null,
   "metadata": {
    "collapsed": true
   },
   "outputs": [],
   "source": [
    "from nwpy.fuelcycle.plot import PiePlot as pp"
   ]
  },
  {
   "cell_type": "code",
   "execution_count": 19,
   "metadata": {
    "collapsed": false
   },
   "outputs": [
    {
     "data": {
      "image/png": "[encoded data removed]",
      "text/plain": [
       "<matplotlib.figure.Figure at 0x104f440d0>"
      ]
     },
     "metadata": {},
     "output_type": "display_data"
    }
   ],
   "source": [
    "pp.plot(wf, 'heat', time=100.0, maxslices=5)\n",
    "pp.label()\n",
    "# pp.legend() # not yet implemented\n",
    "pp.show()"
   ]
  },
  {
   "cell_type": "markdown",
   "metadata": {},
   "source": [
    "### 2.2 Time plot"
   ]
  },
  {
   "cell_type": "markdown",
   "metadata": {},
   "source": [
    "The time plot can be used to compare time-dependent `Stream` data. The plot can show different elements, isotopes, and species from different `Streams`. The `Stream` total data is plotted using the main method, `plot`, which has the following inputs:\n",
    "\n",
    "1. The `Stream` instance\n",
    "2. The data to be plotted (in this example, the plot will be of decay heat)\n",
    "\n",
    "Optional keyword formatting arguments can be passed to `matplotlib.pyplot`, including:\n",
    "* color: str indicating color of line and markers\n",
    "* linestyle: str indicating the style of line (dash vs. solid, etc.)\n",
    "* marker: str indicating marker style\n",
    "* markevery: int indicating interval to skip marking data points (good to use for log-plots)\n",
    "\n",
    "Calling `plot` multiple times with new `Streams` will add all of them to the same plot. To add curves for specific lines, the user can use the `add_element`, `add_isotope`, and `add_species` methods, which have the same inputs as the main `plot` method.\n",
    "\n",
    "Other commands allow the user to format the axes or add a legend."
   ]
  },
  {
   "cell_type": "code",
   "execution_count": 20,
   "metadata": {
    "collapsed": true
   },
   "outputs": [],
   "source": [
    "from nwpy.fuelcycle.plot import TimePlot as tp"
   ]
  },
  {
   "cell_type": "code",
   "execution_count": 32,
   "metadata": {
    "collapsed": false
   },
   "outputs": [
    {
     "data": {
      "image/png": "[encoded data removed]",
      "text/plain": [
       "<matplotlib.figure.Figure at 0x1175afed0>"
      ]
     },
     "metadata": {},
     "output_type": "display_data"
    }
   ],
   "source": [
    "tp.plot(wf, 'heat', color='k')\n",
    "tp.add_element(wf, 'am', linestyle='--', color='r')\n",
    "tp.add_isotope(wf, 'am241', marker='o', color='r', markevery=2)\n",
    "tp.set_log('x', 'y')\n",
    "tp.ylim(ymin=1)\n",
    "tp.legend()\n",
    "tp.show()"
   ]
  },
  {
   "cell_type": "markdown",
   "metadata": {},
   "source": [
    "## 3. `FuelCycle` and benchmarking"
   ]
  },
  {
   "cell_type": "markdown",
   "metadata": {},
   "source": [
    "The `FuelCycle` object is a collection of `Stages`. It contains methods that can be applied to all the stages in the fuel cycle. One important method is `benchmark`. After separations have been applied, the metric data used to evaluate the waste management criterion in the FCES study can be evaluated. By calculating time-dependent data for the `Streams` produced after reprocessing and summing the results, we can compare fuelcycle results with those from the FCES study. The `benchmark` method prints the ratio of the `nwpy`-calculated result against that of the FCES metric result for 3 of the waste management metrics analyzed in the study"
   ]
  },
  {
   "cell_type": "code",
   "execution_count": 33,
   "metadata": {
    "collapsed": true
   },
   "outputs": [],
   "source": [
    "from nwpy.fuelcycle import fuelcycle"
   ]
  },
  {
   "cell_type": "code",
   "execution_count": 34,
   "metadata": {
    "collapsed": false
   },
   "outputs": [
    {
     "name": "stdout",
     "output_type": "stream",
     "text": [
      "Mass Ratio: 1.00309677068\n",
      "Activity Ratio (100 y): 0.995470360779\n",
      "Activity Ratio (1e5 y): 1.00144424661\n"
     ]
    }
   ],
   "source": [
    "fc = fuelcycle.FuelCycle('eg05')\n",
    "fc.benchmark()"
   ]
  },
  {
   "cell_type": "code",
   "execution_count": null,
   "metadata": {
    "collapsed": true
   },
   "outputs": [],
   "source": []
  },
  {
   "cell_type": "code",
   "execution_count": null,
   "metadata": {
    "collapsed": true
   },
   "outputs": [],
   "source": []
  },
  {
   "cell_type": "code",
   "execution_count": null,
   "metadata": {
    "collapsed": true
   },
   "outputs": [],
   "source": []
  }
 ],
 "metadata": {
  "anaconda-cloud": {},
  "kernelspec": {
   "display_name": "Python [anaconda2]",
   "language": "python",
   "name": "Python [anaconda2]"
  },
  "language_info": {
   "codemirror_mode": {
    "name": "ipython",
    "version": 2
   },
   "file_extension": ".py",
   "mimetype": "text/x-python",
   "name": "python",
   "nbconvert_exporter": "python",
   "pygments_lexer": "ipython2",
   "version": "2.7.12"
  }
 },
 "nbformat": 4,
 "nbformat_minor": 0
}
