{
 "cells": [
  {
   "cell_type": "markdown",
   "metadata": {},
   "source": [
    "# Material Attractiveness Analysis\n",
    "\n",
    "Milos Atz\n",
    "\n",
    "Nuclear Waste Management Group, University of California, Berkeley\n",
    "\n",
    "2018-09-24"
   ]
  },
  {
   "cell_type": "code",
   "execution_count": 1,
   "metadata": {
    "collapsed": false
   },
   "outputs": [],
   "source": [
    "import os\n",
    "import copy\n",
    "import numpy as np\n",
    "from nwpy.fuelcycle import stage\n",
    "from nwpy.fuelcycle import stream\n",
    "from nwpy.fuelcycle import nuclidedata"
   ]
  },
  {
   "cell_type": "code",
   "execution_count": 2,
   "metadata": {
    "collapsed": false
   },
   "outputs": [],
   "source": [
    "# nonproliferation is not built into the nwpy package\n",
    "# therefore, I'm importing it separately\n",
    "os.sys.path.append(os.path.dirname(os.path.abspath('./../nonproliferation')))\n",
    "from nonproliferation import sphere"
   ]
  },
  {
   "cell_type": "markdown",
   "metadata": {},
   "source": [
    "## 1. Introduction\n",
    "\n",
    "In this notebook, I calculate material properties related to the proliferation resistance of nuclear energy fuel cycles. The goal is to provide a holistic picture of the attractiveness of  special nuclear materials for theft or diversion and use in nuclear weapons.\n",
    "\n",
    "| Value                                   | Unit       | Included     |\n",
    "|-----------------------------------------|:----------:|:------------:|\n",
    "| Total decay heat                        | W/kg       | $\\checkmark$ |\n",
    "| Specific decay heat of Pu               | W/kg       | $\\checkmark$ |\n",
    "| Total Pu reprocessed                    | t/GWe-EFPY | $\\checkmark$ |\n",
    "| Pu-238/Pu ratio                         | %          | $\\checkmark$ |\n",
    "| Total fissile fraction                  | %          | $\\checkmark$ |\n",
    "| Fissile Pu fraction                     | %          | $\\checkmark$ |\n",
    "| Fissile U fraction                      | %          | $\\checkmark$ |\n",
    "| (Pu+fissile U)/(U-238)                  | %          | $\\checkmark$ |\n",
    "| Critical mass                           | kg         | ...          |\n",
    "| Total spontaneous fission n             | n/s-kg     | -            |\n",
    "| Spontaneous Pu fission n                | n/s-kg     | -            |\n",
    "| Material attractiveness figure of merit | -          | -            |\n",
    "\n",
    "\n",
    "This work considers material streams from three fuel cycles:\n",
    "1. a once-through fuel cycle in which low-enriched uranium is burned in a pressurized water reactor (PWR) and directly disposed.\n",
    "2. a limited-recycle fuel cycle in which uranium and plutonium recovered from light water reactors (LWRs) used nuclear fuel (UNF) are recycled in LWRs as mixed-oxide fuel (MOX); \n",
    "3. a continuous-recycle fuel cycle in which transuranics (TRU) from LWR UNF are used as makeup fuel for sodium cooled fast reactors (SFRs). "
   ]
  },
  {
   "cell_type": "code",
   "execution_count": 3,
   "metadata": {
    "collapsed": false
   },
   "outputs": [],
   "source": [
    "# Fissile Pu\n",
    "def fissile_pu_fraction(stream):\n",
    "    \"\"\"Calculate the fraction of fissile Pu\"\"\"\n",
    "    \n",
    "    return((stream.mass_fraction('pu239')+stream.mass_fraction('pu241'))/\n",
    "           stream.mass_fraction('pu'))\n",
    "\n",
    "# Pu-238 ratio\n",
    "def pu238_fraction(stream):\n",
    "    \"\"\"Calculate the fraction of Pu-238\"\"\"\n",
    "\n",
    "    return(stream.mass_fraction('pu238')/stream.mass_fraction('pu'))\n",
    "\n",
    "# Pu decay heat\n",
    "def pu_decay_heat(stream):\n",
    "    \"\"\"Calculate the specific decay heat (W/kg) from Pu\"\"\"\n",
    "    \n",
    "    heat_pu = 0.0\n",
    "    for iso in stream.heat:\n",
    "        if('pu' in iso):\n",
    "            heat_pu += stream.heat[iso]\n",
    "    return(heat_pu/(stream.mass_fraction('pu')*stream.mass/1e3))\n",
    "\n",
    "# Total decay heat\n",
    "def total_decay_heat(stream):\n",
    "    \"\"\"Calculate the specific decay heat (W/kg) of the stream\"\"\"\n",
    "    \n",
    "    return(sum(stream.heat.values())/(stream.mass/1e3))\n",
    "\n",
    "# Fissile U\n",
    "def fissile_u_fraction(stream):\n",
    "    \"\"\"Calculate the fissile enrichment of U in stream\"\"\"\n",
    "    \n",
    "    return((stream.mass_fraction('u235')+stream.mass_fraction('u233'))/\n",
    "            stream.mass_fraction('u'))\n",
    "\n",
    "# (Pu + fissile U)/U238 fraction\n",
    "def pu_fissile_u_fraction(stream):\n",
    "    \"\"\"Calculate the ratio of Pu and fissile U to U-238\"\"\"\n",
    "    \n",
    "    numerator = (stream.mass_fraction('pu')+\n",
    "                 stream.mass_fraction('u235')+\n",
    "                 stream.mass_fraction('u233'))\n",
    "    return(numerator/stream.mass_fraction('u238'))\n",
    "\n",
    "# Total fissile content\n",
    "def total_fissile(stream):\n",
    "    \"\"\"Calculate the fraction of fissile isotopes in the stream\"\"\"\n",
    "    \n",
    "    fissile = ['th225', 'th227', 'th229',\n",
    "               'pa228', 'pa230', 'pa232',\n",
    "               'u231', 'u233', 'u235',\n",
    "               'np234', 'np236', 'np238',\n",
    "               'pu237', 'pu239', 'pu241',\n",
    "               'am240', 'am242', 'am244',\n",
    "               'cm243', 'cm245', 'cm247',\n",
    "               'bk246', 'bk248', 'bk250',\n",
    "               'cf249', 'cf251', 'cf253',\n",
    "               'es252', 'es254', 'es256',\n",
    "               'fm255', 'fm257', 'fm259']\n",
    "    x = 0.0\n",
    "    for nuc in fissile:\n",
    "        x += stream.mass_fraction(nuc)\n",
    "    return(x)"
   ]
  },
  {
   "cell_type": "markdown",
   "metadata": {},
   "source": [
    "## 2. Generation of material streams\n",
    "\n",
    "Material streams are generated using the `nwpy.fuelcycle` package. The fuel cycles mentioned above are included in the `nwpy.fuelcycle` data as `example1`, `example2`, and `example3`. For each fuel cycle, certain material streams will be selected and analyzed for some of the values of interest described above."
   ]
  },
  {
   "cell_type": "markdown",
   "metadata": {},
   "source": [
    "#### 2.1 Once-through fuel cycle\n",
    "\n",
    "The once-through fuel cycle produces LWR UNF. Therefore, the quantities above can be calculated for the UNF. After discharge, the used fuel is typically cooled in water for 5 or more years before further handling. This analysis does not take into account the fact that the UNF also contains extremely radioactive fission products, the presence of which make it more difficult to divert the nuclear material within the assemblies."
   ]
  },
  {
   "cell_type": "markdown",
   "metadata": {},
   "source": [
    "<img src=\"./img/once-through.png\">"
   ]
  },
  {
   "cell_type": "code",
   "execution_count": 14,
   "metadata": {
    "collapsed": false
   },
   "outputs": [],
   "source": [
    "# Once-through fuel cycle\n",
    "ot = stage.Stage('example-01', 1)\n",
    "ot1_unf = ot.discharge_streams()\n",
    "# ot1_unf = ot.cool(ot1_unf)\n",
    "ot1_unf = ot.cool(ot1_unf, rerun=False)"
   ]
  },
  {
   "cell_type": "code",
   "execution_count": 17,
   "metadata": {
    "collapsed": false
   },
   "outputs": [
    {
     "data": {
      "text/plain": [
       "26.025234726000008"
      ]
     },
     "execution_count": 17,
     "metadata": {},
     "output_type": "execute_result"
    }
   ],
   "source": [
    "ot1_unf.mass_fraction('pu')*ot1_unf.mass/1e6"
   ]
  },
  {
   "cell_type": "code",
   "execution_count": 14,
   "metadata": {
    "collapsed": true
   },
   "outputs": [],
   "source": [
    "stage_energy = 100.0 # GWe-y (see footprint_data.ipynb)"
   ]
  },
  {
   "cell_type": "code",
   "execution_count": 15,
   "metadata": {
    "collapsed": false
   },
   "outputs": [
    {
     "name": "stdout",
     "output_type": "stream",
     "text": [
      "Metric\t\t\tPWR UNF\n",
      "------\t\t\t-------\n",
      "Total fissile fraction\t1.41 %\n",
      "Total decay heat\t3.6 W/kg\n",
      "Total Pu reprocessed\tNone\n",
      "Total Pu in UNF\t\t0.26 t/GWe-y\n",
      "Fissile Pu fraction\t61.47 %\n",
      "Pu-238/Pu ratio\t\t4.25 %\n",
      "Pu decay heat\t\t27.42 W/kg\n",
      "Fissile U fraction\t0.58 %\n",
      "(Pu + fissile U)/U-238\t2.14 %\n"
     ]
    }
   ],
   "source": [
    "# Calculation of metrics\n",
    "print('Metric'+'\\t\\t\\t'+'PWR UNF')\n",
    "print('------'+'\\t\\t\\t'+'-------')\n",
    "# Total fissile\n",
    "print('Total fissile fraction'+'\\t'+str(round(100*total_fissile(ot1_unf),2))+' %')\n",
    "# Total decay heat\n",
    "print('Total decay heat'+'\\t'+str(round(total_decay_heat(ot1_unf),2))+' W/kg')\n",
    "# Total Pu reprocessed: None\n",
    "print('Total Pu reprocessed'+'\\t'+'None')\n",
    "# Total Pu in UNF\n",
    "pu_tot = ot1_unf.mass_fraction('pu')*ot1_unf.mass/1e6/stage_energy\n",
    "print('Total Pu in UNF'+'\\t\\t'+str(round(pu_tot,2))+' t/GWe-y')\n",
    "# Fissile Pu\n",
    "print('Fissile Pu fraction'+'\\t'+str(round(100*fissile_pu_fraction(ot1_unf),2))+' %')\n",
    "# Pu-238/Pu ratio\n",
    "print('Pu-238/Pu ratio'+'\\t\\t'+str(round(pu238_fraction(ot1_unf)*100, 2))+' %')\n",
    "# Pu decay heat\n",
    "print('Pu decay heat'+'\\t\\t'+str(round(pu_decay_heat(ot1_unf),2))+' W/kg')\n",
    "# Fissile U\n",
    "print('Fissile U fraction'+'\\t'+str(round(100*fissile_u_fraction(ot1_unf),2))+' %')\n",
    "# (Pu + fissile U)/U238 fraction\n",
    "print('(Pu + fissile U)/U-238'+'\\t'+str(round(100*pu_fissile_u_fraction(ot1_unf),2))+' %')\n"
   ]
  },
  {
   "cell_type": "code",
   "execution_count": 18,
   "metadata": {
    "collapsed": false
   },
   "outputs": [],
   "source": [
    "# bs_ot1_unf = sphere.BareSphere(ot1_unf, 10.97)\n",
    "# ot1_cm = bs_ot1_unf.calculate_critical_mass(print_mcnp=True)\n",
    "# print(ot1_cm)\n",
    "# RESULT: k is approximately 0.63 for large (50,000 cm radius) sphere\n",
    "# CONCLUSION: NOT CRITICAL"
   ]
  },
  {
   "cell_type": "markdown",
   "metadata": {},
   "source": [
    "#### 2.2 Limited-recycle fuel cycle\n",
    "\n",
    "The limited-recycle fuel cycle is made up of two stages. In Stage 1, LEU is burned in a PWR to 50 GWd/t and cooled before being reprocessed by the coextraction method. In Stage 2, the U/Pu mixture from Stage 1 is used as MOX fuel in an LWR before being directly disposed of in a geological repository."
   ]
  },
  {
   "cell_type": "markdown",
   "metadata": {},
   "source": [
    "<img src=\"./img/limited-recycle.png\">"
   ]
  },
  {
   "cell_type": "markdown",
   "metadata": {},
   "source": [
    "In Stage 1, the quantities of interest are the two product streams from the coextraction method. These are a (1) a stream containing a mixture of U/Pu (up to 50 wt% Pu) and (2) a stream of pure U."
   ]
  },
  {
   "cell_type": "code",
   "execution_count": 4,
   "metadata": {
    "collapsed": false
   },
   "outputs": [],
   "source": [
    "# Limited-recycle fuel cycle (Stage 1)\n",
    "lr1 = stage.Stage('example-02', 1)\n",
    "lr1_unf = lr1.discharge_streams()\n",
    "lr1_unf = lr1.cool(lr1_unf)#, rerun=True)"
   ]
  },
  {
   "cell_type": "code",
   "execution_count": 6,
   "metadata": {
    "collapsed": false
   },
   "outputs": [],
   "source": [
    "lr1_u, lr1_pu = lr1.reprocess(lr1_unf, include='products')"
   ]
  },
  {
   "cell_type": "markdown",
   "metadata": {},
   "source": [
    "This produces separate streams of U and Pu, but in reality, the coextraction process produces a stream of pure U and a U/Pu mixture. In this case, the U/Pu mixture has a Pu weight fraction of 10.74 wt.%. The balance is uranium, and the remaining uranium is in the second product stream."
   ]
  },
  {
   "cell_type": "code",
   "execution_count": 7,
   "metadata": {
    "collapsed": false
   },
   "outputs": [],
   "source": [
    "# make the mixture stream\n",
    "mass_u_in_mix = lr1_pu.mass*(1-0.1074)/0.1074\n",
    "u_in_mix = copy.deepcopy(lr1_u)\n",
    "u_in_mix.mass = mass_u_in_mix\n",
    "for iso in u_in_mix.comp.keys():\n",
    "    # redifin\n",
    "    u_in_mix.comp[iso]=u_in_mix.comp[iso]*mass_u_in_mix/lr1_u.mass\n",
    "    u_in_mix.heat[iso]=u_in_mix.heat[iso]*mass_u_in_mix/lr1_u.mass\n",
    "lr1_upu = u_in_mix+lr1_pu"
   ]
  },
  {
   "cell_type": "code",
   "execution_count": 8,
   "metadata": {
    "collapsed": false
   },
   "outputs": [],
   "source": [
    "# make the uranium stream\n",
    "lr1_u.mass = lr1_u.mass - u_in_mix.mass\n",
    "for iso in lr1_u.comp.keys():\n",
    "    lr1_u.comp[iso]=lr1_u.comp[iso]-u_in_mix.comp[iso]\n",
    "    lr1_u.heat[iso]=lr1_u.heat[iso]-u_in_mix.heat[iso]"
   ]
  },
  {
   "cell_type": "markdown",
   "metadata": {},
   "source": [
    "Now, we can investigate the proliferation resistance quantities of interest for these two streams."
   ]
  },
  {
   "cell_type": "code",
   "execution_count": 12,
   "metadata": {
    "collapsed": true
   },
   "outputs": [],
   "source": [
    "stage_energy = 90.17945712 # GWe-y; see footprint_data.ipynb"
   ]
  },
  {
   "cell_type": "code",
   "execution_count": 13,
   "metadata": {
    "collapsed": false,
    "scrolled": true
   },
   "outputs": [
    {
     "name": "stdout",
     "output_type": "stream",
     "text": [
      "Metric\t\t\tU/Pu mixture\tPure U stream\n",
      "------\t\t\t------------\t-------------\n",
      "Total fissile fraction\t7.69 %\t\t0.82 %\n",
      "Total decay heat\t1.95 W/kg\t0.0 W/kg\n",
      "Total Pu in stream\t0.25 t/GWe-y\tNone\n",
      "Fissile Pu fraction\t64.79 %\t\tNA\n",
      "Pu-238/Pu ratio\t\t2.64 %\t\tNA\n",
      "Pu decay heat\t\t18.19 W/kg\t0.0 W/kg\n",
      "Fissile U fraction\t0.82 %\t\t0.82 %\n",
      "(Pu + fissile U)/U238\t13.04 %\t\t0.83 %\n"
     ]
    }
   ],
   "source": [
    "# Calculation of metrics\n",
    "print('Metric'+'\\t\\t\\t'+'U/Pu mixture'+'\\t'+'Pure U stream')\n",
    "print('------'+'\\t\\t\\t'+'------------'+'\\t'+'-------------')\n",
    "# Total fissile\n",
    "print('Total fissile fraction'+'\\t'+str(round(100*total_fissile(lr1_upu),2))+' %'+\n",
    "      '\\t\\t'+str(round(100*total_fissile(lr1_u),2))+' %')\n",
    "# Total decay heat\n",
    "print('Total decay heat'+'\\t'+str(round(total_decay_heat(lr1_upu),2))+' W/kg'+\n",
    "      '\\t'+str(round(total_decay_heat(lr1_u),2))+' W/kg')\n",
    "# Total Pu\n",
    "pu_tot = lr1_upu.mass_fraction('pu')*lr1_upu.mass/1e6/stage_energy\n",
    "print('Total Pu in stream'+'\\t'+str(round(pu_tot,2))+' t/GWe-y'+\n",
    "      '\\t'+'None')\n",
    "# Fissile Pu\n",
    "print('Fissile Pu fraction'+'\\t'+str(round(100*fissile_pu_fraction(lr1_upu),2))+' %'+\n",
    "      '\\t\\t'+'NA')\n",
    "# Pu-238/Pu ratio\n",
    "print('Pu-238/Pu ratio'+'\\t\\t'+str(round(pu238_fraction(lr1_upu)*100, 2))+' %'+\n",
    "      '\\t\\t'+'NA')\n",
    "# Pu decay heat\n",
    "print('Pu decay heat'+'\\t\\t'+str(round(pu_decay_heat(lr1_upu),2))+' W/kg'+\n",
    "      '\\t'+'0.0 W/kg')\n",
    "# Fissile U\n",
    "print('Fissile U fraction'+'\\t'+str(round(100*fissile_u_fraction(lr1_upu),2))+' %'+\n",
    "      '\\t\\t'+str(round(100*fissile_u_fraction(lr1_u),2))+' %')\n",
    "# (Pu + fissile U)/U238 fraction\n",
    "print('(Pu + fissile U)/U238'+'\\t'+str(round(100*pu_fissile_u_fraction(lr1_upu),2))+' %'+\n",
    "      '\\t\\t'+str(round(100*pu_fissile_u_fraction(lr1_u),2))+' %')"
   ]
  },
  {
   "cell_type": "code",
   "execution_count": 47,
   "metadata": {
    "collapsed": false
   },
   "outputs": [],
   "source": [
    "lr1_upu.evaluationgroup = 'example-02'\n",
    "lr1_upu.stagenumber = 1"
   ]
  },
  {
   "cell_type": "code",
   "execution_count": 48,
   "metadata": {
    "collapsed": false
   },
   "outputs": [
    {
     "name": "stdout",
     "output_type": "stream",
     "text": [
      "4322599.11315\n"
     ]
    }
   ],
   "source": [
    "# CRITICAL MASS\n",
    "# Assume U stream is not fissile enough to be critical, focus on U/Pu mixture\n",
    "# den_uox = 10.97\n",
    "# den_puox = 11.50\n",
    "# den_upu = den_puox*lr1_upu.mass_fraction('pu')+den_uox*lr1_upu.mass_fraction('u')\n",
    "# bs_lr1_upu = sphere.BareSphere(lr1_upu, den_upu)\n",
    "# lr1_upu_cm = bs_lr1_upu.calculate_critical_mass(print_mcnp=True)\n",
    "# print(lr1_upu_cm)\n",
    "# ans: 4322599.11315"
   ]
  },
  {
   "cell_type": "markdown",
   "metadata": {},
   "source": [
    "The second stage of the limited-recycle fuel cycle produces used mixed oxide fuel, which is cooled and then directly disposed of in a geological repository. As with the once-through fuel cycle, we can apply these nonproliferation quantities of interest but acknowledge that acquiring special nuclear material directly from used fuel is difficult due to the intense radiation.\n",
    "\n",
    "MOX fuel is more difficult to handle than UNF due to the build-up of higher actinides from capture on U-238. The decay heat from Pu-238 and Am-241 make MOX fuel over 7x hotter than uranium oxide UNF."
   ]
  },
  {
   "cell_type": "code",
   "execution_count": 4,
   "metadata": {
    "collapsed": true
   },
   "outputs": [],
   "source": [
    "# Once-through fuel cycle\n",
    "lr2 = stage.Stage('example-02', 2)\n",
    "lr2_mox = lr2.discharge_streams()\n",
    "lr2_mox = lr2.cool(lr2_mox)#, rerun=False)"
   ]
  },
  {
   "cell_type": "code",
   "execution_count": 5,
   "metadata": {
    "collapsed": false
   },
   "outputs": [
    {
     "data": {
      "text/plain": [
       "213.44639510818229"
      ]
     },
     "execution_count": 5,
     "metadata": {},
     "output_type": "execute_result"
    }
   ],
   "source": [
    "lr2_mox.mass/1e6"
   ]
  },
  {
   "cell_type": "code",
   "execution_count": 6,
   "metadata": {
    "collapsed": true
   },
   "outputs": [],
   "source": [
    "stage_energy = 9.82054288 # GWe-y; see footprint_data.ipynb"
   ]
  },
  {
   "cell_type": "code",
   "execution_count": 7,
   "metadata": {
    "collapsed": false
   },
   "outputs": [
    {
     "name": "stdout",
     "output_type": "stream",
     "text": [
      "Metric\t\t\tMOX UNF\n",
      "------\t\t\t-------\n",
      "Total fissile fraction\t4.79 %\n",
      "Total decay heat\t7.41 W/kg\n",
      "Total Pu in MOX\t\t1.56 t/GWe-y\n",
      "Fissile Pu fraction\t61.01 %\n",
      "Pu-238/Pu ratio\t\t4.71 %\n",
      "Pu decay heat\t\t30.54 W/kg\n",
      "Fissile U fraction\t0.47 %\n",
      "(Pu + fissile U)/U238\t8.82 %\n"
     ]
    }
   ],
   "source": [
    "# Calculation of metrics\n",
    "print('Metric'+'\\t\\t\\t'+'MOX UNF')\n",
    "print('------'+'\\t\\t\\t'+'-------')\n",
    "# Total fissile\n",
    "print('Total fissile fraction'+'\\t'+str(round(100*total_fissile(lr2_mox),2))+' %')\n",
    "# Total decay heat\n",
    "print('Total decay heat'+'\\t'+str(round(total_decay_heat(lr2_mox),2))+' W/kg')\n",
    "# Total Pu in UNF\n",
    "pu_tot = lr2_mox.mass_fraction('pu')*lr2_mox.mass/1e6/stage_energy\n",
    "print('Total Pu in MOX'+'\\t\\t'+str(round(pu_tot,2))+' t/GWe-y')\n",
    "# Fissile Pu\n",
    "print('Fissile Pu fraction'+'\\t'+str(round(100*fissile_pu_fraction(lr2_mox),2))+' %')\n",
    "# Pu-238/Pu ratio\n",
    "print('Pu-238/Pu ratio'+'\\t\\t'+str(round(pu238_fraction(lr2_mox)*100, 2))+' %')\n",
    "# Pu decay heat\n",
    "print('Pu decay heat'+'\\t\\t'+str(round(pu_decay_heat(lr2_mox),2))+' W/kg')\n",
    "# Fissile U\n",
    "print('Fissile U fraction'+'\\t'+str(round(100*fissile_u_fraction(lr2_mox),2))+' %')\n",
    "# (Pu + fissile U)/U238 fraction\n",
    "print('(Pu + fissile U)/U238'+'\\t'+str(round(100*pu_fissile_u_fraction(lr2_mox),2))+' %')"
   ]
  },
  {
   "cell_type": "code",
   "execution_count": 8,
   "metadata": {
    "collapsed": false
   },
   "outputs": [
    {
     "name": "stdout",
     "output_type": "stream",
     "text": [
      "29444955.3524\n"
     ]
    }
   ],
   "source": [
    "# CRITICAL MASS\n",
    "# Assume U stream is not fissile enough to be critical, focus on U/Pu mixture\n",
    "# den_uox = 10.97\n",
    "# den_puox = 11.50\n",
    "# den_mox = den_puox*lr2_mox.mass_fraction('pu')+den_uox*lr2_mox.mass_fraction('u')\n",
    "# bs_lr2_mox = sphere.BareSphere(lr2_mox, den_mox)\n",
    "# lr2_mox_cm = bs_lr2_mox.calculate_critical_mass(print_mcnp=True)\n",
    "# print(lr2_mox_cm)\n",
    "# ans: 29444955.3524"
   ]
  },
  {
   "cell_type": "markdown",
   "metadata": {},
   "source": [
    "#### 2.3 Continuous-recycle fuel cycle\n",
    "\n",
    "The continuous-recycle fuel cycle is made up of two stages. In Stage 1, LEU is burned in a PWR to 50 GWd/t and cooled before being reprocessed by the new-extraction (NUEX) method. In Stage 2, the TRU recovered from the NUEX reprocessing is mixed with depleted uranium (DU) as well as reprocessed actinides from Stage 2 and burned in an SFR. The used SFR fuel is reprocessed via electrochemical (e-chem) reprocessing."
   ]
  },
  {
   "cell_type": "markdown",
   "metadata": {},
   "source": [
    "<img src=\"./img/continuous-recycle.png\">"
   ]
  },
  {
   "cell_type": "markdown",
   "metadata": {},
   "source": [
    "NUEX reprocessing of the used fuel in Stage 1 produces three output streams: (1) recovered transuranics, (2) recovered uranium, and (3) fission products. The recovered uranium has the same characteristics as the pure-uranium stream from the coextraction separation in Stage 1 of the limited-recycle fuel cycle. The fission products are not a proliferation concern. Therefore, in this section, we'll apply the metrics above to the TRU stream that is passed from Stage 1 to Stage 2."
   ]
  },
  {
   "cell_type": "code",
   "execution_count": 15,
   "metadata": {
    "collapsed": true
   },
   "outputs": [],
   "source": [
    "# Continuous-recycle fuel cycle (Stage 1)\n",
    "cr1 = stage.Stage('example-03', 1)\n",
    "cr1_unf = cr1.discharge_streams()\n",
    "cr1_unf = cr1.cool(cr1_unf, rerun=True)"
   ]
  },
  {
   "cell_type": "code",
   "execution_count": 16,
   "metadata": {
    "collapsed": false
   },
   "outputs": [],
   "source": [
    "cr1_u, cr1_tru = cr1.reprocess(cr1_unf, include='products')"
   ]
  },
  {
   "cell_type": "code",
   "execution_count": 17,
   "metadata": {
    "collapsed": true
   },
   "outputs": [],
   "source": [
    "stage_energy = 38.6644321 # GWe-y; see footprint_data.ipynb"
   ]
  },
  {
   "cell_type": "code",
   "execution_count": 18,
   "metadata": {
    "collapsed": false
   },
   "outputs": [
    {
     "name": "stdout",
     "output_type": "stream",
     "text": [
      "Metric\t\t\tTRU UNF\n",
      "------\t\t\t-------\n",
      "Total fissile fraction\t58.18 %\n",
      "Total decay heat\t35.95 W/kg\n",
      "Total Pu in TRU product\t0.25 t/GWe-y\n",
      "Fissile Pu fraction\t64.82 %\n",
      "Pu-238/Pu ratio\t\t2.64 %\n",
      "Pu decay heat\t\t18.16 W/kg\n",
      "Total decay heat\t35.95 W/kg\n"
     ]
    }
   ],
   "source": [
    "# Calculation of metrics\n",
    "print('Metric'+'\\t\\t\\t'+'TRU UNF')\n",
    "print('------'+'\\t\\t\\t'+'-------')\n",
    "# Total fissile\n",
    "print('Total fissile fraction'+'\\t'+str(round(100*total_fissile(cr1_tru),2))+' %')\n",
    "# Total decay heat\n",
    "print('Total decay heat'+'\\t'+str(round(total_decay_heat(cr1_tru),2))+' W/kg')\n",
    "# Total Pu in UNF\n",
    "pu_tot = cr1_tru.mass_fraction('pu')*cr1_tru.mass/1e6/stage_energy\n",
    "print('Total Pu in TRU product'+'\\t'+str(round(pu_tot,2))+' t/GWe-y')\n",
    "# Fissile Pu\n",
    "print('Fissile Pu fraction'+'\\t'+str(round(100*fissile_pu_fraction(cr1_tru),2))+' %')\n",
    "# Pu-238/Pu ratio\n",
    "print('Pu-238/Pu ratio'+'\\t\\t'+str(round(pu238_fraction(cr1_tru)*100, 2))+' %')\n",
    "# Pu decay heat\n",
    "print('Pu decay heat'+'\\t\\t'+str(round(pu_decay_heat(cr1_tru),2))+' W/kg')\n",
    "# Total decay heat\n",
    "print('Total decay heat'+'\\t'+str(round(total_decay_heat(cr1_tru),2))+' W/kg')\n",
    "# Fissile U: NA\n",
    "# (Pu + fissile U)/U238 fraction: NA"
   ]
  },
  {
   "cell_type": "code",
   "execution_count": 26,
   "metadata": {
    "collapsed": false
   },
   "outputs": [],
   "source": [
    "den_npox = 11.10\n",
    "den_puox = 11.50\n",
    "den_amox = 11.68"
   ]
  },
  {
   "cell_type": "code",
   "execution_count": 27,
   "metadata": {
    "collapsed": false
   },
   "outputs": [
    {
     "name": "stdout",
     "output_type": "stream",
     "text": [
      "46421.5161524\n"
     ]
    }
   ],
   "source": [
    "# CRITICAL MASS\n",
    "# Assume U stream is not fissile enough to be critical, focus on TRU mixture\n",
    "# den_tru = (den_npox*cr1_tru.mass_fraction('np')+\n",
    "#            den_puox*cr1_tru.mass_fraction('pu')+\n",
    "#            den_amox*cr1_tru.mass_fraction('am')) # covers 99% of mass\n",
    "# bs_cr1_tru = sphere.BareSphere(cr1_tru, den_tru)\n",
    "# cr1_tru_cm = bs_cr1_tru.calculate_critical_mass(print_mcnp=True)\n",
    "# print(cr1_tru_cm)\n",
    "# ans: 46421.5161524"
   ]
  },
  {
   "cell_type": "markdown",
   "metadata": {},
   "source": [
    "In Stage 2 of the continuous-recycle fuel cycle, the TRU recovered from Stage 1 is recycled in SFRs. The product streams from the electrochemical reprocessing of the SFR used fuel are: (1) a stream pure uranium; and (2) a stream of TRU. These may be mixed in some way in the manufactoring of the SFR fuel but will be analyzed separately here."
   ]
  },
  {
   "cell_type": "code",
   "execution_count": 28,
   "metadata": {
    "collapsed": true
   },
   "outputs": [],
   "source": [
    "# Continuous-recycle fuel cycle (Stage 2)\n",
    "cr2 = stage.Stage('example-03', 2)\n",
    "cr2_unf = cr2.discharge_streams()\n",
    "cr2_unf = cr2.cool(cr2_unf)"
   ]
  },
  {
   "cell_type": "code",
   "execution_count": 29,
   "metadata": {
    "collapsed": true
   },
   "outputs": [],
   "source": [
    "cr2_u, cr2_tru = cr2.reprocess(cr2_unf, include='products')"
   ]
  },
  {
   "cell_type": "code",
   "execution_count": 30,
   "metadata": {
    "collapsed": false
   },
   "outputs": [],
   "source": [
    "stage_energy = 61.3355679 # GWe-y; see footprint_data.ipynb"
   ]
  },
  {
   "cell_type": "code",
   "execution_count": 31,
   "metadata": {
    "collapsed": false
   },
   "outputs": [
    {
     "name": "stdout",
     "output_type": "stream",
     "text": [
      "Metric\t\t\tTRU product\tU product\n",
      "------\t\t\t-----------\t---------\n",
      "Total fissile fraction\t52.92 %\t\t0.04 %\n",
      "Total decay heat\t56.06 W/kg\t0.0 W/kg\n",
      "Total Pu in stream\t1.45 t/GWe-y\tNone\n",
      "Fissile Pu fraction\t57.26 %\t\tNA\n",
      "Pu-238/Pu ratio\t\t2.7 %\t\tNA\n",
      "Pu decay heat\t\t18.82 W/kg\t0.0 W/kg\n",
      "Fissile U fraction\tNA\t\t0.04 %\n",
      "(Pu + fissile U)/U238\tNA\t\t0.04 %\n"
     ]
    }
   ],
   "source": [
    "# Calculation of metrics\n",
    "print('Metric'+'\\t\\t\\t'+'TRU product'+'\\t'+'U product')\n",
    "print('------'+'\\t\\t\\t'+'-----------'+'\\t'+'---------')\n",
    "# Total fissile\n",
    "print('Total fissile fraction'+'\\t'+str(round(100*total_fissile(cr2_tru),2))+' %'\n",
    "      '\\t\\t'+str(round(100*total_fissile(cr2_u),2))+' %')\n",
    "# Total decay heat\n",
    "print('Total decay heat'+'\\t'+str(round(total_decay_heat(cr2_tru),2))+' W/kg'+\n",
    "      '\\t'+str(round(total_decay_heat(cr2_u),2))+' W/kg')\n",
    "# Total Pu\n",
    "pu_tot = cr2_tru.mass_fraction('pu')*cr2_tru.mass/1e6/stage_energy\n",
    "print('Total Pu in stream'+'\\t'+str(round(pu_tot,2))+' t/GWe-y'+\n",
    "      '\\t'+'None')\n",
    "# Fissile Pu\n",
    "print('Fissile Pu fraction'+'\\t'+str(round(100*fissile_pu_fraction(cr2_tru),2))+' %'+\n",
    "      '\\t\\t'+'NA')\n",
    "# Pu-238/Pu ratio\n",
    "print('Pu-238/Pu ratio'+'\\t\\t'+str(round(pu238_fraction(cr2_tru)*100, 2))+' %'+\n",
    "      '\\t\\t'+'NA')\n",
    "# Pu decay heat\n",
    "print('Pu decay heat'+'\\t\\t'+str(round(pu_decay_heat(cr2_tru),2))+' W/kg'+\n",
    "      '\\t'+'0.0 W/kg')\n",
    "# Fissile U\n",
    "print('Fissile U fraction'+'\\t'+'NA'+'\\t\\t'+str(round(100*fissile_u_fraction(cr2_u),2))+' %')\n",
    "# (Pu + fissile U)/U238 fraction\n",
    "print('(Pu + fissile U)/U238'+'\\t'+'NA'+'\\t\\t'+str(round(100*pu_fissile_u_fraction(cr2_u),2))+' %')\n"
   ]
  },
  {
   "cell_type": "code",
   "execution_count": 38,
   "metadata": {
    "collapsed": false
   },
   "outputs": [
    {
     "name": "stdout",
     "output_type": "stream",
     "text": [
      "16128.8480793\n"
     ]
    }
   ],
   "source": [
    "# # CRITICAL MASS\n",
    "# # Assume U stream is not fissile enough to be critical, focus on TRU mixture\n",
    "# den_np = 20.25\n",
    "# den_pu = 19.84\n",
    "# den_am = 13.69\n",
    "# den_cm = 13.51\n",
    "# den_tru = (den_np*cr2_tru.mass_fraction('np')+\n",
    "#            den_pu*cr2_tru.mass_fraction('pu')+\n",
    "#            den_am*cr2_tru.mass_fraction('am')+\n",
    "#            den_cm*cr2_tru.mass_fraction('cm')) # covers 99% of mass\n",
    "# bs_cr2_tru = sphere.BareSphere(cr2_tru, den_tru)\n",
    "# cr2_tru_cm = bs_cr2_tru.calculate_critical_mass(print_mcnp=True)\n",
    "# print(cr2_tru_cm)\n",
    "# ans: 16128.8480793"
   ]
  }
 ],
 "metadata": {
  "anaconda-cloud": {},
  "kernelspec": {
   "display_name": "Python [Root]",
   "language": "python",
   "name": "Python [Root]"
  },
  "language_info": {
   "codemirror_mode": {
    "name": "ipython",
    "version": 2
   },
   "file_extension": ".py",
   "mimetype": "text/x-python",
   "name": "python",
   "nbconvert_exporter": "python",
   "pygments_lexer": "ipython2",
   "version": "2.7.12"
  }
 },
 "nbformat": 4,
 "nbformat_minor": 0
}
