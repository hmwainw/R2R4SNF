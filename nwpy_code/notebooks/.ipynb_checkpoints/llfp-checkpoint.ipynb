{
 "cells": [
  {
   "cell_type": "markdown",
   "metadata": {},
   "source": [
    "# Long-Lived Fission Product inventory calculations\n",
    "\n",
    "Milos Atz\n",
    "\n",
    "2019-06-21"
   ]
  },
  {
   "cell_type": "code",
   "execution_count": 2,
   "metadata": {
    "collapsed": true
   },
   "outputs": [],
   "source": [
    "import nwpy\n",
    "from nwpy import stage\n",
    "from nwpy import fuelcycle"
   ]
  },
  {
   "cell_type": "code",
   "execution_count": 59,
   "metadata": {
    "collapsed": true
   },
   "outputs": [],
   "source": [
    "evaluationgroups = ['eg01','eg02','eg03','eg04','eg05','eg06','eg07','eg08','eg09','eg10',\n",
    "                    'eg11','eg12','eg13','eg14','eg15','eg16','eg17','eg18','eg19','eg20',\n",
    "                    'eg21','eg22','eg23','eg24','eg25','eg26','eg27','eg28','eg29','eg30',\n",
    "                    'eg31','eg32','eg33','eg34','eg35','eg36','eg37','eg38','eg39','eg40']"
   ]
  },
  {
   "cell_type": "code",
   "execution_count": 52,
   "metadata": {
    "collapsed": true
   },
   "outputs": [],
   "source": [
    "llfp = ['se79', 'tc99', 'sn126', 'i129', 'cs135']"
   ]
  },
  {
   "cell_type": "code",
   "execution_count": 53,
   "metadata": {
    "collapsed": true
   },
   "outputs": [],
   "source": [
    "def get_llfp(eg):\n",
    "    inventory = {}\n",
    "    fc = fuelcycle.FuelCycle(eg)\n",
    "    for stg in xrange(1, fc.totalstages+1):\n",
    "        inventory[stg] = {}\n",
    "        s = stage.Stage(eg, stg)\n",
    "        strm = s.discharge_streams()\n",
    "        strm = s.cool(strm)\n",
    "        strm = s.reprocess(strm)\n",
    "        if(not hasattr(strm, 'index')):\n",
    "            strm = [strm]\n",
    "        for fp in llfp:\n",
    "            inventory[stg][fp] = 0.0\n",
    "            for substrm in strm:\n",
    "                inventory[stg][fp] += substrm.mass_fraction(fp)*substrm.mass\n",
    "    return(inventory)     "
   ]
  },
  {
   "cell_type": "code",
   "execution_count": 54,
   "metadata": {
    "collapsed": false
   },
   "outputs": [],
   "source": [
    "result = {}\n",
    "for eg_i in evaluationgroups:"
   ]
  },
  {
   "cell_type": "code",
   "execution_count": 55,
   "metadata": {
    "collapsed": false
   },
   "outputs": [
    {
     "data": {
      "text/plain": [
       "{1: {'cs135': 1414000.0,\n",
       "  'i129': 599400.0,\n",
       "  'se79': 19430.0,\n",
       "  'sn126': 93090.0,\n",
       "  'tc99': 2483000.0}}"
      ]
     },
     "execution_count": 55,
     "metadata": {},
     "output_type": "execute_result"
    }
   ],
   "source": [
    "x"
   ]
  },
  {
   "cell_type": "code",
   "execution_count": 40,
   "metadata": {
    "collapsed": false
   },
   "outputs": [
    {
     "data": {
      "text/plain": [
       "FuelCycle instance: eg01"
      ]
     },
     "execution_count": 40,
     "metadata": {},
     "output_type": "execute_result"
    }
   ],
   "source": [
    "fc"
   ]
  },
  {
   "cell_type": "code",
   "execution_count": 56,
   "metadata": {
    "collapsed": false
   },
   "outputs": [],
   "source": [
    "s = stage.Stage('eg09', 1)"
   ]
  },
  {
   "cell_type": "code",
   "execution_count": 57,
   "metadata": {
    "collapsed": false
   },
   "outputs": [],
   "source": [
    "strm = s.discharge_streams()\n",
    "strm = s.cool(strm)\n",
    "strm = s.reprocess(strm)"
   ]
  },
  {
   "cell_type": "code",
   "execution_count": 58,
   "metadata": {
    "collapsed": false
   },
   "outputs": [
    {
     "data": {
      "text/plain": [
       "[Stream instance: skull,\n",
       " Stream instance: gas,\n",
       " Stream instance: skull,\n",
       " Stream instance: gas,\n",
       " Stream instance: skull,\n",
       " Stream instance: gas,\n",
       " Stream instance: batch8_df]"
      ]
     },
     "execution_count": 58,
     "metadata": {},
     "output_type": "execute_result"
    }
   ],
   "source": [
    "strm"
   ]
  },
  {
   "cell_type": "code",
   "execution_count": 47,
   "metadata": {
    "collapsed": false
   },
   "outputs": [
    {
     "data": {
      "text/plain": [
       "[Stream instance: snf]"
      ]
     },
     "execution_count": 47,
     "metadata": {},
     "output_type": "execute_result"
    }
   ],
   "source": [
    "strm = [strm]"
   ]
  },
  {
   "cell_type": "code",
   "execution_count": 51,
   "metadata": {
    "collapsed": false
   },
   "outputs": [
    {
     "name": "stdout",
     "output_type": "stream",
     "text": [
      "0.0\n"
     ]
    }
   ],
   "source": [
    "for substrm in strm:\n",
    "    print substrm.mass_fraction('cs-135')*substrm.mass"
   ]
  },
  {
   "cell_type": "code",
   "execution_count": null,
   "metadata": {
    "collapsed": true
   },
   "outputs": [],
   "source": []
  }
 ],
 "metadata": {
  "anaconda-cloud": {},
  "kernelspec": {
   "display_name": "Python [anaconda2]",
   "language": "python",
   "name": "Python [anaconda2]"
  },
  "language_info": {
   "codemirror_mode": {
    "name": "ipython",
    "version": 2
   },
   "file_extension": ".py",
   "mimetype": "text/x-python",
   "name": "python",
   "nbconvert_exporter": "python",
   "pygments_lexer": "ipython2",
   "version": "2.7.12"
  }
 },
 "nbformat": 4,
 "nbformat_minor": 0
}
