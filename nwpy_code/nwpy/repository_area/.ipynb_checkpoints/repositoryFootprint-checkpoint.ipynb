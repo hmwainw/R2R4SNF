{
 "cells": [
  {
   "cell_type": "markdown",
   "metadata": {},
   "source": [
    "# Calculation of Repository Footprint\n",
    "\n",
    "Milos Atz\n",
    "\n",
    "Nuclear Waste Management Group, University of California, Berkeley\n",
    "\n",
    "2018-09-16"
   ]
  },
  {
   "cell_type": "code",
   "execution_count": 1,
   "metadata": {
    "collapsed": false
   },
   "outputs": [],
   "source": [
    "import repository"
   ]
  },
  {
   "cell_type": "markdown",
   "metadata": {},
   "source": [
    "For a square array of heat-emitting canisters in a constant-contact geological repository, calculates the minimum required area per canister given the repository thermal constraints."
   ]
  },
  {
   "cell_type": "markdown",
   "metadata": {},
   "source": [
    "## Inputs\n",
    "\n",
    "Thermal analysis of the repository requires knowledge of three aspects of the system and their properties:\n",
    "\n",
    "1. Repository host rock\n",
    "2. Waste type\n",
    "3. Package loading\n",
    "4. Surface storage time\n",
    "\n"
   ]
  },
  {
   "cell_type": "markdown",
   "metadata": {},
   "source": [
    "#### Rock type\n",
    "The host rock type determines the thermal properties of host rock\n",
    "* Thermal conductivity\n",
    "* Thermal diffusivity"
   ]
  },
  {
   "cell_type": "code",
   "execution_count": 8,
   "metadata": {
    "collapsed": true
   },
   "outputs": [],
   "source": [
    "rock_type = 'granite'"
   ]
  },
  {
   "cell_type": "markdown",
   "metadata": {},
   "source": [
    "#### Waste type\n",
    "\n",
    "Along with the host rock type, the waste type determines the repository design parameters. Therefore, choice of those inputs automatically determines the disposal concept.\n",
    "* EBS design (materials, dimensions)\n",
    "* Thermal properties of EBS materials\n",
    "* Heat generation rate (W/wasteform)"
   ]
  },
  {
   "cell_type": "code",
   "execution_count": 9,
   "metadata": {
    "collapsed": true
   },
   "outputs": [],
   "source": [
    "waste_type = 'uox'"
   ]
  },
  {
   "cell_type": "markdown",
   "metadata": {},
   "source": [
    "#### Package loading\n",
    "\n",
    "The package loading defines the number of waste forms emplaced in each waste package."
   ]
  },
  {
   "cell_type": "code",
   "execution_count": 10,
   "metadata": {
    "collapsed": true
   },
   "outputs": [],
   "source": [
    "n_wf = 4"
   ]
  },
  {
   "cell_type": "markdown",
   "metadata": {},
   "source": [
    "#### Surface storage time\n",
    "\n",
    "The user specifies the surface storage time, the time after reactor discharge the waste spends on the surface before disposal in the geologic repository"
   ]
  },
  {
   "cell_type": "code",
   "execution_count": 12,
   "metadata": {
    "collapsed": true
   },
   "outputs": [],
   "source": [
    "storagetime =80.0 # years"
   ]
  },
  {
   "cell_type": "markdown",
   "metadata": {},
   "source": [
    "Given these inputs, we can instantiate and modify the array of waste packages we made initially that we can use to calculate the footprint required per package. The surface storage time can be input when the array is instantiated, when the waste is loaded, or updated manually."
   ]
  },
  {
   "cell_type": "code",
   "execution_count": 14,
   "metadata": {
    "collapsed": false
   },
   "outputs": [],
   "source": [
    "c = repository.Array(rock_type)\n",
    "# can specify storage time here:\n",
    "# c = repository.Array(rock_type, st=storagetime)\n",
    "file = waste_type+'-'+str(n_wf)+'.csv'\n",
    "# or can specify storage time here:\n",
    "c.load_waste_from_file('./data/waste/'+file, st=storagetime)\n",
    "# ...or here:\n",
    "#c.update_st(storagetime)"
   ]
  },
  {
   "cell_type": "markdown",
   "metadata": {},
   "source": [
    "## Calculation\n",
    "\n",
    "The calculation for repository footprint first checks whether the disposal of a single canister is possible. If so, the calculation begins for a $N \\times N$ array of packages, where $N=9$. Once the required footprint is determined, the sensitivity of the temperature constraint to packages outside this array is evaluated. This becomes significant when the spacing between packages in the array becomes very small. If greater than 5%, the calculation is repeated with $N+2 \\times N+2$. This process is repeated until the effect of outside canisters is less than 5%.\n",
    "\n",
    "The function returns the area-per-package (APP) required for disposal of a certain type of waste. In adjacent notebooks, this value is multiplied by the number of canisters of that waste produced in some fuel cycle to determine the total disposal area for that waste."
   ]
  },
  {
   "cell_type": "code",
   "execution_count": 16,
   "metadata": {
    "collapsed": false,
    "scrolled": false
   },
   "outputs": [],
   "source": [
    "app = c.array_iter(guess=None, log=False)\n",
    "# Guess: 2-item list containing guess for drift and package spacing (m)\n",
    "# log: Boolean indicating whether you want an output file"
   ]
  },
  {
   "cell_type": "code",
   "execution_count": 8,
   "metadata": {
    "collapsed": false
   },
   "outputs": [
    {
     "name": "stdout",
     "output_type": "stream",
     "text": [
      "130.43888957\n"
     ]
    }
   ],
   "source": [
    "print app"
   ]
  }
 ],
 "metadata": {
  "anaconda-cloud": {},
  "kernelspec": {
   "display_name": "Python [Root]",
   "language": "python",
   "name": "Python [Root]"
  },
  "language_info": {
   "codemirror_mode": {
    "name": "ipython",
    "version": 2
   },
   "file_extension": ".py",
   "mimetype": "text/x-python",
   "name": "python",
   "nbconvert_exporter": "python",
   "pygments_lexer": "ipython2",
   "version": "2.7.12"
  }
 },
 "nbformat": 4,
 "nbformat_minor": 0
}
