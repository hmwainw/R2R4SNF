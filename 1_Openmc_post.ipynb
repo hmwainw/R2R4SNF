{
 "cells": [
  {
   "cell_type": "markdown",
   "id": "e2357369",
   "metadata": {},
   "source": [
    "# OpenMC Post-Processing"
   ]
  },
  {
   "cell_type": "markdown",
   "id": "9d053774",
   "metadata": {},
   "source": [
    "### This notebook reads OpenMC output files for all the reactors, and computes SNF metrics, including mass, volume, activity, radiotoxicity and decay heat"
   ]
  },
  {
   "cell_type": "code",
   "execution_count": null,
   "id": "204ba86f",
   "metadata": {},
   "outputs": [],
   "source": [
    "# Import the python modules and openmc modules \n",
    "%matplotlib inline\n",
    "import openmc\n",
    "import openmc.deplete\n",
    "import math\n",
    "import pandas as pd\n",
    "import matplotlib.pyplot as plt\n",
    "import numpy as np"
   ]
  },
  {
   "cell_type": "code",
   "execution_count": 2,
   "id": "705475c9",
   "metadata": {},
   "outputs": [],
   "source": [
    "# Path to the decay chain file used for the simulation\n",
    "openmc.config['chain_file']='./nuclear_data/chain_endfb71_pwr.xml'"
   ]
  },
  {
   "cell_type": "markdown",
   "id": "8ee063c0",
   "metadata": {},
   "source": [
    "## Functions"
   ]
  },
  {
   "cell_type": "code",
   "execution_count": 3,
   "id": "3fa36adb",
   "metadata": {},
   "outputs": [],
   "source": [
    "def get_results(reactor, primary_path):\n",
    "    \"\"\"\n",
    "    Read and return the results from the depletion simulation for one reactor\n",
    "    \"\"\"\n",
    "    ## ---- Parameters: \n",
    "    # reactor (str) - reactor name\n",
    "    # primary_path (str) - a path to the directory in which openmc files are stored\n",
    "    ## ---- Returns: \n",
    "    # results - openmc depletion calculation results\n",
    "    \n",
    "    results_file = primary_path+ \"depletion_results.h5\" # path to the depletion_results.h5 file\n",
    "    results      = openmc.deplete.Results(results_file)\n",
    "    \n",
    "    return results"
   ]
  },
  {
   "cell_type": "code",
   "execution_count": 4,
   "id": "2f264ed0",
   "metadata": {},
   "outputs": [],
   "source": [
    "def get_crit_param(results):\n",
    "    \"\"\"\n",
    "    Read the result file and create a list with [time (d), keff, k uncerntainty, discharge step] \n",
    "\n",
    "    \"\"\"\n",
    "    ## ---- Parameters: \n",
    "    #  results - openmc depletion calculation results\n",
    "    ## ---- Returns: \n",
    "    #  crit_param (tuple) - the criticality prameters including:\n",
    "    #    - time - time in years\n",
    "    #    - keff - k-effective as a function of time\n",
    "    #    - discharge - discharge time step\n",
    "    \n",
    "    time, k     = results.get_keff()\n",
    "    keff        = k[:,0]\n",
    "    n_discharge = np.max(np.nonzero(keff))\n",
    "    crit_param  = (time/(24*60*60), keff, n_discharge)\n",
    "    \n",
    "    return crit_param"
   ]
  },
  {
   "cell_type": "code",
   "execution_count": 5,
   "id": "fbb33321",
   "metadata": {},
   "outputs": [],
   "source": [
    "def get_keff_final(crit_param):\n",
    "    \"\"\"\n",
    "    Return the last value of keff\n",
    "    \"\"\"\n",
    "    ## ---- Parameters: \n",
    "    #  crit_param (tuple) - the result from get_crit_param(results)\n",
    "    ## ---- Returns: \n",
    "    #  keff_final including\n",
    "    #  time[n] - the time of discharge\n",
    "    #  keff[n] - k_eff at the time of discharge\n",
    "    \n",
    "    n_discharge = crit_param[2]\n",
    "    time        = crit_param[0]\n",
    "    keff        = crit_param[1]\n",
    "\n",
    "    keff_final  = (time[n_discharge],keff[n_discharge])\n",
    "    \n",
    "    return keff_final"
   ]
  },
  {
   "cell_type": "code",
   "execution_count": 6,
   "id": "09f99f77",
   "metadata": {},
   "outputs": [],
   "source": [
    "def number_steps(crit_param):\n",
    "    \"\"\"\n",
    "    Return the number of steps of the enire simulation\n",
    "    \"\"\"\n",
    "    ## ---- Parameters: \n",
    "    #  crit_param (tuple) - the result from get_crit_param(results)\n",
    "    #  reactor(str) - reactor name\n",
    "    ## ---- Returns: \n",
    "    #  n - the number of time steps\n",
    "    \n",
    "    time  = crit_param[0]\n",
    "    n_tot = len(time)\n",
    "    \n",
    "    return n_tot"
   ]
  },
  {
   "cell_type": "code",
   "execution_count": 7,
   "id": "ec0b76ac",
   "metadata": {},
   "outputs": [],
   "source": [
    "def conv_GWe_y(value, reactor): # value should be given in value/gHM\n",
    "    \"\"\"\n",
    "    Convert the output data (activity, decay heat...) from /gHM to /GWe.y\n",
    "    \"\"\"\n",
    "    ## ---- Parameters: \n",
    "    #  value - the value to be converted to per electricity production\n",
    "    #  reactor(str) - reactor name\n",
    "    ## ---- Returns: \n",
    "    #  value per electricity production\n",
    "    \n",
    "    param = get_parameters(reactor)\n",
    "    \n",
    "    return value*365/(param[2]*param[1]*(10**-6))"
   ]
  },
  {
   "cell_type": "code",
   "execution_count": 8,
   "id": "017a1f27",
   "metadata": {},
   "outputs": [],
   "source": [
    "def get_snf_composition(primary_path, results, crit_param, id_mat):\n",
    "    \"\"\"\n",
    "    Radionucide Composition of SNF---\n",
    "    Create a collection of OpenMC Material with the spent fuel material at each stage\n",
    "    crit_param is a list containing [time, keff, kun, discharge step]\n",
    "    id_mat correspond to the ID of the depleted material (usually '1' for the fuel)\n",
    "    \"\"\"\n",
    "    ## ---- Parameters: \n",
    "    #  primary_path (str) - a path to the directory in which openmc files are stored\n",
    "    #  results - openmc depletion calculation results\n",
    "    #  crit_param (tuple) - the result from get_crit_param(results)\n",
    "    #  id_mat - the ID of the depleted material (usually '1' for the fuel)\n",
    "    ## ---- Returns: \n",
    "    #  snf_composition - a collection of OpenMC Material with the spent fuel material at each time step\n",
    "    \n",
    "    n_tot           = number_steps(crit_param)\n",
    "    snf_composition = [results.export_to_materials(burnup_index=i,path=primary_path+ 'materials.xml')[int(id_mat)-1] for i in range(n_tot) ]# burnup index= step number, path=path to the materials.xml file use for the simulation\n",
    "\n",
    "    return snf_composition"
   ]
  },
  {
   "cell_type": "code",
   "execution_count": 3,
   "id": "1735deb4",
   "metadata": {},
   "outputs": [],
   "source": [
    "def get_power(param, crit_param):\n",
    "    \"\"\"\n",
    "    Burnup at each time steps---\n",
    "    Return a list with the value of the input power during operation and discharge\n",
    "    \"\"\"\n",
    "    ## ---- Parameters: \n",
    "    #  param - reactor parameters\n",
    "    #  crit_param (tuple) - the result from get_crit_param(results)\n",
    "    ## ---- Returns: \n",
    "    #  power - total power out during operation and after discharge\n",
    "    \n",
    "    n_discharge = crit_param[2] # discharge step\n",
    "    n_tot       = number_steps(crit_param) # total time step\n",
    "    \n",
    "    power   = [param[0] for i in range(n_discharge+1)]\n",
    "    cooling = [0 for i in range(n_tot - n_discharge-1)]\n",
    "    power   = power+cooling\n",
    "    \n",
    "    return power"
   ]
  },
  {
   "cell_type": "code",
   "execution_count": 10,
   "id": "81935d4f",
   "metadata": {},
   "outputs": [],
   "source": [
    "def get_burnup(power, snf_composition, crit_param): # time must be given in days\n",
    "    \"\"\"\n",
    "    Return a list with the value of the burnup at each time step\n",
    "    \"\"\"\n",
    "    ## ---- Parameters: \n",
    "    #  power - total power out during operation and after discharge from power_evolution()  \n",
    "    #  crit_param (tuple) - the result from get_crit_param(results)\n",
    "    #  snf_composition - a collection of OpenMC Material with the spent nuclear fuel material composition at each time step\n",
    "    ## ---- Returns: \n",
    "    #  burnup_step - burnup at each time step\n",
    "       \n",
    "    fis_mass = snf_composition[0].fissionable_mass  \n",
    "    time     = crit_param[0]\n",
    "    \n",
    "    burnup =[time[i]*power[i]/((10**3)*fis_mass) for i in range(len(time))]\n",
    "    \n",
    "    return burnup"
   ]
  },
  {
   "cell_type": "code",
   "execution_count": 11,
   "id": "7e3ddadf",
   "metadata": {},
   "outputs": [],
   "source": [
    "def get_activity(snf_composition, crit_param):\n",
    "    \"\"\"\n",
    "    Activity of the spent fuel---\n",
    "    Create a dataframe with the activity of the spent fuel at each time step, for each nuclide\n",
    "    material collec is the collection of materials obtained with material_collection\n",
    "    \"\"\"\n",
    "    ## ---- Parameters: \n",
    "    #  snf_composition - a collection of OpenMC Material with the spent fuel material at each time step\n",
    "    #  crit_param (tuple) - the result from crit_param(results)\n",
    "    ## ---- Returns: \n",
    "    #  df_snf - dataframe containing the activity of each radionuclide in SNF at each time step\n",
    "    \n",
    "    n_tot = number_steps(crit_param)    \n",
    "    time  = crit_param[0]\n",
    "    \n",
    "    df_act = pd.DataFrame()\n",
    "    for i in range (n_tot):\n",
    "        act       = snf_composition[i].get_activity(by_nuclide=True, units='Bq/g')\n",
    "        df_act[i] = pd.DataFrame.from_dict(act, orient='index', columns=[i])\n",
    "    \n",
    "    df_act.columns=time\n",
    "    \n",
    "    return df_act"
   ]
  },
  {
   "cell_type": "code",
   "execution_count": 12,
   "id": "052cd39e",
   "metadata": {
    "scrolled": true
   },
   "outputs": [],
   "source": [
    "def get_activity_tot(snf_composition, crit_param): \n",
    "    \"\"\"\n",
    "    Create a dataframe with the total activity(Bq/g) of the spent fuel at each time step\n",
    "    \"\"\"\n",
    "    ## ---- Parameters: \n",
    "    #  snf_composition - a collection of OpenMC Material with the spent fuel material at each time step\n",
    "    #  crit_param (tuple) - the result from get_crit_param(results)\n",
    "    ## ---- Returns: \n",
    "    #  df_act - dataframe containing the total activity(Bq/g) of the spent fuel at each time step\n",
    "\n",
    "    n_tot = number_steps(crit_param)    \n",
    "    time  = crit_param[0]\n",
    "    \n",
    "    act_tot = [snf_composition[i].get_activity(by_nuclide=False, units='Bq/g') for i in range(n_tot)]\n",
    "    df_act  = pd.DataFrame(act_tot, index=time, columns=['Total_Activity (Bq/g)'])\n",
    "    \n",
    "    return df_act"
   ]
  },
  {
   "cell_type": "code",
   "execution_count": 13,
   "id": "6bd4832f",
   "metadata": {},
   "outputs": [],
   "source": [
    "def get_decay_heat(snf_composition, crit_param):\n",
    "    \"\"\"\n",
    "    Decay heat of the spent fuel--\n",
    "    Create a dataframe with the decay heat of the spent fuel fro at each time step\n",
    "    \"\"\"\n",
    "    ## ---- Parameters: \n",
    "    #  snf_composition - a collection of OpenMC Material with the spent fuel material at each time step\n",
    "    #  crit_param (tuple) - the result from get_crit_param(results)\n",
    "    ## ---- Returns: \n",
    "    #  df_DH - dataframe containing the decay heat (W/g) of the spent fuel at each time step\n",
    "\n",
    "    n_tot = number_steps(crit_param)    \n",
    "    time  = crit_param[0]\n",
    "    \n",
    "    df_DH = pd.DataFrame()\n",
    "    for i in range(n_tot):\n",
    "        DH       = snf_composition[i].get_decay_heat(units= 'W/g', by_nuclide=True)\n",
    "        df_DH[i] = pd.DataFrame.from_dict(DH, orient='index', columns=[i])\n",
    "    \n",
    "    df_DH.columns=time\n",
    "    \n",
    "    return df_DH"
   ]
  },
  {
   "cell_type": "code",
   "execution_count": 14,
   "id": "c8211bf8",
   "metadata": {},
   "outputs": [],
   "source": [
    "def get_decay_heat_tot(snf_composition, crit_param):\n",
    "    \"\"\"\n",
    "    Create a dataframe with the total decay heat of the spent fuel at each time step\n",
    "    \"\"\"\n",
    "    ## ---- Parameters: \n",
    "    #  snf_composition - a collection of OpenMC Material with the spent fuel material at each time step\n",
    "    #  crit_param (tuple) - the result from get_crit_param(results)\n",
    "    ## ---- Returns: \n",
    "    #  df_DH - dataframe containing the total decay heat (W/g) of the spent fuel at each time step\n",
    "    n_tot = number_steps(crit_param)    \n",
    "    time  = crit_param[0]\n",
    "    \n",
    "    DH_tot     = [snf_composition[i].get_decay_heat(units='W/g',by_nuclide=False) for i in range(n_tot)]\n",
    "    df_DH_tot  = pd.DataFrame(DH_tot, index=time, columns=['Total_Decay_Heat (W/g)'])\n",
    "    \n",
    "    return df_DH_tot"
   ]
  },
  {
   "cell_type": "code",
   "execution_count": 15,
   "id": "6f69ffa8",
   "metadata": {},
   "outputs": [],
   "source": [
    "def get_toxicity(snf_composition, crit_param):\n",
    "    '''\n",
    "    Radiotoxicity---\n",
    "    Return the radiotoxicity for each nuclide\n",
    "    '''\n",
    "    ## ---- Parameters: \n",
    "    #  snf_composition - a collection of OpenMC Material with the spent fuel material at each time step\n",
    "    #  crit_param (tuple) - the result from get_crit_param(results)\n",
    "    ## ---- Returns: \n",
    "    #  df_tox - dataframe containing the radiotoxicity for each nuclide at each time step\n",
    "    \n",
    "    # Path to the CSV file containing the DCF/ MPC factors \n",
    "    df_DCF = pd.read_csv('DCF_ingestion.csv', sep=';')\n",
    "    df_DCF.set_index('Isotope', inplace=True) # Custom the dataframe\n",
    "    df_DCF = df_DCF.iloc[1:,:].dropna()\n",
    "\n",
    "    df_tox_mat = get_activity(snf_composition, crit_param) # dataframe containing the activity of each nuclide\n",
    "    df_tox = df_tox_mat.merge(df_DCF, left_index=True, right_index=True, how='inner') # merge the 2 dataframe\n",
    "    df_tox = df_tox.mul(df_tox['Conversion factors (Sv/Bq)'], axis='index') # multiply the activity by the dose conversion factor for each nuclide\n",
    "    df_tox = df_tox.iloc[:, :-1]\n",
    "    \n",
    "    return df_tox"
   ]
  },
  {
   "cell_type": "code",
   "execution_count": 16,
   "id": "33c88d8d",
   "metadata": {},
   "outputs": [],
   "source": [
    "def get_toxicity_tot(snf_composition, crit_param):\n",
    "    '''\n",
    "    Return the total radiotoxicity for each time step\n",
    "    '''\n",
    "    ## ---- Parameters: \n",
    "    #  snf_composition - a collection of OpenMC Material with the spent fuel material at each time step\n",
    "    #  crit_param (tuple) - the result from get_crit_param(results)\n",
    "    ## ---- Returns: \n",
    "    #  df_tox_tot - dataframe containing the total radiotoxicity at each time step\n",
    "       \n",
    "    time  = crit_param[0]\n",
    "    \n",
    "    df_tox = get_toxicity(snf_composition, crit_param)\n",
    "    df_tox_tot = df_tox.sum(axis=0)\n",
    "    df_tox_tot = df_tox_tot.transpose()\n",
    "    df_tox_tot = df_tox_tot.set_axis(time)\n",
    "    \n",
    "    return df_tox_tot"
   ]
  },
  {
   "cell_type": "code",
   "execution_count": 17,
   "id": "1b81a733",
   "metadata": {},
   "outputs": [],
   "source": [
    "def get_SNF_mass(param): \n",
    "    '''\n",
    "    Return SNF mass kg/MWe.year\n",
    "    '''\n",
    "    ## ---- Parameters: \n",
    "    #  param - reactor parameters \n",
    "    ## ---- Returns: \n",
    "    #  snf_mass - dataframe containing the total decay heat (W/g) of the spent fuel at each time step\n",
    "    \n",
    "    burnup_discharge = param[2]\n",
    "    efficiency       = param[1]\n",
    "    snf_mass         = 365/(burnup_discharge*efficiency)\n",
    "    \n",
    "    return snf_mass"
   ]
  },
  {
   "cell_type": "code",
   "execution_count": 18,
   "id": "3e541e80",
   "metadata": {},
   "outputs": [],
   "source": [
    "def get_SNF_volume(param, snf_composition):\n",
    "    '''\n",
    "    Return the SNF volume in m3/ GWe.year\n",
    "    '''\n",
    "    ## ---- Parameters: \n",
    "    #  snf_composition - a collection of OpenMC Material with the spent fuel material at each time step\n",
    "    #  param - reactor parameters \n",
    "    ## ---- Returns: \n",
    "    #  snf_volume = dataframe containing the total decay heat (W/g) of the spent fuel at each time step   \n",
    "    \n",
    "    volume_model = param[3]\n",
    "    \n",
    "    fiss_mass  = snf_composition[0].fissionable_mass\n",
    "\n",
    "    snf_mass   = get_SNF_mass(param)\n",
    "    snf_volume = volume_model*snf_mass/fiss_mass\n",
    "       \n",
    "    return snf_volume"
   ]
  },
  {
   "cell_type": "code",
   "execution_count": 19,
   "id": "0a523900",
   "metadata": {},
   "outputs": [],
   "source": [
    "def get_I129(results):\n",
    "    '''\n",
    "    Calculate I129 concentration in atom/cm3\n",
    "    '''\n",
    "    ## ---- Parameters: \n",
    "    #  results - openmc depletion calculation results\n",
    "    ## ---- Returns: \n",
    "    #  I129 - I129 concentration in atom/cm3\n",
    "    \n",
    "    _, I129 = results.get_atoms(\"1\", \"I129\", nuc_units='atom/cm3', time_units='d')\n",
    "    \n",
    "    return I129"
   ]
  },
  {
   "cell_type": "markdown",
   "id": "0bdee299",
   "metadata": {},
   "source": [
    "## Dataframe with all the results"
   ]
  },
  {
   "cell_type": "code",
   "execution_count": 20,
   "id": "903c7a0e",
   "metadata": {},
   "outputs": [],
   "source": [
    "def global_df(reactor, results):\n",
    "    '''\n",
    "    Return a dataframe containing the main metrics and parameters useful in the study\n",
    "    '''\n",
    "    df = pd.DataFrame()\n",
    "    \n",
    "    # Previous results\n",
    "    param      = get_parameters(reactor)\n",
    "    crit_param = get_crit_param(results)\n",
    "    \n",
    "    snf_composition = get_snf_composition(primary_path, results, crit_param, \"1\")\n",
    "    \n",
    "    n     = number_steps(crit_param)\n",
    "    power = get_power(param, crit_param)\n",
    "    \n",
    "    # Gather the information for the dataframe \n",
    "    df['keff'] = crit_param[1]\n",
    "    df.set_index(crit_param[0], inplace=True)\n",
    "    df['burnup'] = get_burnup(power, snf_composition, crit_param)\n",
    "    df['Power (W/cm)'] = power\n",
    "    df['Activity (Bq/g)'] = get_activity_tot(snf_composition, crit_param)\n",
    "    df['Activity (Ci/GWe.y)'] = conv_GWe_y(df['Activity (Bq/g)'], reactor)*27*(10**-12)\n",
    "    df['Decay heat (W/g)']=get_decay_heat_tot(snf_composition, crit_param)\n",
    "    df['Decay heat (W/GWe.y)'] = conv_GWe_y(df['Decay heat (W/g)'], reactor)\n",
    "    df['Radiotoxicity (Sv/g)'] = get_toxicity_tot(snf_composition, crit_param)\n",
    "    df['Radiotoxicity (Sv/GWe.y)'] = conv_GWe_y(df['Radiotoxicity (Sv/g)'], reactor)\n",
    "    df['I129 (atom/cm3)'] = get_I129(results)\n",
    "    df['I129 (atom/GWe.y)'] = df['I129 (atom/cm3)']*snf_composition[0].volume*365/(param[0]*get_keff_final(crit_param)[0]*param[1])*(10**9)\n",
    "    df['Efficiency']=param[1]\n",
    "    df['Volume Model (cm3)'] = param[3]\n",
    "    df['SNF mass (t/GWe.y)'] = get_SNF_mass(param)\n",
    "    df['SNF volume (m3/(GWe.y))'] = df['SNF mass (t/GWe.y)']*param[3]\n",
    "    df['discharge step'] = crit_param[2]\n",
    "    df['discharge time'] = get_keff_final(crit_param)[0]\n",
    "    df['volume_Ueq']= snf_composition[0].volume\n",
    "    df['mass U'] = snf_composition[0].fissionable_mass\n",
    "    return df"
   ]
  },
  {
   "cell_type": "code",
   "execution_count": 21,
   "id": "32f4ea46",
   "metadata": {},
   "outputs": [],
   "source": [
    "def by_nuclide(reactor, results):\n",
    "    '''\n",
    "    Return an array of dataframes with the activity, radiotoxicity, decay heat per nuclide at each time step\n",
    "    Make the comparison with detailed composition easier\n",
    "    '''\n",
    "    # Gather the parameters for the reactor\n",
    "    param = get_parameters(reactor)\n",
    "    crit_param = get_crit_param(results)\n",
    "    snf_composition = get_snf_composition(primary_path, results, crit_param, \"1\")\n",
    "    n_tot = number_steps(crit_param)\n",
    "    time = crit_param[0] # time steps\n",
    "    n_discharge = crit_param[2] # the time steps of the discharge step\n",
    "    \n",
    "    # Create the dataframe\n",
    "    df_act = get_activity(snf_composition, crit_param) # activity\n",
    "    df_DH  = get_decay_heat(snf_composition, crit_param) #decay heat\n",
    "    df_tox = get_toxicity(snf_composition, crit_param) # radiotoxicity\n",
    "    #Same dataframe in /GWe.y\n",
    "    df_act_conv = conv_GWe_y(df_act, reactor)\n",
    "    df_DH_conv  = conv_GWe_y(df_DH, reactor)\n",
    "    df_tox_conv = conv_GWe_y(df_tox, reactor)\n",
    "    return (df_act, df_DH, df_tox,time, n_discharge, df_act_conv, df_DH_conv, df_tox_conv)"
   ]
  },
  {
   "cell_type": "code",
   "execution_count": 22,
   "id": "52a14a8e",
   "metadata": {},
   "outputs": [],
   "source": [
    "def df_to_csv(reactor,primary_path):\n",
    "    '''\n",
    "    Create 2 csv files with the df_global dataframe\n",
    "    '''\n",
    "    results     = get_results(reactor, primary_path)\n",
    "    df          = global_df(reactor, results) # dataframe containing the results for operation + discharge time \n",
    "    n_discharge = df['discharge step'][0]\n",
    "    df_cooling  = df.iloc[n_discharge:].copy(deep=True) # dataframe containing the value only after discharge from the reactor\n",
    "    df.to_csv(path_or_buf = primary_path+'out_'+reactor+'.csv', index=True, header=True)\n",
    "    df_cooling.to_csv(path_or_buf = primary_path+'cooling'+reactor+'.csv', index=True, header=True)"
   ]
  },
  {
   "cell_type": "code",
   "execution_count": 23,
   "id": "ef2882ce",
   "metadata": {},
   "outputs": [],
   "source": [
    "def df_prop(df):\n",
    "    '''\n",
    "    Return a dataframe containing the contribution of each nuclide for the metric consider, contained in df\n",
    "    '''\n",
    "    total   = df.sum(axis=0)\n",
    "    df_prop = df/total\n",
    "    return df_prop"
   ]
  },
  {
   "cell_type": "code",
   "execution_count": 24,
   "id": "da224c4a",
   "metadata": {},
   "outputs": [],
   "source": [
    "def by_nuclide_csv(reactor, primary_path):\n",
    "    results = get_results(reactor, primary_path)\n",
    "    # Dataframe with the waste management metrics by nuclide    \n",
    "    df_act, df_DH, df_tox, time, tis_dis, df_act_conv, df_DH_conv, df_tox_conv=by_nuclide(reactor, results)\n",
    "    \n",
    "    # For each metrics, calculate the contribution of each metric\n",
    "    act_prop = df_prop(df_act)\n",
    "    DH_prop  = df_prop(df_DH)\n",
    "    tox_prop = df_prop(df_tox)\n",
    "        \n",
    "    # Dataframe to export to csv for analysis    \n",
    "    df_act.to_csv(path_or_buf=primary_path+'activity_'+reactor+'.csv', index=True, header=True)\n",
    "    df_DH.to_csv(path_or_buf=primary_path+'decay_heat_'+reactor+'.csv', index=True, header=True)\n",
    "    df_tox.to_csv(path_or_buf=primary_path+'radiotoxicity_'+reactor+'.csv', index=True, header=True)\n",
    "    df_act_conv.to_csv(path_or_buf=primary_path+'activity_conv_'+reactor+'.csv', index=True, header=True)\n",
    "    df_DH_conv.to_csv(path_or_buf=primary_path+'decay_heat_conv_'+reactor+'.csv', index=True, header=True)\n",
    "    df_tox_conv.to_csv(path_or_buf=primary_path+'radiotoxicity_conv_'+reactor+'.csv', index=True, header=True)\n",
    "    act_prop.to_csv(path_or_buf=primary_path+'activity_prop_'+reactor+'.csv', index=True, header=True)\n",
    "    DH_prop.to_csv(path_or_buf=primary_path+'decay_heat_prop_'+reactor+'.csv', index=True, header=True)\n",
    "    tox_prop.to_csv(path_or_buf=primary_path+'radiotoxicity_prop_'+reactor+'.csv', index=True, header=True)"
   ]
  },
  {
   "cell_type": "markdown",
   "id": "51caf453",
   "metadata": {},
   "source": [
    "## Example"
   ]
  },
  {
   "cell_type": "markdown",
   "id": "e41b0018",
   "metadata": {},
   "source": [
    "## Single reactor"
   ]
  },
  {
   "cell_type": "markdown",
   "id": "520d5795",
   "metadata": {},
   "source": [
    "Set-up"
   ]
  },
  {
   "cell_type": "code",
   "execution_count": 48,
   "id": "3e9a9bba",
   "metadata": {},
   "outputs": [],
   "source": [
    "# List of the reactors name to study \n",
    "reactor      = 'SFR'\n",
    "primary_path = 'Results/'+reactor+'/'\n",
    "\n",
    "# Necessary files\n",
    "# rimary_path+ \"depletion_results.h5\" - openMC output file\n",
    "# primary_path+ 'materials.xml' - openMC material file \n",
    "# DCF_ingestion.csv - the DCF/ MPC factors in the running directory \n",
    "\n",
    "def get_parameters(reactor): \n",
    "# Return the input parameters of the simulations [linear power (W/cm), thermal efficiency, discharge burnup, volume-to-mass ratio]\n",
    "    if (reactor=='Ref_PWR'):\n",
    "        parameters=[5.72*1000*1.26/30.48, 0.33, 50, 0.441]\n",
    "    if (reactor=='SPWR'):\n",
    "        parameters=[3.90*1000*1.26/30.48, 0.33, 15, 0.433]\n",
    "    if (reactor=='HTGR'):\n",
    "        parameters=[76969.02001294993, 0.40, 80, 21.8]\n",
    "    if (reactor=='HPR'):\n",
    "        parameters=[76969.02001294993, 0.33, 80, 21.8]\n",
    "    if (reactor=='HTGR_FCM'):\n",
    "        parameters=[190066.35554218251, 0.33, 80, 21.8]\n",
    "    if (reactor=='SFR'):\n",
    "        parameters=[250000, 0.4, 120, 0.912]\n",
    "    return parameters"
   ]
  },
  {
   "cell_type": "markdown",
   "id": "c43158d5",
   "metadata": {},
   "source": [
    "Run codes"
   ]
  },
  {
   "cell_type": "code",
   "execution_count": 49,
   "id": "e6832c2e",
   "metadata": {},
   "outputs": [
    {
     "name": "stderr",
     "output_type": "stream",
     "text": [
      "/Users/harukowainwright/anaconda3/envs/openmc-env/lib/python3.12/site-packages/openmc/mixin.py:70: IDWarning: Another Material instance already exists with id=1.\n",
      "  warn(msg, IDWarning)\n",
      "/Users/harukowainwright/anaconda3/envs/openmc-env/lib/python3.12/site-packages/openmc/mixin.py:70: IDWarning: Another Material instance already exists with id=2.\n",
      "  warn(msg, IDWarning)\n",
      "/Users/harukowainwright/anaconda3/envs/openmc-env/lib/python3.12/site-packages/openmc/mixin.py:70: IDWarning: Another Material instance already exists with id=3.\n",
      "  warn(msg, IDWarning)\n",
      "/Users/harukowainwright/anaconda3/envs/openmc-env/lib/python3.12/site-packages/openmc/mixin.py:70: IDWarning: Another Material instance already exists with id=6.\n",
      "  warn(msg, IDWarning)\n",
      "/Users/harukowainwright/anaconda3/envs/openmc-env/lib/python3.12/site-packages/openmc/mixin.py:70: IDWarning: Another Material instance already exists with id=8.\n",
      "  warn(msg, IDWarning)\n",
      "/Users/harukowainwright/anaconda3/envs/openmc-env/lib/python3.12/site-packages/openmc/mixin.py:70: IDWarning: Another Material instance already exists with id=7.\n",
      "  warn(msg, IDWarning)\n",
      "/var/folders/53/mywvp84j3zv5w72jr7dh8jth0000gn/T/ipykernel_21540/1670633048.py:16: PerformanceWarning: DataFrame is highly fragmented.  This is usually the result of calling `frame.insert` many times, which has poor performance.  Consider joining all columns at once using pd.concat(axis=1) instead. To get a de-fragmented frame, use `newframe = frame.copy()`\n",
      "  df_act[i] = pd.DataFrame.from_dict(act, orient='index', columns=[i])\n"
     ]
    }
   ],
   "source": [
    "# Create csv file containing the results and main parameters\n",
    "df_to_csv(reactor, primary_path)"
   ]
  },
  {
   "cell_type": "code",
   "execution_count": 50,
   "id": "1093d721",
   "metadata": {},
   "outputs": [
    {
     "name": "stderr",
     "output_type": "stream",
     "text": [
      "/Users/harukowainwright/anaconda3/envs/openmc-env/lib/python3.12/site-packages/openmc/mixin.py:70: IDWarning: Another Material instance already exists with id=1.\n",
      "  warn(msg, IDWarning)\n",
      "/Users/harukowainwright/anaconda3/envs/openmc-env/lib/python3.12/site-packages/openmc/mixin.py:70: IDWarning: Another Material instance already exists with id=2.\n",
      "  warn(msg, IDWarning)\n",
      "/Users/harukowainwright/anaconda3/envs/openmc-env/lib/python3.12/site-packages/openmc/mixin.py:70: IDWarning: Another Material instance already exists with id=3.\n",
      "  warn(msg, IDWarning)\n",
      "/Users/harukowainwright/anaconda3/envs/openmc-env/lib/python3.12/site-packages/openmc/mixin.py:70: IDWarning: Another Material instance already exists with id=6.\n",
      "  warn(msg, IDWarning)\n",
      "/Users/harukowainwright/anaconda3/envs/openmc-env/lib/python3.12/site-packages/openmc/mixin.py:70: IDWarning: Another Material instance already exists with id=7.\n",
      "  warn(msg, IDWarning)\n",
      "/Users/harukowainwright/anaconda3/envs/openmc-env/lib/python3.12/site-packages/openmc/mixin.py:70: IDWarning: Another Material instance already exists with id=8.\n",
      "  warn(msg, IDWarning)\n",
      "/var/folders/53/mywvp84j3zv5w72jr7dh8jth0000gn/T/ipykernel_21540/1670633048.py:16: PerformanceWarning: DataFrame is highly fragmented.  This is usually the result of calling `frame.insert` many times, which has poor performance.  Consider joining all columns at once using pd.concat(axis=1) instead. To get a de-fragmented frame, use `newframe = frame.copy()`\n",
      "  df_act[i] = pd.DataFrame.from_dict(act, orient='index', columns=[i])\n",
      "/var/folders/53/mywvp84j3zv5w72jr7dh8jth0000gn/T/ipykernel_21540/2074422332.py:15: PerformanceWarning: DataFrame is highly fragmented.  This is usually the result of calling `frame.insert` many times, which has poor performance.  Consider joining all columns at once using pd.concat(axis=1) instead. To get a de-fragmented frame, use `newframe = frame.copy()`\n",
      "  df_DH[i] = pd.DataFrame.from_dict(DH, orient='index', columns=[i])\n",
      "/var/folders/53/mywvp84j3zv5w72jr7dh8jth0000gn/T/ipykernel_21540/1670633048.py:16: PerformanceWarning: DataFrame is highly fragmented.  This is usually the result of calling `frame.insert` many times, which has poor performance.  Consider joining all columns at once using pd.concat(axis=1) instead. To get a de-fragmented frame, use `newframe = frame.copy()`\n",
      "  df_act[i] = pd.DataFrame.from_dict(act, orient='index', columns=[i])\n"
     ]
    }
   ],
   "source": [
    "# Create csv files detailed per nuclide for each reactor\n",
    "by_nuclide_csv(reactor, primary_path)"
   ]
  },
  {
   "cell_type": "markdown",
   "id": "129742e9",
   "metadata": {},
   "source": [
    "## Multiple reactors \n"
   ]
  },
  {
   "cell_type": "code",
   "execution_count": null,
   "id": "da01a7a7",
   "metadata": {},
   "outputs": [],
   "source": [
    "#reactors=['Ref_PWR', 'SPWR', 'HTGR', 'HPR', 'HTGR_FCM','SFR']\n",
    "\n",
    "#for reactor in reactors:\n",
    "#    primary_path='Results/'+reactor+'/'\n",
    "#    df_to_csv(reactor, primary_path)"
   ]
  },
  {
   "cell_type": "code",
   "execution_count": null,
   "id": "7d1863aa",
   "metadata": {},
   "outputs": [],
   "source": [
    "#for reactor in reactors:\n",
    "#    primary_path='Results/'+reactor+'/'\n",
    "#    by_nuclide_csv(reactor,primary_path)"
   ]
  }
 ],
 "metadata": {
  "kernelspec": {
   "display_name": "Python 3 (ipykernel)",
   "language": "python",
   "name": "python3"
  },
  "language_info": {
   "codemirror_mode": {
    "name": "ipython",
    "version": 3
   },
   "file_extension": ".py",
   "mimetype": "text/x-python",
   "name": "python",
   "nbconvert_exporter": "python",
   "pygments_lexer": "ipython3",
   "version": "3.11.4"
  }
 },
 "nbformat": 4,
 "nbformat_minor": 5
}
