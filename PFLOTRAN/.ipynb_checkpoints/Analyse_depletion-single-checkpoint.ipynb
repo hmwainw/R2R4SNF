{
 "cells": [
  {
   "cell_type": "code",
   "execution_count": 72,
   "id": "b3df8f8a",
   "metadata": {},
   "outputs": [],
   "source": [
    "%matplotlib inline\n",
    "import openmc\n",
    "import math\n",
    "\n",
    "import pandas as pd\n",
    "import matplotlib.pyplot as plt\n",
    "import numpy as np"
   ]
  },
  {
   "cell_type": "code",
   "execution_count": 73,
   "id": "58838436",
   "metadata": {},
   "outputs": [],
   "source": [
    "import openmc.deplete"
   ]
  },
  {
   "cell_type": "code",
   "execution_count": 74,
   "id": "b8a39a28",
   "metadata": {},
   "outputs": [],
   "source": [
    "reactors=['SFR']\n",
    "reactor='SFR'"
   ]
  },
  {
   "cell_type": "code",
   "execution_count": 75,
   "id": "ccd730da",
   "metadata": {},
   "outputs": [],
   "source": [
    "#reactor='USNC'\n",
    "chain_file=\"/home/cchristiaen/nuclear_data/chain_endfb71_pwr.xml\"\n",
    "primary_path=\"/home/cchristiaen/Etudes_OPENMC/ResultsOK/\"+reactor+ \"/\"\n",
    "results_file=primary_path+ \"depletion_results.h5\"\n",
    "\n",
    "results=openmc.deplete.Results(results_file)"
   ]
  },
  {
   "cell_type": "code",
   "execution_count": 76,
   "id": "3fa36adb",
   "metadata": {},
   "outputs": [],
   "source": [
    "# Return the results from the depletion simulation\n",
    "def read_results(reactor):\n",
    "    primary_path=\"/home/cchristiaen/Etudes_OPENMC/ResultsOK/\"+reactor+ \"/\"\n",
    "    results_file=primary_path+ \"depletion_results.h5\"\n",
    "    results=openmc.deplete.Results(results_file)\n",
    "    return results"
   ]
  },
  {
   "cell_type": "code",
   "execution_count": 77,
   "id": "33c46866",
   "metadata": {},
   "outputs": [],
   "source": [
    "def conv_GWe_y(value, reactor): # burnup should be given in MWd/kgU and value in value/g\n",
    "    param=parameters(reactor)\n",
    "    return value*365/(param[2]*param[1]*(10**-6))"
   ]
  },
  {
   "cell_type": "code",
   "execution_count": 78,
   "id": "53df0acc",
   "metadata": {},
   "outputs": [],
   "source": [
    "def parameters(reactor): # returns the parameters of the reactor [linear power, efficiency, burn_up, volume_model]\n",
    "    if (reactor=='eVinci'):\n",
    "        parameters=[76969.02001294993, 0.33, 80, np.pi*(70**2) ]\n",
    "    if (reactor=='HTGR_60'):\n",
    "        parameters=[76969.02001294993, 0.50, 60, np.pi*(70**2) ]\n",
    "    if (reactor=='HTGR_80'):\n",
    "        parameters=[76969.02001294993, 0.50, 80, np.pi*(70**2) ]\n",
    "    if (reactor=='HTGR_80_P10000'):\n",
    "        parameters=[76969.02001294993, 0.50, 80, np.pi*(70**2) ]\n",
    "    if (reactor=='HTGR_100'):\n",
    "        parameters=[76969.02001294993, 0.50, 100, np.pi*(70**2) ]\n",
    "    if (reactor=='USNC'):\n",
    "        parameters=[190066.35554218251, 0.33, 80, np.pi*(110**2) ]\n",
    "    if (reactor=='Ref_PWR'):\n",
    "        parameters=[5.72*1000*1.26/30.48, 0.33, 50, np.pi*(0.45720**2)*1.26 ]\n",
    "    if (reactor=='Micro_PWR'):\n",
    "        parameters=[3.90*1000*1.26/30.48, 0.33, 15, np.pi*(0.45720**2)*1.26]\n",
    "    if (reactor=='SFR'):\n",
    "        parameters=[250000, 0.4, 120, 3179.8823521410927]\n",
    "    return parameters\n",
    "    "
   ]
  },
  {
   "cell_type": "code",
   "execution_count": 79,
   "id": "2f264ed0",
   "metadata": {},
   "outputs": [],
   "source": [
    "# Create a list with the time in day and keff, k uncerntainty and discharge step time\n",
    "\n",
    "def criticality(results):\n",
    "    time, k=results.get_keff()\n",
    "    keff=[i[0] for i in k]\n",
    "    kun=[i[1] for i in k]\n",
    "    discharge=np.max(np.nonzero(k))\n",
    "    return (time/(24*60*60), keff, kun, discharge)"
   ]
  },
  {
   "cell_type": "code",
   "execution_count": 80,
   "id": "fbb33321",
   "metadata": {},
   "outputs": [],
   "source": [
    "# Return the last value of keff\n",
    "\n",
    "def keff_final(crit_param):\n",
    "    n=crit_param[3]\n",
    "    time=crit_param[0]\n",
    "    keff=crit_param[1]\n",
    "    return (time[n],keff[n])"
   ]
  },
  {
   "cell_type": "markdown",
   "id": "c7eb8e17",
   "metadata": {},
   "source": [
    "# Composition of the spent fuel"
   ]
  },
  {
   "cell_type": "code",
   "execution_count": 81,
   "id": "cf200be6",
   "metadata": {},
   "outputs": [],
   "source": [
    "def number_steps(param_crit):\n",
    "    time=param_crit[0]\n",
    "    return len(time)"
   ]
  },
  {
   "cell_type": "code",
   "execution_count": 114,
   "id": "017a1f27",
   "metadata": {},
   "outputs": [],
   "source": [
    "# Create a collection with the spent fuel material at each stage\n",
    "\n",
    "def material_collec(reactor, results, param_crit, id_mat):\n",
    "    #results=read_results(reactor)\n",
    "    n=number_steps(param_crit)\n",
    "    step_spent_material=openmc.Materials()\n",
    "    for i in range (n):\n",
    "        spent_material=results.export_to_materials(burnup_index=i,path='/home/cchristiaen/Etudes_OPENMC/ResultsOK/'+reactor+ '/materials.xml') \n",
    "        spent_fuel=spent_material[int(id_mat)-1]# Modified Material instance containing depleted material data and original isotopic composition of non depletable materials\n",
    "        step_spent_material.append(spent_fuel)\n",
    "    return step_spent_material\n"
   ]
  },
  {
   "cell_type": "code",
   "execution_count": 83,
   "id": "7ca10cd9",
   "metadata": {},
   "outputs": [],
   "source": [
    "# Return a dataframe containing the material at each stage in atom/b-cm\n",
    "\n",
    "def df_mat(mat_collec,n,time, unit):\n",
    "    df_mat=pd.DataFrame()\n",
    "    for i in range (n):\n",
    "        spent_fuel=mat_collec[i]\n",
    "        mat=spent_fuel.get_nuclide_atom_densities()        \n",
    "        dfmat=pd.DataFrame.from_dict(mat, orient='index', columns=[i])\n",
    "        df_mat[i]=dfmat\n",
    "    df_mat=df_mat.transpose()\n",
    "    df_mat.set_index(time, inplace=True)\n",
    "    if (unit=='atom/gHM'):\n",
    "        df_mat=df_mat*10**24/mat_collec[0].density\n",
    "    return df_mat\n",
    "    "
   ]
  },
  {
   "cell_type": "markdown",
   "id": "07dbd254",
   "metadata": {},
   "source": [
    "# Burnup steps"
   ]
  },
  {
   "cell_type": "code",
   "execution_count": 84,
   "id": "6790a629",
   "metadata": {},
   "outputs": [],
   "source": [
    "def read_fiss_mass(reactor, results):\n",
    "    param_crit=criticality(results)    \n",
    "    mat_collec=material_collec(reactor, results, param_crit,\"1\")\n",
    "    fis_mass=mat_collec[0].fissionable_mass\n",
    "    return fis_mass"
   ]
  },
  {
   "cell_type": "code",
   "execution_count": 85,
   "id": "1735deb4",
   "metadata": {},
   "outputs": [],
   "source": [
    "def power(reactor, results):\n",
    "    param=parameters(reactor)\n",
    "    power_reactor=param[0]\n",
    "    criticality_param=criticality(results)\n",
    "    discharge=criticality_param[3]\n",
    "    n=number_steps(criticality_param)    \n",
    "    power=[power_reactor]*(discharge+1)\n",
    "    cooling=[0]*(n-discharge-1)\n",
    "    power=power+cooling\n",
    "    return power"
   ]
  },
  {
   "cell_type": "code",
   "execution_count": 86,
   "id": "81935d4f",
   "metadata": {},
   "outputs": [],
   "source": [
    "def burnup_step(reactor, results): # time must be given in days\n",
    "    burnup_step=[]\n",
    "    n=0\n",
    "    time=criticality(results)[0]\n",
    "    power_reactor=power(reactor, results)\n",
    "    fis_mass=read_fiss_mass(reactor, results)\n",
    "    for i in time:\n",
    "        burnup=i*power_reactor[n]/((10**3)*fis_mass)\n",
    "        burnup_step.append(burnup)\n",
    "        n=n+1\n",
    "    return burnup_step\n"
   ]
  },
  {
   "cell_type": "markdown",
   "id": "99cafd3d",
   "metadata": {},
   "source": [
    "# Activity of the spent fuel"
   ]
  },
  {
   "cell_type": "code",
   "execution_count": 87,
   "id": "7e3ddadf",
   "metadata": {},
   "outputs": [],
   "source": [
    "# Create a dataframe with the activity of the spent fuel\n",
    "def act(material_collec, n, time):\n",
    "    df_act=pd.DataFrame()\n",
    "    for i in range (n):\n",
    "        spent_fuel=material_collec[i]\n",
    "        act=spent_fuel.get_activity(by_nuclide=True, units='Bq/g')\n",
    "        dfact=pd.DataFrame.from_dict(act, orient='index', columns=[i])\n",
    "        df_act[i]=dfact\n",
    "    df_act.columns=time\n",
    "    return df_act"
   ]
  },
  {
   "cell_type": "code",
   "execution_count": 88,
   "id": "052cd39e",
   "metadata": {
    "scrolled": true
   },
   "outputs": [],
   "source": [
    "# Create a dataframe with the total activity of the spent fuel\n",
    "def act_tot(material_collec, n, time): # Return total activity in Bq/g\n",
    "    act_tot=[]\n",
    "    for i in range (n):\n",
    "        spent_fuel=material_collec[i]\n",
    "        act=spent_fuel.get_activity(by_nuclide=False, units='Bq/g')\n",
    "        act_tot.append(act)\n",
    "    df_act=pd.DataFrame(act_tot, index=time, columns=['Total_Activity (Bq/g)'])\n",
    "    return df_act"
   ]
  },
  {
   "cell_type": "code",
   "execution_count": 89,
   "id": "fd545804",
   "metadata": {},
   "outputs": [],
   "source": [
    "def act_tot1(material_collec, n, time): # Return total activity in Bq/cm3\n",
    "    act_tot=[]\n",
    "    for i in range (n):\n",
    "        spent_fuel=material_collec[i]\n",
    "        act=spent_fuel.get_activity(by_nuclide=False)\n",
    "        act_tot.append(act)\n",
    "    df_act=pd.DataFrame(act_tot, index=time, columns=['Total_Activity (Bq/cm3)'])\n",
    "    return df_act"
   ]
  },
  {
   "cell_type": "markdown",
   "id": "4475225b",
   "metadata": {},
   "source": [
    "# Decay heat of the spent fuel"
   ]
  },
  {
   "cell_type": "code",
   "execution_count": 90,
   "id": "6bd4832f",
   "metadata": {},
   "outputs": [],
   "source": [
    "def decay_heat(material_collec, n, time):\n",
    "    df_DH=pd.DataFrame()\n",
    "    for i in range (n):\n",
    "        spent_fuel=material_collec[i]\n",
    "        act=spent_fuel.get_decay_heat(units= 'W/g', by_nuclide=True)\n",
    "        dfDH=pd.DataFrame.from_dict(act, orient='index', columns=[i])\n",
    "        df_DH[i]=dfDH\n",
    "    df_DH.columns=time\n",
    "    return df_DH"
   ]
  },
  {
   "cell_type": "code",
   "execution_count": 91,
   "id": "c8211bf8",
   "metadata": {},
   "outputs": [],
   "source": [
    "def decay_heat_tot(material_collec, n, time):\n",
    "    DH_tot=[]\n",
    "    for i in range (n):\n",
    "        spent_fuel=material_collec[i]\n",
    "        DH=spent_fuel.get_decay_heat(units='W/g',by_nuclide=False)\n",
    "        DH_tot.append(DH)\n",
    "    df_DH=pd.DataFrame(DH_tot, index=time, columns=['Total_Decay_Heat (W/g)'])\n",
    "    return df_DH"
   ]
  },
  {
   "cell_type": "markdown",
   "id": "357a15c0",
   "metadata": {},
   "source": [
    "# SNF Mass"
   ]
  },
  {
   "cell_type": "code",
   "execution_count": 92,
   "id": "e7012159",
   "metadata": {},
   "outputs": [],
   "source": [
    "def SNF_mass(burnup, efficiency): # return SNF mass kg/MWe.year\n",
    "    return 365/(burnup*efficiency)"
   ]
  },
  {
   "cell_type": "markdown",
   "id": "6c17a44e",
   "metadata": {},
   "source": [
    "# SNF Volume"
   ]
  },
  {
   "cell_type": "code",
   "execution_count": 93,
   "id": "fb793a41",
   "metadata": {},
   "outputs": [],
   "source": [
    "def SNF_volume(reactor, mat_collec, discharge_BU, volume_model, efficiency): # return SNF volume in m3/GWe.year\n",
    "    mass=mat_collec[0].fissionable_mass\n",
    "    if (reactor=='Ref_PWR'):\n",
    "        return (np.pi*(119.7*2.54/2)**2*1.26)/(157*264*mass)*(365/(discharge_BU*efficiency))\n",
    "    elif (reactor=='Micro_PWR'): # taken from the NuScale design\n",
    "        return (np.pi*(4.94*30.48/2)**2*1.26)/(37*264*mass)*(365/(discharge_BU*efficiency))\n",
    "    else:\n",
    "        return (volume_model*365)/(discharge_BU*efficiency*mass)\n",
    "    "
   ]
  },
  {
   "cell_type": "markdown",
   "id": "a8a42240",
   "metadata": {},
   "source": [
    "# I129 concentration"
   ]
  },
  {
   "cell_type": "code",
   "execution_count": 94,
   "id": "52befed4",
   "metadata": {},
   "outputs": [],
   "source": [
    "def get_I129(reactor, results):\n",
    "    #results=read_results(reactor)\n",
    "    _, I129 = results.get_atoms(\"1\", \"I129\", nuc_units='atom/cm3', time_units='d')\n",
    "    return I129\n"
   ]
  },
  {
   "cell_type": "markdown",
   "id": "c0ebb214",
   "metadata": {},
   "source": [
    "# Radiotoxicity"
   ]
  },
  {
   "cell_type": "code",
   "execution_count": 95,
   "id": "6f69ffa8",
   "metadata": {},
   "outputs": [],
   "source": [
    "df_DCF=pd.read_csv('/home/cchristiaen/Etudes_OPENMC/ResultsOK/Analyse/DCF.csv', sep=';')\n",
    "df_DCF.set_index('Isotope', inplace=True)\n",
    "df_DCF=df_DCF.iloc[1:,:]\n",
    "df_DCF\n",
    "\n",
    "def rad_per_nuclide(mat_collec, number_steps, time):\n",
    "    df_act_mat=act(mat_collec, number_steps, time)\n",
    "    df_rad=df_act_mat.merge(df_DCF, left_index=True, right_index=True, how='inner')\n",
    "    df_rad=df_rad.mul(df_rad['Conversion factors (Sv/Bq)'], axis='index')\n",
    "    df_rad=df_rad.iloc[:, :-1]\n",
    "    return df_rad\n",
    "\n",
    "def rad_tot(mat_collec, number_steps, time):\n",
    "    df_rad=rad_per_nuclide(mat_collec, number_steps, time)\n",
    "    df_rad_tot=df_rad.sum(axis=0)\n",
    "    df_rad_tot=df_rad_tot.transpose()\n",
    "    df_rad_tot=df_rad_tot.set_axis(time)\n",
    "    return df_rad_tot\n"
   ]
  },
  {
   "cell_type": "markdown",
   "id": "0bdee299",
   "metadata": {},
   "source": [
    "# Dataframe with all the results"
   ]
  },
  {
   "cell_type": "code",
   "execution_count": 96,
   "id": "903c7a0e",
   "metadata": {},
   "outputs": [],
   "source": [
    "def global_df(reactor, results):\n",
    "    df=pd.DataFrame()\n",
    "    # Previous results\n",
    "    #results=read_results(reactor)\n",
    "    param=parameters(reactor)\n",
    "    param_crit=criticality(results)\n",
    "    mat_collec=material_collec(reactor, results, param_crit, \"1\")\n",
    "    n=number_steps(param_crit)\n",
    "    # Complete dataframe\n",
    "    df['keff']=param_crit[1]\n",
    "    df.set_index(param_crit[0], inplace=True)\n",
    "    df['k_un']=param_crit[2]\n",
    "    df['burnup']=burnup_step(reactor, results)\n",
    "    df['Power (W/cm)']=power(reactor, results)\n",
    "    df['Activity (Bq/g)']=act_tot(mat_collec, n, param_crit[0])\n",
    "    df['Activity (Ci/GWe.y)']=conv_GWe_y(df['Activity (Bq/g)'], reactor)*27*(10**-12)\n",
    "    df['Decay heat (W/g)']=decay_heat_tot(mat_collec, n, param_crit[0])\n",
    "    df['Decay heat (W/GWe.y)']=conv_GWe_y(df['Decay heat (W/g)'], reactor)\n",
    "    df['Radiotoxicity (Sv/g)']=rad_tot(mat_collec, n, param_crit[0])\n",
    "    df['Radiotoxicity (Sv/GWe.y)']=conv_GWe_y(df['Radiotoxicity (Sv/g)'], reactor)\n",
    "    df['I129 (atom/cm3)']=get_I129(reactor, results)\n",
    "    df['I129 (atom/GWe.y)']=df['I129 (atom/cm3)']*mat_collec[0].volume*365/(param[0]*keff_final(param_crit)[0]*param[1])*(10**9)\n",
    "    df['Efficiency']=param[1]\n",
    "    df['Volume Model (cm3)']=param[3]\n",
    "    df['SNF mass (t/GWe.y)']=SNF_mass(param[2],param[1])\n",
    "    df['SNF volume (m3/(GWe.y))']=SNF_volume(reactor, mat_collec, param[2], param[3], param[1])\n",
    "    df['discharge step']=param_crit[3]\n",
    "    df['discharge time']=keff_final(param_crit)[0]\n",
    "    df['volume_Ueq']=mat_collec[0].volume\n",
    "    df['mass U']=mat_collec[0].fissionable_mass\n",
    "    return df"
   ]
  },
  {
   "cell_type": "code",
   "execution_count": 97,
   "id": "a702e33b",
   "metadata": {},
   "outputs": [],
   "source": [
    "def by_nuclide(reactor, results):\n",
    "    results=read_results(reactor)\n",
    "    param=parameters(reactor)\n",
    "    param_crit=criticality(results)\n",
    "    mat_collec=material_collec(reactor, results, param_crit, \"1\")\n",
    "    n=number_steps(param_crit)\n",
    "    time=param_crit[0]\n",
    "    time_dis=param_crit[3]\n",
    "    df_act=act(mat_collec, n, time)\n",
    "    df_DH=decay_heat(mat_collec, n, time)\n",
    "    df_act_conv=conv_GWe_y(df_act, reactor)\n",
    "    df_DH_conv=conv_GWe_y(df_DH, reactor)\n",
    "    #primary_path='/home/cchristiaen/Etudes_OPENMC/ResultsOK/'+reactor+'/'\n",
    "    #df_act.to_csv\n",
    "    return (df_act, df_DH, time, time_dis, df_act_conv, df_DH_conv)"
   ]
  },
  {
   "cell_type": "code",
   "execution_count": 98,
   "id": "40ba3188",
   "metadata": {},
   "outputs": [],
   "source": [
    "#df=global_df(reactor, results)"
   ]
  },
  {
   "cell_type": "code",
   "execution_count": 99,
   "id": "590a5111",
   "metadata": {},
   "outputs": [],
   "source": [
    "def df_to_csv(reactor):\n",
    "    results=read_results(reactor)\n",
    "    df=global_df(reactor, results)\n",
    "    discharge=df['discharge step'][0]\n",
    "    df_cooling=df.iloc[discharge:].copy(deep=True)\n",
    "    primary_path='/home/cchristiaen/Etudes_OPENMC/ResultsOK/'+reactor+'/'\n",
    "    df.to_csv(path_or_buf=primary_path+'out_'+reactor+'.csv', index=True, header=True)\n",
    "    df_cooling.to_csv(path_or_buf=primary_path+'cooling'+reactor+'.csv', index=True, header=True)\n",
    "    "
   ]
  },
  {
   "cell_type": "code",
   "execution_count": 100,
   "id": "c69c4679",
   "metadata": {},
   "outputs": [],
   "source": [
    "def by_nuclide_csv(reactor):\n",
    "    results=read_results(reactor)\n",
    "    df_act, df_DH, time, tis_dis, df_act_conv, df_DH_conv=by_nuclide(reactor, results)\n",
    "    primary_path='/home/cchristiaen/Etudes_OPENMC/ResultsOK/'+reactor+'/'\n",
    "    df_act.to_csv(path_or_buf=primary_path+'activity_'+reactor+'.csv', index=True, header=True)\n",
    "    df_DH.to_csv(path_or_buf=primary_path+'decay_heat_'+reactor+'.csv', index=True, header=True)\n",
    "    df_act_conv.to_csv(path_or_buf=primary_path+'activity_conv_'+reactor+'.csv', index=True, header=True)\n",
    "    df_DH_conv.to_csv(path_or_buf=primary_path+'decay_heat_conv_'+reactor+'.csv', index=True, header=True)\n",
    "    "
   ]
  },
  {
   "cell_type": "code",
   "execution_count": 101,
   "id": "f1050985",
   "metadata": {
    "scrolled": true
   },
   "outputs": [
    {
     "name": "stderr",
     "output_type": "stream",
     "text": [
      "/home/cchristiaen/miniconda3/envs/openmc-env/lib/python3.11/site-packages/openmc/mixin.py:70: IDWarning: Another Material instance already exists with id=1.\n",
      "  warn(msg, IDWarning)\n",
      "/home/cchristiaen/miniconda3/envs/openmc-env/lib/python3.11/site-packages/openmc/mixin.py:70: IDWarning: Another Material instance already exists with id=2.\n",
      "  warn(msg, IDWarning)\n",
      "/home/cchristiaen/miniconda3/envs/openmc-env/lib/python3.11/site-packages/openmc/mixin.py:70: IDWarning: Another Material instance already exists with id=3.\n",
      "  warn(msg, IDWarning)\n",
      "/home/cchristiaen/miniconda3/envs/openmc-env/lib/python3.11/site-packages/openmc/mixin.py:70: IDWarning: Another Material instance already exists with id=6.\n",
      "  warn(msg, IDWarning)\n",
      "/home/cchristiaen/miniconda3/envs/openmc-env/lib/python3.11/site-packages/openmc/mixin.py:70: IDWarning: Another Material instance already exists with id=8.\n",
      "  warn(msg, IDWarning)\n",
      "/home/cchristiaen/miniconda3/envs/openmc-env/lib/python3.11/site-packages/openmc/mixin.py:70: IDWarning: Another Material instance already exists with id=7.\n",
      "  warn(msg, IDWarning)\n",
      "/home/cchristiaen/miniconda3/envs/openmc-env/lib/python3.11/site-packages/openmc/mixin.py:70: IDWarning: Another Material instance already exists with id=1.\n",
      "  warn(msg, IDWarning)\n",
      "/home/cchristiaen/miniconda3/envs/openmc-env/lib/python3.11/site-packages/openmc/mixin.py:70: IDWarning: Another Material instance already exists with id=2.\n",
      "  warn(msg, IDWarning)\n",
      "/home/cchristiaen/miniconda3/envs/openmc-env/lib/python3.11/site-packages/openmc/mixin.py:70: IDWarning: Another Material instance already exists with id=3.\n",
      "  warn(msg, IDWarning)\n",
      "/home/cchristiaen/miniconda3/envs/openmc-env/lib/python3.11/site-packages/openmc/mixin.py:70: IDWarning: Another Material instance already exists with id=6.\n",
      "  warn(msg, IDWarning)\n",
      "/home/cchristiaen/miniconda3/envs/openmc-env/lib/python3.11/site-packages/openmc/mixin.py:70: IDWarning: Another Material instance already exists with id=7.\n",
      "  warn(msg, IDWarning)\n",
      "/home/cchristiaen/miniconda3/envs/openmc-env/lib/python3.11/site-packages/openmc/mixin.py:70: IDWarning: Another Material instance already exists with id=8.\n",
      "  warn(msg, IDWarning)\n",
      "/tmp/ipykernel_1039/2025232011.py:8: PerformanceWarning: DataFrame is highly fragmented.  This is usually the result of calling `frame.insert` many times, which has poor performance.  Consider joining all columns at once using pd.concat(axis=1) instead. To get a de-fragmented frame, use `newframe = frame.copy()`\n",
      "  df_act[i]=dfact\n"
     ]
    }
   ],
   "source": [
    "for i in reactors:\n",
    "    df_to_csv(i)"
   ]
  },
  {
   "cell_type": "code",
   "execution_count": 102,
   "id": "21cbeb66",
   "metadata": {},
   "outputs": [
    {
     "name": "stderr",
     "output_type": "stream",
     "text": [
      "/home/cchristiaen/miniconda3/envs/openmc-env/lib/python3.11/site-packages/openmc/mixin.py:70: IDWarning: Another Material instance already exists with id=1.\n",
      "  warn(msg, IDWarning)\n",
      "/home/cchristiaen/miniconda3/envs/openmc-env/lib/python3.11/site-packages/openmc/mixin.py:70: IDWarning: Another Material instance already exists with id=2.\n",
      "  warn(msg, IDWarning)\n",
      "/home/cchristiaen/miniconda3/envs/openmc-env/lib/python3.11/site-packages/openmc/mixin.py:70: IDWarning: Another Material instance already exists with id=3.\n",
      "  warn(msg, IDWarning)\n",
      "/home/cchristiaen/miniconda3/envs/openmc-env/lib/python3.11/site-packages/openmc/mixin.py:70: IDWarning: Another Material instance already exists with id=6.\n",
      "  warn(msg, IDWarning)\n",
      "/home/cchristiaen/miniconda3/envs/openmc-env/lib/python3.11/site-packages/openmc/mixin.py:70: IDWarning: Another Material instance already exists with id=7.\n",
      "  warn(msg, IDWarning)\n",
      "/home/cchristiaen/miniconda3/envs/openmc-env/lib/python3.11/site-packages/openmc/mixin.py:70: IDWarning: Another Material instance already exists with id=8.\n",
      "  warn(msg, IDWarning)\n",
      "/tmp/ipykernel_1039/2025232011.py:8: PerformanceWarning: DataFrame is highly fragmented.  This is usually the result of calling `frame.insert` many times, which has poor performance.  Consider joining all columns at once using pd.concat(axis=1) instead. To get a de-fragmented frame, use `newframe = frame.copy()`\n",
      "  df_act[i]=dfact\n",
      "/tmp/ipykernel_1039/3457641380.py:7: PerformanceWarning: DataFrame is highly fragmented.  This is usually the result of calling `frame.insert` many times, which has poor performance.  Consider joining all columns at once using pd.concat(axis=1) instead. To get a de-fragmented frame, use `newframe = frame.copy()`\n",
      "  df_DH[i]=dfDH\n"
     ]
    }
   ],
   "source": [
    "for i in reactors:\n",
    "    by_nuclide_csv(i)"
   ]
  },
  {
   "cell_type": "code",
   "execution_count": 113,
   "id": "9eb3f84d",
   "metadata": {
    "scrolled": true
   },
   "outputs": [
    {
     "name": "stderr",
     "output_type": "stream",
     "text": [
      "/home/cchristiaen/miniconda3/envs/openmc-env/lib/python3.11/site-packages/openmc/mixin.py:70: IDWarning: Another Material instance already exists with id=1.\n",
      "  warn(msg, IDWarning)\n",
      "/home/cchristiaen/miniconda3/envs/openmc-env/lib/python3.11/site-packages/openmc/mixin.py:70: IDWarning: Another Material instance already exists with id=2.\n",
      "  warn(msg, IDWarning)\n",
      "/home/cchristiaen/miniconda3/envs/openmc-env/lib/python3.11/site-packages/openmc/mixin.py:70: IDWarning: Another Material instance already exists with id=3.\n",
      "  warn(msg, IDWarning)\n",
      "/home/cchristiaen/miniconda3/envs/openmc-env/lib/python3.11/site-packages/openmc/mixin.py:70: IDWarning: Another Material instance already exists with id=6.\n",
      "  warn(msg, IDWarning)\n",
      "/home/cchristiaen/miniconda3/envs/openmc-env/lib/python3.11/site-packages/openmc/mixin.py:70: IDWarning: Another Material instance already exists with id=7.\n",
      "  warn(msg, IDWarning)\n",
      "/home/cchristiaen/miniconda3/envs/openmc-env/lib/python3.11/site-packages/openmc/mixin.py:70: IDWarning: Another Material instance already exists with id=8.\n",
      "  warn(msg, IDWarning)\n",
      "/home/cchristiaen/miniconda3/envs/openmc-env/lib/python3.11/site-packages/openmc/mixin.py:70: IDWarning: Another Material instance already exists with id=1.\n",
      "  warn(msg, IDWarning)\n",
      "/home/cchristiaen/miniconda3/envs/openmc-env/lib/python3.11/site-packages/openmc/mixin.py:70: IDWarning: Another Material instance already exists with id=2.\n",
      "  warn(msg, IDWarning)\n",
      "/home/cchristiaen/miniconda3/envs/openmc-env/lib/python3.11/site-packages/openmc/mixin.py:70: IDWarning: Another Material instance already exists with id=3.\n",
      "  warn(msg, IDWarning)\n",
      "/home/cchristiaen/miniconda3/envs/openmc-env/lib/python3.11/site-packages/openmc/mixin.py:70: IDWarning: Another Material instance already exists with id=6.\n",
      "  warn(msg, IDWarning)\n",
      "/home/cchristiaen/miniconda3/envs/openmc-env/lib/python3.11/site-packages/openmc/mixin.py:70: IDWarning: Another Material instance already exists with id=7.\n",
      "  warn(msg, IDWarning)\n",
      "/home/cchristiaen/miniconda3/envs/openmc-env/lib/python3.11/site-packages/openmc/mixin.py:70: IDWarning: Another Material instance already exists with id=8.\n",
      "  warn(msg, IDWarning)\n"
     ]
    },
    {
     "name": "stdout",
     "output_type": "stream",
     "text": [
      "                  keff      k_un    burnup  Power (W/cm)  Activity (Bq/g)   \n",
      "0.000000e+00  1.270393  0.000795  0.000000        250000     5.182632e+10  \\\n",
      "1.250000e-01  1.273894  0.000920  0.001489        250000     1.858349e+11   \n",
      "2.500000e-01  1.272573  0.000961  0.002977        250000     1.995212e+11   \n",
      "3.750000e-01  1.272740  0.000841  0.004466        250000     2.109647e+11   \n",
      "5.000000e-01  1.272073  0.000847  0.005954        250000     2.211164e+11   \n",
      "...                ...       ...       ...           ...              ...   \n",
      "1.826008e+07  0.000000  0.000000  0.000000             0     4.728767e+10   \n",
      "3.651008e+07  0.000000  0.000000  0.000000             0     4.725811e+10   \n",
      "7.301008e+07  0.000000  0.000000  0.000000             0     4.725028e+10   \n",
      "1.825101e+08  0.000000  0.000000  0.000000             0     1.296897e+06   \n",
      "3.650101e+08  0.000000  0.000000  0.000000             0     4.725533e+10   \n",
      "\n",
      "              Activity (Ci/GWe.y)  Decay heat (W/g)  Decay heat (W/GWe.y)   \n",
      "0.000000e+00         1.064059e+07      2.180191e-03          16578.537409  \\\n",
      "1.250000e-01         3.815424e+07      1.442709e-02         109705.965070   \n",
      "2.500000e-01         4.096419e+07      1.717077e-02         130569.400016   \n",
      "3.750000e-01         4.331369e+07      1.926801e-02         146517.130217   \n",
      "5.000000e-01         4.539795e+07      2.093212e-02         159171.297212   \n",
      "...                           ...               ...                   ...   \n",
      "1.826008e+07         9.708749e+06      1.796263e-03          13659.080133   \n",
      "3.651008e+07         9.702681e+06      1.759323e-03          13378.184413   \n",
      "7.301008e+07         9.701073e+06      1.748932e-03          13299.168357   \n",
      "1.825101e+08         2.662692e+02      3.711511e-07              2.822295   \n",
      "3.650101e+08         9.702109e+06      1.749127e-03          13300.656854   \n",
      "\n",
      "              Radiotoxicity (Sv/g)  Radiotoxicity (Sv/GWe.y)  I129 (atom/cm3)   \n",
      "0.000000e+00          76108.760455              5.787437e+11     1.000000e+03  \\\n",
      "1.250000e-01          76122.247311              5.788463e+11     4.984440e+13   \n",
      "2.500000e-01          76133.261218              5.789300e+11     2.662953e+14   \n",
      "3.750000e-01          76143.499436              5.790079e+11     6.277767e+14   \n",
      "5.000000e-01          76153.113011              5.790810e+11     1.086628e+15   \n",
      "...                            ...                       ...              ...   \n",
      "1.826008e+07          11880.018902              9.033764e+10     5.705194e+19   \n",
      "3.651008e+07           6580.780429              5.004135e+10     5.692623e+19   \n",
      "7.301008e+07           5070.157976              3.855433e+10     5.667563e+19   \n",
      "1.825101e+08             30.601084              2.326957e+08     5.593042e+19   \n",
      "3.650101e+08           5018.997960              3.816530e+10     5.471013e+19   \n",
      "\n",
      "              I129 (atom/GWe.y)  Efficiency  Volume Model (cm3)   \n",
      "0.000000e+00       5.535781e+08         0.4         3179.882352  \\\n",
      "1.250000e-01       2.759277e+19         0.4         3179.882352   \n",
      "2.500000e-01       1.474152e+20         0.4         3179.882352   \n",
      "3.750000e-01       3.475234e+20         0.4         3179.882352   \n",
      "5.000000e-01       6.015335e+20         0.4         3179.882352   \n",
      "...                         ...         ...                 ...   \n",
      "1.826008e+07       3.158271e+25         0.4         3179.882352   \n",
      "3.651008e+07       3.151311e+25         0.4         3179.882352   \n",
      "7.301008e+07       3.137438e+25         0.4         3179.882352   \n",
      "1.825101e+08       3.096186e+25         0.4         3179.882352   \n",
      "3.650101e+08       3.028633e+25         0.4         3179.882352   \n",
      "\n",
      "              SNF mass (t/GWe.y)  SNF volume (m3/(GWe.y))  discharge step   \n",
      "0.000000e+00            7.604167                 1.151818             112  \\\n",
      "1.250000e-01            7.604167                 1.151818             112   \n",
      "2.500000e-01            7.604167                 1.151818             112   \n",
      "3.750000e-01            7.604167                 1.151818             112   \n",
      "5.000000e-01            7.604167                 1.151818             112   \n",
      "...                          ...                      ...             ...   \n",
      "1.826008e+07            7.604167                 1.151818             112   \n",
      "3.651008e+07            7.604167                 1.151818             112   \n",
      "7.301008e+07            7.604167                 1.151818             112   \n",
      "1.825101e+08            7.604167                 1.151818             112   \n",
      "3.650101e+08            7.604167                 1.151818             112   \n",
      "\n",
      "              discharge time   volume_Ueq        mass U  \n",
      "0.000000e+00          9917.0  1504.064058  20993.213897  \n",
      "1.250000e-01          9917.0  1504.064058  20993.213897  \n",
      "2.500000e-01          9917.0  1504.064058  20993.213897  \n",
      "3.750000e-01          9917.0  1504.064058  20993.213897  \n",
      "5.000000e-01          9917.0  1504.064058  20993.213897  \n",
      "...                      ...          ...           ...  \n",
      "1.826008e+07          9917.0  1504.064058  20993.213897  \n",
      "3.651008e+07          9917.0  1504.064058  20993.213897  \n",
      "7.301008e+07          9917.0  1504.064058  20993.213897  \n",
      "1.825101e+08          9917.0  1504.064058  20993.213897  \n",
      "3.650101e+08          9917.0  1504.064058  20993.213897  \n",
      "\n",
      "[181 rows x 20 columns]\n"
     ]
    },
    {
     "name": "stderr",
     "output_type": "stream",
     "text": [
      "/tmp/ipykernel_1039/2025232011.py:8: PerformanceWarning: DataFrame is highly fragmented.  This is usually the result of calling `frame.insert` many times, which has poor performance.  Consider joining all columns at once using pd.concat(axis=1) instead. To get a de-fragmented frame, use `newframe = frame.copy()`\n",
      "  df_act[i]=dfact\n"
     ]
    }
   ],
   "source": [
    "results=read_results(reactor)\n",
    "df=global_df(reactor, results)\n",
    "print(df)"
   ]
  },
  {
   "cell_type": "markdown",
   "id": "5caed2ef",
   "metadata": {},
   "source": [
    "# Plot "
   ]
  },
  {
   "cell_type": "code",
   "execution_count": 106,
   "id": "305ade4f",
   "metadata": {},
   "outputs": [
    {
     "data": {
      "text/plain": [
       "<matplotlib.legend.Legend at 0x7f69f44e5e50>"
      ]
     },
     "execution_count": 106,
     "metadata": {},
     "output_type": "execute_result"
    },
    {
     "data": {
      "image/png": "[encoded data removed]",
      "text/plain": [
       "<Figure size 640x480 with 1 Axes>"
      ]
     },
     "metadata": {},
     "output_type": "display_data"
    }
   ],
   "source": [
    "DH_conv=df['Decay heat (W/GWe.y)']\n",
    "\n",
    "fig,ax= plt.subplots()\n",
    "DH_conv.plot(ax=ax)\n",
    "ax.set_xlabel('Time [y]')\n",
    "ax.set_ylabel('Total decay heat [W/Gwe.year]') \n",
    "ax.set_title ('SNF decay heat'), \n",
    "ax.set_xscale('log')\n",
    "#ax.set_xlim(1500, 100000*365)\n",
    "#ax.set_ylim(0, 100)\n",
    "ax.set_yscale('log')\n",
    "ax.legend(['Decay heat '+ reactor])"
   ]
  },
  {
   "cell_type": "code",
   "execution_count": 107,
   "id": "d00c2fd5",
   "metadata": {},
   "outputs": [
    {
     "data": {
      "text/plain": [
       "<Axes: title={'center': 'Evolution of $k_{eff}$'}, xlabel='Time [d]', ylabel='$k_{eff}$'>"
      ]
     },
     "execution_count": 107,
     "metadata": {},
     "output_type": "execute_result"
    },
    {
     "data": {
      "image/png": "[encoded data removed]",
      "text/plain": [
       "<Figure size 640x480 with 1 Axes>"
      ]
     },
     "metadata": {},
     "output_type": "display_data"
    }
   ],
   "source": [
    "# Plot the evolution of keff\n",
    "df['keff'].plot(logx=True, xlabel='Time [d]', ylabel=\"$k_{eff}$\", title='Evolution of $k_{eff}$')\n"
   ]
  },
  {
   "cell_type": "code",
   "execution_count": 108,
   "id": "aec9ab06",
   "metadata": {},
   "outputs": [
    {
     "data": {
      "image/png": "[encoded data removed]",
      "text/plain": [
       "<Figure size 640x480 with 1 Axes>"
      ]
     },
     "metadata": {},
     "output_type": "display_data"
    }
   ],
   "source": [
    "# Plot the evolution of I129\n",
    "\n",
    "I129=df['I129 (atom/GWe.y)']\n",
    "I129.plot()\n",
    "plt.xscale('log')\n",
    "plt.xlabel(\"Time [d]\")\n",
    "plt.ylabel(\"Number of atom/cm3 - I129\")\n",
    "plt.legend(['I129 '+ reactor])\n",
    "plt.show()"
   ]
  },
  {
   "cell_type": "code",
   "execution_count": 109,
   "id": "ec9a8a0f",
   "metadata": {},
   "outputs": [
    {
     "data": {
      "text/plain": [
       "<matplotlib.legend.Legend at 0x7f6a037ea010>"
      ]
     },
     "execution_count": 109,
     "metadata": {},
     "output_type": "execute_result"
    },
    {
     "data": {
      "image/png": "[encoded data removed]",
      "text/plain": [
       "<Figure size 640x480 with 1 Axes>"
      ]
     },
     "metadata": {},
     "output_type": "display_data"
    }
   ],
   "source": [
    "# Plot the evolution of the activity\n",
    "\n",
    "act_conv=df['Activity (Ci/GWe.y)']\n",
    "\n",
    "fig,ax= plt.subplots()\n",
    "act_conv.plot(ax=ax)\n",
    "ax.set_xlabel('Time [d]')\n",
    "ax.set_ylabel('Total activity [Ci/Gwe.year]') \n",
    "ax.set_title ('SNF activity'), \n",
    "ax.set_xscale('log')\n",
    "ax.set_yscale('log')\n",
    "#ax.set_xlim(200, 1000000)\n",
    "ax.legend(['Activity '+ reactor])"
   ]
  },
  {
   "cell_type": "code",
   "execution_count": 110,
   "id": "773d8cac",
   "metadata": {},
   "outputs": [
    {
     "data": {
      "image/png": "[encoded data removed]",
      "text/plain": [
       "<Figure size 640x480 with 1 Axes>"
      ]
     },
     "metadata": {},
     "output_type": "display_data"
    }
   ],
   "source": [
    "time, Pu239 = results.get_atoms(\"1\", \"Pu239\", nuc_units='atom/cm3', time_units='d')\n",
    "_, Am242=results.get_atoms(\"1\", \"Am242\", nuc_units='atom/cm3', time_units='d')\n",
    "_, Am242m=results.get_atoms(\"1\", \"Am242_m1\", nuc_units='atom/cm3', time_units='d')\n",
    "_, Cm242=results.get_atoms(\"1\", \"Cm242\", nuc_units='atom/cm3', time_units='d')\n",
    "time=time/(365)\n",
    "fig, ax =plt.subplots()\n",
    "ax.plot(time, Am242m)\n",
    "ax.plot(time, Am242)\n",
    "ax.plot(time, Cm242)\n",
    "ax.plot(time, Pu239)\n",
    "ax.legend(['Am242m', 'Am242', 'Cm242', 'Pu239'])\n",
    "ax.set_xlabel('Time[y]')\n",
    "ax.set_ylabel('Radionuclide concentration (atom/cm3)')\n",
    "ax.set_yscale('log')\n",
    "ax.set_xscale('log')\n",
    "#ax.set_ylim(0,1)"
   ]
  },
  {
   "cell_type": "markdown",
   "id": "a4249a5e",
   "metadata": {},
   "source": [
    "# Activity, decay heat by nuclide"
   ]
  },
  {
   "cell_type": "code",
   "execution_count": 111,
   "id": "b70d10d3",
   "metadata": {},
   "outputs": [],
   "source": [
    "def select_time(result, time, time_value, time_dis):\n",
    "    time_value=time_value*365+time_dis\n",
    "    res=result.transpose()\n",
    "    res['time']=time\n",
    "    idx= res['time'].sub(time_value).abs().idxmin()\n",
    "    return idx"
   ]
  },
  {
   "cell_type": "code",
   "execution_count": 112,
   "id": "4df3dbda",
   "metadata": {},
   "outputs": [
    {
     "ename": "NameError",
     "evalue": "name 'df_activity' is not defined",
     "output_type": "error",
     "traceback": [
      "\u001b[0;31m---------------------------------------------------------------------------\u001b[0m",
      "\u001b[0;31mNameError\u001b[0m                                 Traceback (most recent call last)",
      "Cell \u001b[0;32mIn[112], line 4\u001b[0m\n\u001b[1;32m      2\u001b[0m n\u001b[38;5;241m=\u001b[39m\u001b[38;5;241m10\u001b[39m\n\u001b[1;32m      3\u001b[0m DA_sorted\u001b[38;5;241m=\u001b[39mpd\u001b[38;5;241m.\u001b[39mDataFrame()\n\u001b[0;32m----> 4\u001b[0m \u001b[38;5;28;01mfor\u001b[39;00m column \u001b[38;5;129;01min\u001b[39;00m \u001b[43mdf_activity\u001b[49m:\n\u001b[1;32m      5\u001b[0m     df\u001b[38;5;241m=\u001b[39mdf_activity[column]\u001b[38;5;241m.\u001b[39msort_values(axis\u001b[38;5;241m=\u001b[39m\u001b[38;5;241m0\u001b[39m, ascending\u001b[38;5;241m=\u001b[39m\u001b[38;5;28;01mFalse\u001b[39;00m)\u001b[38;5;241m.\u001b[39mhead(n)\n\u001b[1;32m      6\u001b[0m     DA_sorted\u001b[38;5;241m=\u001b[39mpd\u001b[38;5;241m.\u001b[39mconcat([DA_sorted, df], axis\u001b[38;5;241m=\u001b[39m\u001b[38;5;241m1\u001b[39m)\n",
      "\u001b[0;31mNameError\u001b[0m: name 'df_activity' is not defined"
     ]
    }
   ],
   "source": [
    "# Plot the activity by nuclide\n",
    "n=10\n",
    "DA_sorted=pd.DataFrame()\n",
    "for column in df_activity:\n",
    "    df=df_activity[column].sort_values(axis=0, ascending=False).head(n)\n",
    "    DA_sorted=pd.concat([DA_sorted, df], axis=1)\n",
    "    \n",
    "DA_sorted\n",
    "\n",
    "\n",
    "\n",
    "x=select_time(DA_sorted, time, 100000, time_dis)\n",
    "print(x)\n",
    "DA_sortedT=DA_sorted[x].transpose().dropna()\n",
    "DA_sortedT.plot.bar(stacked=True)"
   ]
  },
  {
   "cell_type": "code",
   "execution_count": null,
   "id": "c1e42781",
   "metadata": {},
   "outputs": [],
   "source": [
    "# Plot the decay heat by nuclide\n",
    "\n",
    "n=10\n",
    "DH_sorted=pd.DataFrame()\n",
    "for column in df_DH:\n",
    "    df=df_DH[column].sort_values(axis=0, ascending=False).head(n)\n",
    "    DH_sorted=pd.concat([DH_sorted, df], axis=1)\n",
    "    \n",
    "DH_sorted\n",
    "\n",
    "x=select_time(DA_sorted, time, 100000, time_dis)\n",
    "DH_sortedT=DH_sorted[x].transpose().dropna()\n",
    "DH_sortedT.plot.bar(stacked=True)"
   ]
  },
  {
   "cell_type": "code",
   "execution_count": null,
   "id": "3ff4c7b0",
   "metadata": {},
   "outputs": [],
   "source": []
  }
 ],
 "metadata": {
  "kernelspec": {
   "display_name": "openmc-env",
   "language": "python",
   "name": "openmc-env"
  },
  "language_info": {
   "codemirror_mode": {
    "name": "ipython",
    "version": 3
   },
   "file_extension": ".py",
   "mimetype": "text/x-python",
   "name": "python",
   "nbconvert_exporter": "python",
   "pygments_lexer": "ipython3",
   "version": "3.11.3"
  }
 },
 "nbformat": 4,
 "nbformat_minor": 5
}
