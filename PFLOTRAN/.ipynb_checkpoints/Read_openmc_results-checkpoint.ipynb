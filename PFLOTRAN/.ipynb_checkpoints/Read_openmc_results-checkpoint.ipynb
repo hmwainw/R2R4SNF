{
 "cells": [
  {
   "cell_type": "code",
   "execution_count": 243,
   "id": "b3df8f8a",
   "metadata": {},
   "outputs": [],
   "source": [
    "# Import the python modules and openmc modules \n",
    "%matplotlib inline\n",
    "import openmc\n",
    "import openmc.deplete\n",
    "import math\n",
    "import pandas as pd\n",
    "import matplotlib.pyplot as plt\n",
    "import numpy as np"
   ]
  },
  {
   "cell_type": "code",
   "execution_count": 244,
   "id": "705475c9",
   "metadata": {},
   "outputs": [],
   "source": [
    "# Path to the decay chain file used for the simulation\n",
    "openmc.config['chain_file']='./nuclear_data/chain_endfb71_pwr.xml'"
   ]
  },
  {
   "cell_type": "markdown",
   "id": "8ee063c0",
   "metadata": {},
   "source": [
    "## Functions"
   ]
  },
  {
   "cell_type": "code",
   "execution_count": 245,
   "id": "3fa36adb",
   "metadata": {},
   "outputs": [],
   "source": [
    "# Read and return the results from the depletion simulation for one reactor\n",
    "def get_results(reactor, primary_path):\n",
    "    ## ---- Parameters: \n",
    "    # reactor (str) - reactor name\n",
    "    # primary_path (str) - a path to the directory in which openmc files are stored\n",
    "    ## ---- Returns: \n",
    "    # results - openmc depletion calculation results\n",
    "    \n",
    "    results_file = primary_path+ \"depletion_results.h5\" # path to the depletion_results.h5 file\n",
    "    results=openmc.deplete.Results(results_file)\n",
    "    return results"
   ]
  },
  {
   "cell_type": "code",
   "execution_count": 246,
   "id": "2f264ed0",
   "metadata": {},
   "outputs": [],
   "source": [
    "# Read the result file and create a list with [time (d), keff, k uncerntainty, discharge step] \n",
    "def criticality(results):\n",
    "    ## ---- Parameters: \n",
    "    #  results - openmc depletion calculation results\n",
    "    ## ---- Returns: \n",
    "    #  crit_param (tuple) - the criticality prameters including:\n",
    "    #    - time - time in years\n",
    "    #    - keff - k-effective as a function of time\n",
    "    #    - discharge - discharge time step\n",
    "    \n",
    "    time, k = results.get_keff()\n",
    "    keff = k[:,0]\n",
    "    n_discharge = np.max(np.nonzero(keff))\n",
    "    crit_param = (time/(24*60*60), keff, n_discharge)\n",
    "    \n",
    "    return crit_param"
   ]
  },
  {
   "cell_type": "code",
   "execution_count": 247,
   "id": "fbb33321",
   "metadata": {},
   "outputs": [],
   "source": [
    "# Return the last value of keff\n",
    "def get_keff_final(crit_param):\n",
    "    ## ---- Parameters: \n",
    "    #  crit_param (tuple) - the result from criticality(results)\n",
    "    ## ---- Returns: \n",
    "    #  keff_final including\n",
    "    #  time[n] - the time of discharge\n",
    "    #  keff[n] - k_eff at the time of discharge\n",
    "    \n",
    "    n_discharge = crit_param[2]\n",
    "    time        = crit_param[0]\n",
    "    keff        = crit_param[1]\n",
    "\n",
    "    keff_final  = (time[n_discharge],keff[n_discharge])\n",
    "    \n",
    "    return keff_final"
   ]
  },
  {
   "cell_type": "code",
   "execution_count": 248,
   "id": "09f99f77",
   "metadata": {},
   "outputs": [],
   "source": [
    "# Return the number of steps of the enire simulation\n",
    "def number_steps(crit_param):\n",
    "    ## ---- Parameters: \n",
    "    #  crit_param (tuple) - the result from criticality(results)\n",
    "    #  reactor(str) - reactor name\n",
    "    ## ---- Returns: \n",
    "    #  n - the number of time steps\n",
    "    time = crit_param[0]\n",
    "    n_tot    = len(time)\n",
    "    return n_tot"
   ]
  },
  {
   "cell_type": "code",
   "execution_count": 306,
   "id": "ec0b76ac",
   "metadata": {},
   "outputs": [],
   "source": [
    "# Convert the output data (activity, decay heat...) from /gHM to /GWe.y\n",
    "def conv_GWe_y(value, reactor): # value should be given in value/gHM\n",
    "    ## ---- Parameters: \n",
    "    #  value - the value to be converted to per electricity production\n",
    "    #  reactor(str) - reactor name\n",
    "    ## ---- Returns: \n",
    "    #  value per electricity production\n",
    "    \n",
    "    param=get_parameters(reactor)\n",
    "    return value*365/(param[2]*param[1]*(10**-6))"
   ]
  },
  {
   "cell_type": "markdown",
   "id": "c7eb8e17",
   "metadata": {},
   "source": [
    "Radionucide Composition of SNF"
   ]
  },
  {
   "cell_type": "code",
   "execution_count": 250,
   "id": "017a1f27",
   "metadata": {},
   "outputs": [],
   "source": [
    "# Create a collection of OpenMC Material with the spent fuel material at each stage\n",
    "## crit_param is a list containing [time, keff, kun, discharge step]\n",
    "## id_mat correspond to the ID of the depleted material (usually '1' for the fuel)\n",
    "def get_snf_composition(primary_path, results, crit_param, id_mat):\n",
    "    ## ---- Parameters: \n",
    "    #  primary_path (str) - a path to the directory in which openmc files are stored\n",
    "    #  results - openmc depletion calculation results\n",
    "    #  crit_param (tuple) - the result from criticality(results)\n",
    "    #  id_mat - the ID of the depleted material (usually '1' for the fuel)\n",
    "    ## ---- Returns: \n",
    "    #  snf_composition - a collection of OpenMC Material with the spent fuel material at each time step\n",
    "    \n",
    "    n_tot = number_steps(crit_param)\n",
    "    snf_composition=openmc.Materials()\n",
    "    for i in range (n_tot):\n",
    "        spent_material=results.export_to_materials(burnup_index=i,path=primary_path+ 'materials.xml') # burnup index= step number, path=path to the materials.xml file use for the simulation\n",
    "        snf=spent_material[int(id_mat)-1]# In the spent_material, select the material corresponding to the fuel \n",
    "        snf_composition.append(snf)\n",
    "    return snf_composition"
   ]
  },
  {
   "cell_type": "code",
   "execution_count": 251,
   "id": "7ca10cd9",
   "metadata": {},
   "outputs": [],
   "source": [
    "# Return a dataframe containing the material composition at each stage in atom/b-cm\n",
    "## mat_collec is the collection of materials obtained with material_collec\n",
    "## time is the time corresponding to the steps of the simulation, n the number of steps in the simulation\n",
    "def df_snf(snf_composition, crit_param, unit):\n",
    "    ## ---- Parameters: \n",
    "    #  snf_composition - a collection of OpenMC Material with the spent fuel material at each time step\n",
    "    #  primary_path (str) - a path to the directory in which openmc files are stored\n",
    "    #  results - openmc depletion calculation results\n",
    "    #  crit_param (tuple) - the result from criticality(results)\n",
    "    #  id_mat - the ID of the depleted material (usually '1' for the fuel)\n",
    "    ## ---- Returns: \n",
    "    #  df_snf - dataframe containing the SNF material composition at each stage in atom/b-cm\n",
    "    \n",
    "    n_tot = number_steps(crit_param)    \n",
    "    time  = crit_param[0]\n",
    "    \n",
    "    df_snf=pd.DataFrame()\n",
    "    for i in range (n_tot):\n",
    "        spent_fuel=snf_composition[i]\n",
    "        snf=spent_fuel.get_nuclide_atom_densities()        \n",
    "        df_snf[i]=pd.DataFrame.from_dict(mat, orient='index', columns=[i])\n",
    "    df_snf=df_snf.transpose()\n",
    "    df_snf.set_index(time, inplace=True)\n",
    "    if (unit=='atom/gHM'):\n",
    "        df_snf=df_snf*10**24/snf_composition.density\n",
    "    return df_snf"
   ]
  },
  {
   "cell_type": "markdown",
   "id": "07dbd254",
   "metadata": {},
   "source": [
    "Burnup at each time steps"
   ]
  },
  {
   "cell_type": "code",
   "execution_count": 252,
   "id": "1735deb4",
   "metadata": {},
   "outputs": [],
   "source": [
    "# Return a list with the value of the input power during operation and discharge\n",
    "def get_power(param, crit_param):\n",
    "    ## ---- Parameters: \n",
    "    #  param - reactor parameters\n",
    "    #  crit_param (tuple) - the result from criticality(results)\n",
    "    ## ---- Returns: \n",
    "    #  power - total power out during operation and after discharge\n",
    "    \n",
    "    n_discharge = crit_param[2] # discharge step\n",
    "    n_tot      = number_steps(crit_param)    \n",
    "    power=[param[0]]*(n_discharge+1) # operation steps\n",
    "    cooling=[0]*(n_tot - n_discharge-1) # number of steps after discharge\n",
    "    power=power+cooling\n",
    "    return power"
   ]
  },
  {
   "cell_type": "code",
   "execution_count": 253,
   "id": "81935d4f",
   "metadata": {},
   "outputs": [],
   "source": [
    "# Return a list with the value of the burnup at each time step\n",
    "def get_burnup(power, snf_composition, crit_param): # time must be given in days\n",
    "    ## ---- Parameters: \n",
    "    #  power - total power out during operation and after discharge from power_evolution()  \n",
    "    #  crit_param (tuple) - the result from criticality(results)\n",
    "    #  snf_composition - a collection of OpenMC Material with the spent nuclear fuel material composition at each time step\n",
    "    ## ---- Returns: \n",
    "    #  burnup_step - burnup at each time step\n",
    "       \n",
    "    fis_mass = snf_composition[0].fissionable_mass  \n",
    "    burnup_step=[]\n",
    "    n=0\n",
    "    time = crit_param[0]\n",
    "    for i in time:\n",
    "        burnup=i*power[n]/((10**3)*fis_mass)\n",
    "        burnup_step.append(burnup)\n",
    "        n=n+1\n",
    "    return burnup_step"
   ]
  },
  {
   "cell_type": "markdown",
   "id": "99cafd3d",
   "metadata": {},
   "source": [
    "Activity of the spent fuel"
   ]
  },
  {
   "cell_type": "code",
   "execution_count": 254,
   "id": "7e3ddadf",
   "metadata": {},
   "outputs": [],
   "source": [
    "# Create a dataframe with the activity of the spent fuel at each time step, for each nuclide\n",
    "## material collec is the collection of materials obtained with material_collection\n",
    "def get_activity(snf_composition, crit_param):\n",
    "    ## ---- Parameters: \n",
    "    #  snf_composition - a collection of OpenMC Material with the spent fuel material at each time step\n",
    "    #  crit_param (tuple) - the result from criticality(results)\n",
    "    ## ---- Returns: \n",
    "    #  df_snf - dataframe containing the activity of each radionuclide in SNF at each time step\n",
    "    \n",
    "    n_tot = number_steps(crit_param)    \n",
    "    time  = crit_param[0]\n",
    "    \n",
    "    df_act=pd.DataFrame()\n",
    "    for i in range (n_tot):\n",
    "        act = snf_composition[i].get_activity(by_nuclide=True, units='Bq/g')\n",
    "        df_act[i] = pd.DataFrame.from_dict(act, orient='index', columns=[i])\n",
    "    df_act.columns=time\n",
    "    return df_act"
   ]
  },
  {
   "cell_type": "code",
   "execution_count": 255,
   "id": "052cd39e",
   "metadata": {
    "scrolled": true
   },
   "outputs": [],
   "source": [
    "# Create a dataframe with the total activity(Bq/g) of the spent fuel at each time step\n",
    "def get_activity_tot(snf_composition, crit_param): \n",
    "    ## ---- Parameters: \n",
    "    #  snf_composition - a collection of OpenMC Material with the spent fuel material at each time step\n",
    "    #  crit_param (tuple) - the result from criticality(results)\n",
    "    ## ---- Returns: \n",
    "    #  df_act - dataframe containing the total activity(Bq/g) of the spent fuel at each time step\n",
    "\n",
    "    n_tot = number_steps(crit_param)    \n",
    "    time  = crit_param[0]\n",
    "    \n",
    "    act_tot=[]\n",
    "    for i in range (n_tot):\n",
    "        act=snf_composition[i].get_activity(by_nuclide=False, units='Bq/g')\n",
    "        act_tot.append(act)\n",
    "    df_act=pd.DataFrame(act_tot, index=time, columns=['Total_Activity (Bq/g)'])\n",
    "    return df_act"
   ]
  },
  {
   "cell_type": "markdown",
   "id": "4475225b",
   "metadata": {},
   "source": [
    "Decay heat of the spent fuel"
   ]
  },
  {
   "cell_type": "code",
   "execution_count": 256,
   "id": "6bd4832f",
   "metadata": {},
   "outputs": [],
   "source": [
    "# Create a dataframe with the decay heat of the spent fuel fro at each time step\n",
    "def get_decay_heat(snf_composition, crit_param):\n",
    "    ## ---- Parameters: \n",
    "    #  snf_composition - a collection of OpenMC Material with the spent fuel material at each time step\n",
    "    #  crit_param (tuple) - the result from criticality(results)\n",
    "    ## ---- Returns: \n",
    "    #  df_DH - dataframe containing the decay heat (W/g) of the spent fuel at each time step\n",
    "\n",
    "    n_tot = number_steps(crit_param)    \n",
    "    time  = crit_param[0]\n",
    "    \n",
    "    df_DH=pd.DataFrame()\n",
    "    for i in range(n_tot):\n",
    "        act  = snf_composition[i].get_decay_heat(units= 'W/g', by_nuclide=True)\n",
    "        df_DH[i] = pd.DataFrame.from_dict(act, orient='index', columns=[i])\n",
    "    df_DH.columns=time\n",
    "    return df_DH"
   ]
  },
  {
   "cell_type": "code",
   "execution_count": 257,
   "id": "c8211bf8",
   "metadata": {},
   "outputs": [],
   "source": [
    "# Create a dataframe with the total decay heat of the spent fuel at each time step\n",
    "def get_decay_heat_tot(snf_composition, crit_param):\n",
    "    ## ---- Parameters: \n",
    "    #  snf_composition - a collection of OpenMC Material with the spent fuel material at each time step\n",
    "    #  crit_param (tuple) - the result from criticality(results)\n",
    "    ## ---- Returns: \n",
    "    #  df_DH - dataframe containing the total decay heat (W/g) of the spent fuel at each time step\n",
    "    n_tot = number_steps(crit_param)    \n",
    "    time  = crit_param[0]\n",
    "    \n",
    "    DH_tot=[]\n",
    "    for i in range(n_tot):\n",
    "        DH = snf_composition[i].get_decay_heat(units='W/g',by_nuclide=False)\n",
    "        DH_tot.append(DH)\n",
    "    df_DH=pd.DataFrame(DH_tot, index=time, columns=['Total_Decay_Heat (W/g)'])\n",
    "    return df_DH"
   ]
  },
  {
   "cell_type": "markdown",
   "id": "c0ebb214",
   "metadata": {},
   "source": [
    "Radiotoxicity"
   ]
  },
  {
   "cell_type": "code",
   "execution_count": 258,
   "id": "6f69ffa8",
   "metadata": {},
   "outputs": [],
   "source": [
    "# Return the radiotoxicity for each nuclide\n",
    "def get_toxicity(snf_composition, crit_param):\n",
    "    ## ---- Parameters: \n",
    "    #  snf_composition - a collection of OpenMC Material with the spent fuel material at each time step\n",
    "    #  crit_param (tuple) - the result from criticality(results)\n",
    "    ## ---- Returns: \n",
    "    #  df_tox - dataframe containing the radiotoxicity for each nuclide at each time step\n",
    "    \n",
    "    # Path to the CSV file containing the DCF/ MPC factors \n",
    "    df_DCF = pd.read_csv('DCF_ingestion.csv', sep=';')\n",
    "\n",
    "    # Custom the dataframe\n",
    "    df_DCF.set_index('Isotope', inplace=True)\n",
    "    df_DCF = df_DCF.iloc[1:,:].dropna()\n",
    "\n",
    "    df_tox_mat = get_activity(snf_composition, crit_param) # dataframe containing the activity of each nuclide\n",
    "    df_tox = df_tox_mat.merge(df_DCF, left_index=True, right_index=True, how='inner') # merge the 2 dataframe\n",
    "    df_tox = df_tox.mul(df_tox['Conversion factors (Sv/Bq)'], axis='index') # multiply the activity by the dose conversion factor for each nuclide\n",
    "    df_tox = df_tox.iloc[:, :-1]\n",
    "    return df_tox"
   ]
  },
  {
   "cell_type": "code",
   "execution_count": 259,
   "id": "33c88d8d",
   "metadata": {},
   "outputs": [],
   "source": [
    "# Return the total radiotoxicity for each time step\n",
    "def get_toxicity_tot(snf_composition, crit_param):\n",
    "    ## ---- Parameters: \n",
    "    #  snf_composition - a collection of OpenMC Material with the spent fuel material at each time step\n",
    "    #  crit_param (tuple) - the result from criticality(results)\n",
    "    ## ---- Returns: \n",
    "    #  df_tox_tot - dataframe containing the total radiotoxicity at each time step\n",
    "       \n",
    "    time  = crit_param[0]\n",
    "    \n",
    "    df_tox = get_toxicity(snf_composition, crit_param)\n",
    "    df_tox_tot = df_tox.sum(axis=0)\n",
    "    df_tox_tot = df_tox_tot.transpose()\n",
    "    df_tox_tot = df_tox_tot.set_axis(time)\n",
    "    return df_tox_tot"
   ]
  },
  {
   "cell_type": "markdown",
   "id": "8e870c70",
   "metadata": {},
   "source": [
    "SNF Mass and Volume"
   ]
  },
  {
   "cell_type": "code",
   "execution_count": 260,
   "id": "1b81a733",
   "metadata": {},
   "outputs": [],
   "source": [
    "# Return SNF mass kg/MWe.year\n",
    "def get_SNF_mass(param): \n",
    "    ## ---- Parameters: \n",
    "    #  param - reactor parameters \n",
    "    ## ---- Returns: \n",
    "    #  snf_mass - dataframe containing the total decay heat (W/g) of the spent fuel at each time step\n",
    "    \n",
    "    burnup_discharge = param[2]\n",
    "    efficiency       = param[1]\n",
    "    snf_mass         = 365/(burnup_discharge*efficiency)\n",
    "    \n",
    "    return snf_mass"
   ]
  },
  {
   "cell_type": "code",
   "execution_count": 325,
   "id": "3e541e80",
   "metadata": {},
   "outputs": [],
   "source": [
    "# Return the SNF volume in m3/ GWe.year\n",
    "def get_SNF_volume(reactor, param, snf_composition):\n",
    "    ## ---- Parameters: \n",
    "    #  param - reactor parameters \n",
    "    ## ---- Returns: \n",
    "    #  snf_volume = dataframe containing the total decay heat (W/g) of the spent fuel at each time step   \n",
    "    \n",
    "    efficiency   = param[1]  \n",
    "    burnup_discharge = param[2]\n",
    "    volume_model = param[3]\n",
    "    \n",
    "    fiss_mass = snf_composition[0].fissionable_mass\n",
    "\n",
    "    snf_mass = get_SNF_mass(param)\n",
    "    snf_volume = volume_model*snf_mass/fiss_mass\n",
    "    \n",
    "    if (reactor=='Ref_PWR'):\n",
    "        snf_volume = (np.pi*(119.7*2.54/2)**2*1.26)/(157*264*fiss_mass)*(365/(discharge_BU*efficiency))\n",
    "    if (reactor=='Micro_PWR'): # taken from the NuScale design\n",
    "        snf_volume =(np.pi*(4.94*30.48/2)**2*1.26)/(37*264*fiss_mass)*(365/(discharge_BU*efficiency))\n",
    "    \n",
    "    return snf_volume"
   ]
  },
  {
   "cell_type": "code",
   "execution_count": 320,
   "id": "87d481a3",
   "metadata": {},
   "outputs": [],
   "source": [
    "results = get_results(reactor, primary_path)\n",
    "crit_param = criticality(results)\n",
    "snf_composition = get_snf_composition(primary_path, results, crit_param, 1)"
   ]
  },
  {
   "cell_type": "code",
   "execution_count": 326,
   "id": "7bb00d3c",
   "metadata": {},
   "outputs": [],
   "source": [
    "param = get_parameters(reactor)\n",
    "snf_volume = get_SNF_volume(reactor, param, snf_composition)"
   ]
  },
  {
   "cell_type": "code",
   "execution_count": 322,
   "id": "6daff17f",
   "metadata": {},
   "outputs": [
    {
     "data": {
      "text/plain": [
       "3.0382823191275827"
      ]
     },
     "execution_count": 322,
     "metadata": {},
     "output_type": "execute_result"
    }
   ],
   "source": [
    "snf_volume"
   ]
  },
  {
   "cell_type": "code",
   "execution_count": 327,
   "id": "315a9e16",
   "metadata": {},
   "outputs": [
    {
     "data": {
      "text/plain": [
       "3.038282319127583"
      ]
     },
     "execution_count": 327,
     "metadata": {},
     "output_type": "execute_result"
    }
   ],
   "source": [
    "snf_volume"
   ]
  },
  {
   "cell_type": "markdown",
   "id": "cb65a9b6",
   "metadata": {},
   "source": [
    "I129 concentration"
   ]
  },
  {
   "cell_type": "code",
   "execution_count": 262,
   "id": "0a523900",
   "metadata": {},
   "outputs": [],
   "source": [
    "# Calculate I129 concentration in atom/cm3\n",
    "def get_I129(results):\n",
    "    ## ---- Parameters: \n",
    "    #  results - openmc depletion calculation results\n",
    "    ## ---- Returns: \n",
    "    #  I129 - I129 concentration in atom/cm3\n",
    "    \n",
    "    _, I129 = results.get_atoms(\"1\", \"I129\", nuc_units='atom/cm3', time_units='d')\n",
    "    return I129"
   ]
  },
  {
   "cell_type": "markdown",
   "id": "0bdee299",
   "metadata": {},
   "source": [
    "## Dataframe with all the results"
   ]
  },
  {
   "cell_type": "code",
   "execution_count": 302,
   "id": "903c7a0e",
   "metadata": {},
   "outputs": [],
   "source": [
    "# Return a dataframe containing the main metrics and parameters useful in the study\n",
    "def global_df(reactor, results):\n",
    "    df = pd.DataFrame()\n",
    "    \n",
    "    # Previous results\n",
    "    param = get_parameters(reactor)\n",
    "    crit_param = criticality(results)\n",
    "    snf_composition = get_snf_composition(primary_path, results, crit_param, \"1\")\n",
    "    n=number_steps(crit_param)\n",
    "    power = get_power(param, crit_param)\n",
    "    \n",
    "    # Gather the information for the dataframe \n",
    "    df['keff'] = crit_param[1]\n",
    "    df.set_index(crit_param[0], inplace=True)\n",
    "    df['burnup'] = get_burnup(power, snf_composition, crit_param)\n",
    "    df['Power (W/cm)'] = power\n",
    "    df['Activity (Bq/g)'] = get_activity_tot(snf_composition, crit_param)\n",
    "    df['Activity (Ci/GWe.y)'] = conv_GWe_y(df['Activity (Bq/g)'], reactor)*27*(10**-12)\n",
    "    df['Decay heat (W/g)']=get_decay_heat_tot(snf_composition, crit_param)\n",
    "    df['Decay heat (W/GWe.y)'] = conv_GWe_y(df['Decay heat (W/g)'], reactor)\n",
    "    df['Radiotoxicity (Sv/g)'] = get_toxicity_tot(snf_composition, crit_param)\n",
    "    df['Radiotoxicity (Sv/GWe.y)'] = conv_GWe_y(df['Radiotoxicity (Sv/g)'], reactor)\n",
    "    df['I129 (atom/cm3)'] = get_I129(results)\n",
    "    df['I129 (atom/GWe.y)'] = df['I129 (atom/cm3)']*snf_composition[0].volume*365/(param[0]*keff_final(crit_param)[0]*param[1])*(10**9)\n",
    "    df['Efficiency']=param[1]\n",
    "    df['Volume Model (cm3)'] = param[3]\n",
    "    df['SNF mass (t/GWe.y)'] = get_SNF_mass(param)\n",
    "    df['SNF volume (m3/(GWe.y))'] = get_SNF_volume(reactor, param, snf_composition)\n",
    "    df['discharge step'] = crit_param[2]\n",
    "    df['discharge time'] = keff_final(crit_param)[0]\n",
    "    df['volume_Ueq']= snf_composition[0].volume\n",
    "    df['mass U'] = snf_composition[0].fissionable_mass\n",
    "    return df"
   ]
  },
  {
   "cell_type": "code",
   "execution_count": 303,
   "id": "32f4ea46",
   "metadata": {},
   "outputs": [],
   "source": [
    "# Return an array of dataframes with the activity, radiotoxicity, decay heat per nuclide at each time step\n",
    "# Make the comparison with detailed composition easier\n",
    "def by_nuclide(reactor, results):\n",
    "    # Gather the parameters for the reactor\n",
    "    param = get_parameters(reactor)\n",
    "    crit_param = criticality(results)\n",
    "    snf_composition = get_snf_composition(primary_path, results, crit_param, \"1\")\n",
    "    n_tot =number_steps(crit_param)\n",
    "    time = crit_param[0] # time steps\n",
    "    n_discharge = crit_param[2] # the time steps of the discharge step\n",
    "    \n",
    "    # Create the dataframe\n",
    "    df_act = get_activity(snf_composition, crit_param) # activity\n",
    "    df_DH  = get_decay_heat(snf_composition, crit_param) #decay heat\n",
    "    df_tox = get_toxicity(snf_composition, crit_param) # radiotoxicity\n",
    "    #Same dataframe in /GWe.y\n",
    "    df_act_conv = conv_GWe_y(df_act, reactor)\n",
    "    df_DH_conv  = conv_GWe_y(df_DH, reactor)\n",
    "    df_tox_conv = conv_GWe_y(df_tox, reactor)\n",
    "    return (df_act, df_DH, df_tox,time, n_discharge, df_act_conv, df_DH_conv, df_tox_conv)"
   ]
  },
  {
   "cell_type": "code",
   "execution_count": 279,
   "id": "52a14a8e",
   "metadata": {},
   "outputs": [],
   "source": [
    "# Create 2 csv files with the df_global dataframe\n",
    "def df_to_csv(reactor,primary_path):\n",
    "    results     = get_results(reactor, primary_path)\n",
    "    df          = global_df(reactor, results) # dataframe containing the results for operation + discharge time \n",
    "    n_discharge = df['discharge step'][0]\n",
    "    df_cooling  = df.iloc[n_discharge:].copy(deep=True) # dataframe containing the value only after discharge from the reactor\n",
    "    df.to_csv(path_or_buf=primary_path+'out_'+reactor+'.csv', index=True, header=True)\n",
    "    df_cooling.to_csv(path_or_buf=primary_path+'cooling'+reactor+'.csv', index=True, header=True)"
   ]
  },
  {
   "cell_type": "code",
   "execution_count": 280,
   "id": "ef2882ce",
   "metadata": {},
   "outputs": [],
   "source": [
    "# Return a dataframe containing the contribution of each nuclide for the metric consider, contained in df\n",
    "def df_prop(df):\n",
    "    total = df.sum(axis=0)\n",
    "    df_prop=df/total\n",
    "    return df_prop"
   ]
  },
  {
   "cell_type": "code",
   "execution_count": 281,
   "id": "da224c4a",
   "metadata": {},
   "outputs": [],
   "source": [
    "def by_nuclide_csv(reactor, primary_path):\n",
    "    results = get_results(reactor, primary_path)\n",
    "    # Dataframe with the waste management metrics by nuclide    \n",
    "    df_act, df_DH, df_rad, time, tis_dis, df_act_conv, df_DH_conv, df_rad_conv=by_nuclide(reactor, results)\n",
    "    \n",
    "    # For each metrics, calculate the contribution of each metric\n",
    "    act_prop=df_prop(df_act)\n",
    "    DH_prop=df_prop(df_DH)\n",
    "    rad_prop=df_prop(df_rad)\n",
    "        \n",
    "    # Dataframe to export to csv for analysis    \n",
    "    df_act.to_csv(path_or_buf=primary_path+'activity_'+reactor+'.csv', index=True, header=True)\n",
    "    df_DH.to_csv(path_or_buf=primary_path+'decay_heat_'+reactor+'.csv', index=True, header=True)\n",
    "    df_rad.to_csv(path_or_buf=primary_path+'radiotoxicity_'+reactor+'.csv', index=True, header=True)\n",
    "    df_act_conv.to_csv(path_or_buf=primary_path+'activity_conv_'+reactor+'.csv', index=True, header=True)\n",
    "    df_DH_conv.to_csv(path_or_buf=primary_path+'decay_heat_conv_'+reactor+'.csv', index=True, header=True)\n",
    "    df_rad_conv.to_csv(path_or_buf=primary_path+'radiotoxicity_conv_'+reactor+'.csv', index=True, header=True)\n",
    "    act_prop.to_csv(path_or_buf=primary_path+'activity_prop_'+reactor+'.csv', index=True, header=True)\n",
    "    DH_prop.to_csv(path_or_buf=primary_path+'decay_heat_prop_'+reactor+'.csv', index=True, header=True)\n",
    "    rad_prop.to_csv(path_or_buf=primary_path+'radiotoxicity_prop_'+reactor+'.csv', index=True, header=True)"
   ]
  },
  {
   "cell_type": "markdown",
   "id": "51caf453",
   "metadata": {},
   "source": [
    "## Example"
   ]
  },
  {
   "cell_type": "markdown",
   "id": "e41b0018",
   "metadata": {},
   "source": [
    "## Single reactor"
   ]
  },
  {
   "cell_type": "markdown",
   "id": "f3f35f89",
   "metadata": {},
   "source": [
    "Set-up"
   ]
  },
  {
   "cell_type": "code",
   "execution_count": 315,
   "id": "3e9a9bba",
   "metadata": {},
   "outputs": [],
   "source": [
    "# List of the reactors name to study \n",
    "reactor = 'Ref_PWR'\n",
    "primary_path='Results/'+reactor+'/'\n",
    "\n",
    "# Necessary files\n",
    "# rimary_path+ \"depletion_results.h5\" - openMC output file\n",
    "# DCF_ingestion.csv - the DCF/ MPC factors in the running directory \n",
    "# primary_path+ 'materials.xml' - openMC material file \n",
    "\n",
    "# Need to change the path\n",
    "#/Users/harukowainwright/Documents/Projects/Chloe/Codes/nuclear_data/materials.xml\n",
    "\n",
    "def get_parameters(reactor): \n",
    "# Return the input parameters of the simulations [linear power (W/cm), thermal efficiency, discharge burnup, volume_model]\n",
    "    if (reactor=='eVinci'):\n",
    "        parameters=[76969.02001294993, 0.33, 80, np.pi*(70**2) ]\n",
    "    if (reactor=='HTGR_60'):\n",
    "        parameters=[76969.02001294993, 0.50, 60, np.pi*(70**2) ]\n",
    "    if (reactor=='HTGR_40'):\n",
    "        parameters=[76969.02001294993, 0.50, 40, np.pi*(70**2) ]\n",
    "    if (reactor=='HTGR_20'):\n",
    "        parameters=[76969.02001294993, 0.50, 20, np.pi*(70**2) ]\n",
    "    if (reactor=='HTGR_80'):\n",
    "        parameters=[76969.02001294993, 0.50, 80, np.pi*(70**2) ]\n",
    "    if (reactor=='HTGR_100'):\n",
    "        parameters=[76969.02001294993, 0.50, 100, np.pi*(70**2) ]\n",
    "    if (reactor=='USNC'):\n",
    "        parameters=[190066.35554218251, 0.33, 80, np.pi*(110**2) ]\n",
    "    if (reactor=='Ref_PWR'):\n",
    "        parameters=[5.72*1000*1.26/30.48, 0.33, 50, np.pi*(0.45720**2)*1.26 ]\n",
    "        # the volume is (cladding outer radius)^2*pi*(pitch)\n",
    "    if (reactor=='Micro_PWR'):\n",
    "        parameters=[3.90*1000*1.26/30.48, 0.33, 15, np.pi*(0.45720**2)*1.26]\n",
    "        # the volume is (cladding outer radius)^2*pi*(pitch)\n",
    "    if (reactor=='SFR'):\n",
    "        parameters=[250000, 0.4, 120, 3179.8823521410927]\n",
    "    return parameters"
   ]
  },
  {
   "cell_type": "markdown",
   "id": "c43158d5",
   "metadata": {},
   "source": [
    "Run codes"
   ]
  },
  {
   "cell_type": "code",
   "execution_count": 307,
   "id": "e6832c2e",
   "metadata": {},
   "outputs": [
    {
     "name": "stderr",
     "output_type": "stream",
     "text": [
      "/Users/harukowainwright/anaconda3/envs/openmc-env/lib/python3.12/site-packages/openmc/mixin.py:70: IDWarning: Another Material instance already exists with id=1.\n",
      "  warn(msg, IDWarning)\n",
      "/Users/harukowainwright/anaconda3/envs/openmc-env/lib/python3.12/site-packages/openmc/mixin.py:70: IDWarning: Another Material instance already exists with id=2.\n",
      "  warn(msg, IDWarning)\n",
      "/Users/harukowainwright/anaconda3/envs/openmc-env/lib/python3.12/site-packages/openmc/mixin.py:70: IDWarning: Another Material instance already exists with id=3.\n",
      "  warn(msg, IDWarning)\n",
      "/Users/harukowainwright/anaconda3/envs/openmc-env/lib/python3.12/site-packages/openmc/mixin.py:70: IDWarning: Another Material instance already exists with id=4.\n",
      "  warn(msg, IDWarning)\n",
      "/Users/harukowainwright/anaconda3/envs/openmc-env/lib/python3.12/site-packages/openmc/mixin.py:70: IDWarning: Another Material instance already exists with id=5.\n",
      "  warn(msg, IDWarning)\n",
      "/Users/harukowainwright/anaconda3/envs/openmc-env/lib/python3.12/site-packages/openmc/mixin.py:70: IDWarning: Another Material instance already exists with id=6.\n",
      "  warn(msg, IDWarning)\n",
      "/Users/harukowainwright/anaconda3/envs/openmc-env/lib/python3.12/site-packages/openmc/mixin.py:70: IDWarning: Another Material instance already exists with id=8.\n",
      "  warn(msg, IDWarning)\n",
      "/Users/harukowainwright/anaconda3/envs/openmc-env/lib/python3.12/site-packages/openmc/mixin.py:70: IDWarning: Another Material instance already exists with id=9.\n",
      "  warn(msg, IDWarning)\n",
      "/Users/harukowainwright/anaconda3/envs/openmc-env/lib/python3.12/site-packages/openmc/mixin.py:70: IDWarning: Another Material instance already exists with id=10.\n",
      "  warn(msg, IDWarning)\n",
      "/Users/harukowainwright/anaconda3/envs/openmc-env/lib/python3.12/site-packages/openmc/mixin.py:70: IDWarning: Another Material instance already exists with id=11.\n",
      "  warn(msg, IDWarning)\n",
      "/Users/harukowainwright/anaconda3/envs/openmc-env/lib/python3.12/site-packages/openmc/mixin.py:70: IDWarning: Another Material instance already exists with id=12.\n",
      "  warn(msg, IDWarning)\n",
      "/Users/harukowainwright/anaconda3/envs/openmc-env/lib/python3.12/site-packages/openmc/mixin.py:70: IDWarning: Another Material instance already exists with id=14.\n",
      "  warn(msg, IDWarning)\n",
      "/Users/harukowainwright/anaconda3/envs/openmc-env/lib/python3.12/site-packages/openmc/mixin.py:70: IDWarning: Another Material instance already exists with id=15.\n",
      "  warn(msg, IDWarning)\n",
      "/Users/harukowainwright/anaconda3/envs/openmc-env/lib/python3.12/site-packages/openmc/mixin.py:70: IDWarning: Another Material instance already exists with id=16.\n",
      "  warn(msg, IDWarning)\n",
      "/Users/harukowainwright/anaconda3/envs/openmc-env/lib/python3.12/site-packages/openmc/mixin.py:70: IDWarning: Another Material instance already exists with id=17.\n",
      "  warn(msg, IDWarning)\n",
      "/var/folders/53/mywvp84j3zv5w72jr7dh8jth0000gn/T/ipykernel_56766/874915260.py:16: PerformanceWarning: DataFrame is highly fragmented.  This is usually the result of calling `frame.insert` many times, which has poor performance.  Consider joining all columns at once using pd.concat(axis=1) instead. To get a de-fragmented frame, use `newframe = frame.copy()`\n",
      "  df_act[i] = pd.DataFrame.from_dict(act, orient='index', columns=[i])\n"
     ]
    }
   ],
   "source": [
    "# Create csv file containing the results and main parameters\n",
    "df_to_csv(reactor, primary_path)"
   ]
  },
  {
   "cell_type": "code",
   "execution_count": 308,
   "id": "1093d721",
   "metadata": {},
   "outputs": [
    {
     "name": "stderr",
     "output_type": "stream",
     "text": [
      "/Users/harukowainwright/anaconda3/envs/openmc-env/lib/python3.12/site-packages/openmc/mixin.py:70: IDWarning: Another Material instance already exists with id=1.\n",
      "  warn(msg, IDWarning)\n",
      "/Users/harukowainwright/anaconda3/envs/openmc-env/lib/python3.12/site-packages/openmc/mixin.py:70: IDWarning: Another Material instance already exists with id=2.\n",
      "  warn(msg, IDWarning)\n",
      "/Users/harukowainwright/anaconda3/envs/openmc-env/lib/python3.12/site-packages/openmc/mixin.py:70: IDWarning: Another Material instance already exists with id=3.\n",
      "  warn(msg, IDWarning)\n",
      "/Users/harukowainwright/anaconda3/envs/openmc-env/lib/python3.12/site-packages/openmc/mixin.py:70: IDWarning: Another Material instance already exists with id=4.\n",
      "  warn(msg, IDWarning)\n",
      "/Users/harukowainwright/anaconda3/envs/openmc-env/lib/python3.12/site-packages/openmc/mixin.py:70: IDWarning: Another Material instance already exists with id=5.\n",
      "  warn(msg, IDWarning)\n",
      "/Users/harukowainwright/anaconda3/envs/openmc-env/lib/python3.12/site-packages/openmc/mixin.py:70: IDWarning: Another Material instance already exists with id=6.\n",
      "  warn(msg, IDWarning)\n",
      "/Users/harukowainwright/anaconda3/envs/openmc-env/lib/python3.12/site-packages/openmc/mixin.py:70: IDWarning: Another Material instance already exists with id=8.\n",
      "  warn(msg, IDWarning)\n",
      "/Users/harukowainwright/anaconda3/envs/openmc-env/lib/python3.12/site-packages/openmc/mixin.py:70: IDWarning: Another Material instance already exists with id=9.\n",
      "  warn(msg, IDWarning)\n",
      "/Users/harukowainwright/anaconda3/envs/openmc-env/lib/python3.12/site-packages/openmc/mixin.py:70: IDWarning: Another Material instance already exists with id=10.\n",
      "  warn(msg, IDWarning)\n",
      "/Users/harukowainwright/anaconda3/envs/openmc-env/lib/python3.12/site-packages/openmc/mixin.py:70: IDWarning: Another Material instance already exists with id=11.\n",
      "  warn(msg, IDWarning)\n",
      "/Users/harukowainwright/anaconda3/envs/openmc-env/lib/python3.12/site-packages/openmc/mixin.py:70: IDWarning: Another Material instance already exists with id=12.\n",
      "  warn(msg, IDWarning)\n",
      "/Users/harukowainwright/anaconda3/envs/openmc-env/lib/python3.12/site-packages/openmc/mixin.py:70: IDWarning: Another Material instance already exists with id=14.\n",
      "  warn(msg, IDWarning)\n",
      "/Users/harukowainwright/anaconda3/envs/openmc-env/lib/python3.12/site-packages/openmc/mixin.py:70: IDWarning: Another Material instance already exists with id=15.\n",
      "  warn(msg, IDWarning)\n",
      "/Users/harukowainwright/anaconda3/envs/openmc-env/lib/python3.12/site-packages/openmc/mixin.py:70: IDWarning: Another Material instance already exists with id=16.\n",
      "  warn(msg, IDWarning)\n",
      "/Users/harukowainwright/anaconda3/envs/openmc-env/lib/python3.12/site-packages/openmc/mixin.py:70: IDWarning: Another Material instance already exists with id=17.\n",
      "  warn(msg, IDWarning)\n",
      "/var/folders/53/mywvp84j3zv5w72jr7dh8jth0000gn/T/ipykernel_56766/874915260.py:16: PerformanceWarning: DataFrame is highly fragmented.  This is usually the result of calling `frame.insert` many times, which has poor performance.  Consider joining all columns at once using pd.concat(axis=1) instead. To get a de-fragmented frame, use `newframe = frame.copy()`\n",
      "  df_act[i] = pd.DataFrame.from_dict(act, orient='index', columns=[i])\n",
      "/var/folders/53/mywvp84j3zv5w72jr7dh8jth0000gn/T/ipykernel_56766/500742245.py:15: PerformanceWarning: DataFrame is highly fragmented.  This is usually the result of calling `frame.insert` many times, which has poor performance.  Consider joining all columns at once using pd.concat(axis=1) instead. To get a de-fragmented frame, use `newframe = frame.copy()`\n",
      "  df_DH[i] = pd.DataFrame.from_dict(act, orient='index', columns=[i])\n",
      "/var/folders/53/mywvp84j3zv5w72jr7dh8jth0000gn/T/ipykernel_56766/874915260.py:16: PerformanceWarning: DataFrame is highly fragmented.  This is usually the result of calling `frame.insert` many times, which has poor performance.  Consider joining all columns at once using pd.concat(axis=1) instead. To get a de-fragmented frame, use `newframe = frame.copy()`\n",
      "  df_act[i] = pd.DataFrame.from_dict(act, orient='index', columns=[i])\n"
     ]
    }
   ],
   "source": [
    "# Create csv files detailed per nuclide for each reactor\n",
    "by_nuclide_csv(reactor, primary_path)"
   ]
  },
  {
   "cell_type": "code",
   "execution_count": 300,
   "id": "4d107384",
   "metadata": {},
   "outputs": [
    {
     "data": {
      "text/plain": [
       "'HTGR_80'"
      ]
     },
     "execution_count": 300,
     "metadata": {},
     "output_type": "execute_result"
    }
   ],
   "source": [
    "reactor\n"
   ]
  },
  {
   "cell_type": "code",
   "execution_count": null,
   "id": "ce8cdd00",
   "metadata": {},
   "outputs": [],
   "source": []
  },
  {
   "cell_type": "markdown",
   "id": "7a8bcad1",
   "metadata": {},
   "source": [
    "## Multiple reactors \n"
   ]
  },
  {
   "cell_type": "code",
   "execution_count": 289,
   "id": "145e5c86",
   "metadata": {},
   "outputs": [
    {
     "ename": "KeyboardInterrupt",
     "evalue": "",
     "output_type": "error",
     "traceback": [
      "\u001b[0;31m---------------------------------------------------------------------------\u001b[0m",
      "\u001b[0;31mKeyboardInterrupt\u001b[0m                         Traceback (most recent call last)",
      "Cell \u001b[0;32mIn[289], line 5\u001b[0m\n\u001b[1;32m      3\u001b[0m \u001b[38;5;28;01mfor\u001b[39;00m reactor \u001b[38;5;129;01min\u001b[39;00m reactors:\n\u001b[1;32m      4\u001b[0m     primary_path\u001b[38;5;241m=\u001b[39m\u001b[38;5;124m'\u001b[39m\u001b[38;5;124mResults/\u001b[39m\u001b[38;5;124m'\u001b[39m\u001b[38;5;241m+\u001b[39mreactor\u001b[38;5;241m+\u001b[39m\u001b[38;5;124m'\u001b[39m\u001b[38;5;124m/\u001b[39m\u001b[38;5;124m'\u001b[39m\n\u001b[0;32m----> 5\u001b[0m     \u001b[43mdf_to_csv\u001b[49m\u001b[43m(\u001b[49m\u001b[43mreactor\u001b[49m\u001b[43m,\u001b[49m\u001b[43m \u001b[49m\u001b[43mprimary_path\u001b[49m\u001b[43m)\u001b[49m\n",
      "Cell \u001b[0;32mIn[279], line 3\u001b[0m, in \u001b[0;36mdf_to_csv\u001b[0;34m(reactor, primary_path)\u001b[0m\n\u001b[1;32m      2\u001b[0m \u001b[38;5;28;01mdef\u001b[39;00m \u001b[38;5;21mdf_to_csv\u001b[39m(reactor,primary_path):\n\u001b[0;32m----> 3\u001b[0m     results     \u001b[38;5;241m=\u001b[39m \u001b[43mget_results\u001b[49m\u001b[43m(\u001b[49m\u001b[43mreactor\u001b[49m\u001b[43m,\u001b[49m\u001b[43m \u001b[49m\u001b[43mprimary_path\u001b[49m\u001b[43m)\u001b[49m\n\u001b[1;32m      4\u001b[0m     df          \u001b[38;5;241m=\u001b[39m global_df(reactor, results) \u001b[38;5;66;03m# dataframe containing the results for operation + discharge time \u001b[39;00m\n\u001b[1;32m      5\u001b[0m     n_discharge \u001b[38;5;241m=\u001b[39m df[\u001b[38;5;124m'\u001b[39m\u001b[38;5;124mdischarge step\u001b[39m\u001b[38;5;124m'\u001b[39m][\u001b[38;5;241m0\u001b[39m]\n",
      "Cell \u001b[0;32mIn[245], line 10\u001b[0m, in \u001b[0;36mget_results\u001b[0;34m(reactor, primary_path)\u001b[0m\n\u001b[1;32m      2\u001b[0m \u001b[38;5;28;01mdef\u001b[39;00m \u001b[38;5;21mget_results\u001b[39m(reactor, primary_path):\n\u001b[1;32m      3\u001b[0m     \u001b[38;5;66;03m## ---- Parameters: \u001b[39;00m\n\u001b[1;32m      4\u001b[0m     \u001b[38;5;66;03m# reactor (str) - reactor name\u001b[39;00m\n\u001b[1;32m      5\u001b[0m     \u001b[38;5;66;03m# primary_path (str) - a path to the directory in which openmc files are stored\u001b[39;00m\n\u001b[1;32m      6\u001b[0m     \u001b[38;5;66;03m## ---- Returns: \u001b[39;00m\n\u001b[1;32m      7\u001b[0m     \u001b[38;5;66;03m# results - openmc depletion calculation results\u001b[39;00m\n\u001b[1;32m      9\u001b[0m     results_file \u001b[38;5;241m=\u001b[39m primary_path\u001b[38;5;241m+\u001b[39m \u001b[38;5;124m\"\u001b[39m\u001b[38;5;124mdepletion_results.h5\u001b[39m\u001b[38;5;124m\"\u001b[39m \u001b[38;5;66;03m# path to the depletion_results.h5 file\u001b[39;00m\n\u001b[0;32m---> 10\u001b[0m     results\u001b[38;5;241m=\u001b[39m\u001b[43mopenmc\u001b[49m\u001b[38;5;241;43m.\u001b[39;49m\u001b[43mdeplete\u001b[49m\u001b[38;5;241;43m.\u001b[39;49m\u001b[43mResults\u001b[49m\u001b[43m(\u001b[49m\u001b[43mresults_file\u001b[49m\u001b[43m)\u001b[49m\n\u001b[1;32m     11\u001b[0m     \u001b[38;5;28;01mreturn\u001b[39;00m results\n",
      "File \u001b[0;32m~/anaconda3/envs/openmc-env/lib/python3.12/site-packages/openmc/deplete/results.py:72\u001b[0m, in \u001b[0;36mResults.__init__\u001b[0;34m(self, filename)\u001b[0m\n\u001b[1;32m     69\u001b[0m         n \u001b[38;5;241m=\u001b[39m fh[\u001b[38;5;124m\"\u001b[39m\u001b[38;5;124mnumber\u001b[39m\u001b[38;5;124m\"\u001b[39m][\u001b[38;5;241m.\u001b[39m\u001b[38;5;241m.\u001b[39m\u001b[38;5;241m.\u001b[39m]\u001b[38;5;241m.\u001b[39mshape[\u001b[38;5;241m0\u001b[39m]\n\u001b[1;32m     71\u001b[0m         \u001b[38;5;28;01mfor\u001b[39;00m i \u001b[38;5;129;01min\u001b[39;00m \u001b[38;5;28mrange\u001b[39m(n):\n\u001b[0;32m---> 72\u001b[0m             data\u001b[38;5;241m.\u001b[39mappend(\u001b[43mStepResult\u001b[49m\u001b[38;5;241;43m.\u001b[39;49m\u001b[43mfrom_hdf5\u001b[49m\u001b[43m(\u001b[49m\u001b[43mfh\u001b[49m\u001b[43m,\u001b[49m\u001b[43m \u001b[49m\u001b[43mi\u001b[49m\u001b[43m)\u001b[49m)\n\u001b[1;32m     73\u001b[0m \u001b[38;5;28msuper\u001b[39m()\u001b[38;5;241m.\u001b[39m\u001b[38;5;21m__init__\u001b[39m(data)\n",
      "File \u001b[0;32m~/anaconda3/envs/openmc-env/lib/python3.12/site-packages/openmc/deplete/stepresult.py:489\u001b[0m, in \u001b[0;36mStepResult.from_hdf5\u001b[0;34m(cls, handle, step)\u001b[0m\n\u001b[1;32m    486\u001b[0m     results\u001b[38;5;241m.\u001b[39mvolume[mat] \u001b[38;5;241m=\u001b[39m vol\n\u001b[1;32m    487\u001b[0m     results\u001b[38;5;241m.\u001b[39mindex_mat[mat] \u001b[38;5;241m=\u001b[39m ind\n\u001b[0;32m--> 489\u001b[0m \u001b[43m\u001b[49m\u001b[38;5;28;43;01mfor\u001b[39;49;00m\u001b[43m \u001b[49m\u001b[43mnuc\u001b[49m\u001b[43m,\u001b[49m\u001b[43m \u001b[49m\u001b[43mnuc_handle\u001b[49m\u001b[43m \u001b[49m\u001b[38;5;129;43;01min\u001b[39;49;00m\u001b[43m \u001b[49m\u001b[43mhandle\u001b[49m\u001b[43m[\u001b[49m\u001b[38;5;124;43m\"\u001b[39;49m\u001b[38;5;124;43m/nuclides\u001b[39;49m\u001b[38;5;124;43m\"\u001b[39;49m\u001b[43m]\u001b[49m\u001b[38;5;241;43m.\u001b[39;49m\u001b[43mitems\u001b[49m\u001b[43m(\u001b[49m\u001b[43m)\u001b[49m\u001b[43m:\u001b[49m\n\u001b[1;32m    490\u001b[0m \u001b[43m    \u001b[49m\u001b[43mind_atom\u001b[49m\u001b[43m \u001b[49m\u001b[38;5;241;43m=\u001b[39;49m\u001b[43m \u001b[49m\u001b[43mnuc_handle\u001b[49m\u001b[38;5;241;43m.\u001b[39;49m\u001b[43mattrs\u001b[49m\u001b[43m[\u001b[49m\u001b[38;5;124;43m\"\u001b[39;49m\u001b[38;5;124;43matom number index\u001b[39;49m\u001b[38;5;124;43m\"\u001b[39;49m\u001b[43m]\u001b[49m\n\u001b[1;32m    491\u001b[0m \u001b[43m    \u001b[49m\u001b[43mresults\u001b[49m\u001b[38;5;241;43m.\u001b[39;49m\u001b[43mindex_nuc\u001b[49m\u001b[43m[\u001b[49m\u001b[43mnuc\u001b[49m\u001b[43m]\u001b[49m\u001b[43m \u001b[49m\u001b[38;5;241;43m=\u001b[39;49m\u001b[43m \u001b[49m\u001b[43mind_atom\u001b[49m\n",
      "File \u001b[0;32m~/anaconda3/envs/openmc-env/lib/python3.12/site-packages/h5py/_hl/base.py:438\u001b[0m, in \u001b[0;36mItemsViewHDF5.__iter__\u001b[0;34m(self)\u001b[0m\n\u001b[1;32m    436\u001b[0m \u001b[38;5;28;01mwith\u001b[39;00m phil:\n\u001b[1;32m    437\u001b[0m     \u001b[38;5;28;01mfor\u001b[39;00m key \u001b[38;5;129;01min\u001b[39;00m \u001b[38;5;28mself\u001b[39m\u001b[38;5;241m.\u001b[39m_mapping:\n\u001b[0;32m--> 438\u001b[0m         \u001b[38;5;28;01myield\u001b[39;00m (key, \u001b[38;5;28;43mself\u001b[39;49m\u001b[38;5;241;43m.\u001b[39;49m\u001b[43m_mapping\u001b[49m\u001b[38;5;241;43m.\u001b[39;49m\u001b[43mget\u001b[49m\u001b[43m(\u001b[49m\u001b[43mkey\u001b[49m\u001b[43m)\u001b[49m)\n",
      "File \u001b[0;32m~/anaconda3/envs/openmc-env/lib/python3.12/site-packages/h5py/_hl/group.py:400\u001b[0m, in \u001b[0;36mGroup.get\u001b[0;34m(self, name, default, getclass, getlink)\u001b[0m\n\u001b[1;32m    398\u001b[0m \u001b[38;5;28;01mif\u001b[39;00m \u001b[38;5;129;01mnot\u001b[39;00m (getclass \u001b[38;5;129;01mor\u001b[39;00m getlink):\n\u001b[1;32m    399\u001b[0m     \u001b[38;5;28;01mtry\u001b[39;00m:\n\u001b[0;32m--> 400\u001b[0m         \u001b[38;5;28;01mreturn\u001b[39;00m \u001b[38;5;28;43mself\u001b[39;49m\u001b[43m[\u001b[49m\u001b[43mname\u001b[49m\u001b[43m]\u001b[49m\n\u001b[1;32m    401\u001b[0m     \u001b[38;5;28;01mexcept\u001b[39;00m \u001b[38;5;167;01mKeyError\u001b[39;00m:\n\u001b[1;32m    402\u001b[0m         \u001b[38;5;28;01mreturn\u001b[39;00m default\n",
      "File \u001b[0;32mh5py/_objects.pyx:54\u001b[0m, in \u001b[0;36mh5py._objects.with_phil.wrapper\u001b[0;34m()\u001b[0m\n",
      "File \u001b[0;32mh5py/_objects.pyx:55\u001b[0m, in \u001b[0;36mh5py._objects.with_phil.wrapper\u001b[0;34m()\u001b[0m\n",
      "File \u001b[0;32m~/anaconda3/envs/openmc-env/lib/python3.12/site-packages/h5py/_hl/group.py:357\u001b[0m, in \u001b[0;36mGroup.__getitem__\u001b[0;34m(self, name)\u001b[0m\n\u001b[1;32m    355\u001b[0m         \u001b[38;5;28;01mraise\u001b[39;00m \u001b[38;5;167;01mValueError\u001b[39;00m(\u001b[38;5;124m\"\u001b[39m\u001b[38;5;124mInvalid HDF5 object reference\u001b[39m\u001b[38;5;124m\"\u001b[39m)\n\u001b[1;32m    356\u001b[0m \u001b[38;5;28;01melif\u001b[39;00m \u001b[38;5;28misinstance\u001b[39m(name, (\u001b[38;5;28mbytes\u001b[39m, \u001b[38;5;28mstr\u001b[39m)):\n\u001b[0;32m--> 357\u001b[0m     oid \u001b[38;5;241m=\u001b[39m h5o\u001b[38;5;241m.\u001b[39mopen(\u001b[38;5;28mself\u001b[39m\u001b[38;5;241m.\u001b[39mid, \u001b[38;5;28;43mself\u001b[39;49m\u001b[38;5;241;43m.\u001b[39;49m\u001b[43m_e\u001b[49m\u001b[43m(\u001b[49m\u001b[43mname\u001b[49m\u001b[43m)\u001b[49m, lapl\u001b[38;5;241m=\u001b[39m\u001b[38;5;28mself\u001b[39m\u001b[38;5;241m.\u001b[39m_lapl)\n\u001b[1;32m    358\u001b[0m \u001b[38;5;28;01melse\u001b[39;00m:\n\u001b[1;32m    359\u001b[0m     \u001b[38;5;28;01mraise\u001b[39;00m \u001b[38;5;167;01mTypeError\u001b[39;00m(\u001b[38;5;124m\"\u001b[39m\u001b[38;5;124mAccessing a group is done with bytes or str, \u001b[39m\u001b[38;5;124m\"\u001b[39m\n\u001b[1;32m    360\u001b[0m                     \u001b[38;5;124m\"\u001b[39m\u001b[38;5;124mnot \u001b[39m\u001b[38;5;132;01m{}\u001b[39;00m\u001b[38;5;124m\"\u001b[39m\u001b[38;5;241m.\u001b[39mformat(\u001b[38;5;28mtype\u001b[39m(name)))\n",
      "File \u001b[0;32m~/anaconda3/envs/openmc-env/lib/python3.12/site-packages/h5py/_hl/base.py:200\u001b[0m, in \u001b[0;36mCommonStateObject._e\u001b[0;34m(self, name, lcpl)\u001b[0m\n\u001b[1;32m    198\u001b[0m \u001b[38;5;28;01melif\u001b[39;00m \u001b[38;5;28misinstance\u001b[39m(name, \u001b[38;5;28mstr\u001b[39m):\n\u001b[1;32m    199\u001b[0m     \u001b[38;5;28;01mtry\u001b[39;00m:\n\u001b[0;32m--> 200\u001b[0m         name \u001b[38;5;241m=\u001b[39m \u001b[43mname\u001b[49m\u001b[38;5;241;43m.\u001b[39;49m\u001b[43mencode\u001b[49m\u001b[43m(\u001b[49m\u001b[38;5;124;43m'\u001b[39;49m\u001b[38;5;124;43mascii\u001b[39;49m\u001b[38;5;124;43m'\u001b[39;49m\u001b[43m)\u001b[49m\n\u001b[1;32m    201\u001b[0m         coding \u001b[38;5;241m=\u001b[39m h5t\u001b[38;5;241m.\u001b[39mCSET_ASCII\n\u001b[1;32m    202\u001b[0m     \u001b[38;5;28;01mexcept\u001b[39;00m \u001b[38;5;167;01mUnicodeEncodeError\u001b[39;00m:\n",
      "\u001b[0;31mKeyboardInterrupt\u001b[0m: "
     ]
    }
   ],
   "source": [
    "reactors=['Ref_PWR', 'Micro_PWR', 'HTGR_80', 'eVinci', 'USNC','SFR']\n",
    "\n",
    "for reactor in reactors:\n",
    "    primary_path='Results/'+reactor+'/'\n",
    "    df_to_csv(reactor, primary_path)"
   ]
  },
  {
   "cell_type": "code",
   "execution_count": 288,
   "id": "cc0f19a1",
   "metadata": {},
   "outputs": [
    {
     "data": {
      "text/plain": [
       "'Micro_PWR'"
      ]
     },
     "execution_count": 288,
     "metadata": {},
     "output_type": "execute_result"
    }
   ],
   "source": [
    "reactor\n"
   ]
  },
  {
   "cell_type": "code",
   "execution_count": 284,
   "id": "9d6138fb",
   "metadata": {},
   "outputs": [
    {
     "name": "stderr",
     "output_type": "stream",
     "text": [
      "/Users/harukowainwright/anaconda3/envs/openmc-env/lib/python3.12/site-packages/openmc/mixin.py:70: IDWarning: Another Material instance already exists with id=1.\n",
      "  warn(msg, IDWarning)\n",
      "/Users/harukowainwright/anaconda3/envs/openmc-env/lib/python3.12/site-packages/openmc/mixin.py:70: IDWarning: Another Material instance already exists with id=2.\n",
      "  warn(msg, IDWarning)\n",
      "/Users/harukowainwright/anaconda3/envs/openmc-env/lib/python3.12/site-packages/openmc/mixin.py:70: IDWarning: Another Material instance already exists with id=3.\n",
      "  warn(msg, IDWarning)\n",
      "/var/folders/53/mywvp84j3zv5w72jr7dh8jth0000gn/T/ipykernel_56766/874915260.py:16: PerformanceWarning: DataFrame is highly fragmented.  This is usually the result of calling `frame.insert` many times, which has poor performance.  Consider joining all columns at once using pd.concat(axis=1) instead. To get a de-fragmented frame, use `newframe = frame.copy()`\n",
      "  df_act[i] = pd.DataFrame.from_dict(act, orient='index', columns=[i])\n",
      "/var/folders/53/mywvp84j3zv5w72jr7dh8jth0000gn/T/ipykernel_56766/500742245.py:15: PerformanceWarning: DataFrame is highly fragmented.  This is usually the result of calling `frame.insert` many times, which has poor performance.  Consider joining all columns at once using pd.concat(axis=1) instead. To get a de-fragmented frame, use `newframe = frame.copy()`\n",
      "  df_DH[i] = pd.DataFrame.from_dict(act, orient='index', columns=[i])\n",
      "/var/folders/53/mywvp84j3zv5w72jr7dh8jth0000gn/T/ipykernel_56766/874915260.py:16: PerformanceWarning: DataFrame is highly fragmented.  This is usually the result of calling `frame.insert` many times, which has poor performance.  Consider joining all columns at once using pd.concat(axis=1) instead. To get a de-fragmented frame, use `newframe = frame.copy()`\n",
      "  df_act[i] = pd.DataFrame.from_dict(act, orient='index', columns=[i])\n",
      "/Users/harukowainwright/anaconda3/envs/openmc-env/lib/python3.12/site-packages/openmc/mixin.py:70: IDWarning: Another Material instance already exists with id=1.\n",
      "  warn(msg, IDWarning)\n",
      "/Users/harukowainwright/anaconda3/envs/openmc-env/lib/python3.12/site-packages/openmc/mixin.py:70: IDWarning: Another Material instance already exists with id=2.\n",
      "  warn(msg, IDWarning)\n",
      "/Users/harukowainwright/anaconda3/envs/openmc-env/lib/python3.12/site-packages/openmc/mixin.py:70: IDWarning: Another Material instance already exists with id=3.\n",
      "  warn(msg, IDWarning)\n",
      "/var/folders/53/mywvp84j3zv5w72jr7dh8jth0000gn/T/ipykernel_56766/874915260.py:16: PerformanceWarning: DataFrame is highly fragmented.  This is usually the result of calling `frame.insert` many times, which has poor performance.  Consider joining all columns at once using pd.concat(axis=1) instead. To get a de-fragmented frame, use `newframe = frame.copy()`\n",
      "  df_act[i] = pd.DataFrame.from_dict(act, orient='index', columns=[i])\n",
      "/var/folders/53/mywvp84j3zv5w72jr7dh8jth0000gn/T/ipykernel_56766/500742245.py:15: PerformanceWarning: DataFrame is highly fragmented.  This is usually the result of calling `frame.insert` many times, which has poor performance.  Consider joining all columns at once using pd.concat(axis=1) instead. To get a de-fragmented frame, use `newframe = frame.copy()`\n",
      "  df_DH[i] = pd.DataFrame.from_dict(act, orient='index', columns=[i])\n",
      "/var/folders/53/mywvp84j3zv5w72jr7dh8jth0000gn/T/ipykernel_56766/874915260.py:16: PerformanceWarning: DataFrame is highly fragmented.  This is usually the result of calling `frame.insert` many times, which has poor performance.  Consider joining all columns at once using pd.concat(axis=1) instead. To get a de-fragmented frame, use `newframe = frame.copy()`\n",
      "  df_act[i] = pd.DataFrame.from_dict(act, orient='index', columns=[i])\n"
     ]
    },
    {
     "ename": "UnboundLocalError",
     "evalue": "cannot access local variable 'parameters' where it is not associated with a value",
     "output_type": "error",
     "traceback": [
      "\u001b[0;31m---------------------------------------------------------------------------\u001b[0m",
      "\u001b[0;31mUnboundLocalError\u001b[0m                         Traceback (most recent call last)",
      "Cell \u001b[0;32mIn[284], line 2\u001b[0m\n\u001b[1;32m      1\u001b[0m \u001b[38;5;28;01mfor\u001b[39;00m i \u001b[38;5;129;01min\u001b[39;00m reactors:\n\u001b[0;32m----> 2\u001b[0m     \u001b[43mby_nuclide_csv\u001b[49m\u001b[43m(\u001b[49m\u001b[43mi\u001b[49m\u001b[43m,\u001b[49m\u001b[43mprimary_path\u001b[49m\u001b[43m)\u001b[49m\n",
      "Cell \u001b[0;32mIn[281], line 4\u001b[0m, in \u001b[0;36mby_nuclide_csv\u001b[0;34m(reactor, primary_path)\u001b[0m\n\u001b[1;32m      2\u001b[0m results \u001b[38;5;241m=\u001b[39m get_results(reactor, primary_path)\n\u001b[1;32m      3\u001b[0m \u001b[38;5;66;03m# Dataframe with the waste management metrics by nuclide    \u001b[39;00m\n\u001b[0;32m----> 4\u001b[0m df_act, df_DH, df_rad, time, tis_dis, df_act_conv, df_DH_conv, df_rad_conv\u001b[38;5;241m=\u001b[39m\u001b[43mby_nuclide\u001b[49m\u001b[43m(\u001b[49m\u001b[43mreactor\u001b[49m\u001b[43m,\u001b[49m\u001b[43m \u001b[49m\u001b[43mresults\u001b[49m\u001b[43m)\u001b[49m\n\u001b[1;32m      6\u001b[0m \u001b[38;5;66;03m# For each metrics, calculate the contribution of each metric\u001b[39;00m\n\u001b[1;32m      7\u001b[0m act_prop\u001b[38;5;241m=\u001b[39mdf_prop(df_act)\n",
      "Cell \u001b[0;32mIn[278], line 5\u001b[0m, in \u001b[0;36mby_nuclide\u001b[0;34m(reactor, results)\u001b[0m\n\u001b[1;32m      3\u001b[0m \u001b[38;5;28;01mdef\u001b[39;00m \u001b[38;5;21mby_nuclide\u001b[39m(reactor, results):\n\u001b[1;32m      4\u001b[0m     \u001b[38;5;66;03m# Gather the parameters for the reactor\u001b[39;00m\n\u001b[0;32m----> 5\u001b[0m     param \u001b[38;5;241m=\u001b[39m \u001b[43mget_parameters\u001b[49m\u001b[43m(\u001b[49m\u001b[43mreactor\u001b[49m\u001b[43m)\u001b[49m\n\u001b[1;32m      6\u001b[0m     crit_param \u001b[38;5;241m=\u001b[39m criticality(results)\n\u001b[1;32m      7\u001b[0m     snf_composition \u001b[38;5;241m=\u001b[39m get_snf_composition(primary_path, results, crit_param, \u001b[38;5;124m\"\u001b[39m\u001b[38;5;124m1\u001b[39m\u001b[38;5;124m\"\u001b[39m)\n",
      "Cell \u001b[0;32mIn[282], line 37\u001b[0m, in \u001b[0;36mget_parameters\u001b[0;34m(reactor)\u001b[0m\n\u001b[1;32m     35\u001b[0m \u001b[38;5;28;01mif\u001b[39;00m (reactor\u001b[38;5;241m==\u001b[39m\u001b[38;5;124m'\u001b[39m\u001b[38;5;124mSFR\u001b[39m\u001b[38;5;124m'\u001b[39m):\n\u001b[1;32m     36\u001b[0m     parameters\u001b[38;5;241m=\u001b[39m[\u001b[38;5;241m250000\u001b[39m, \u001b[38;5;241m0.4\u001b[39m, \u001b[38;5;241m120\u001b[39m, \u001b[38;5;241m3179.8823521410927\u001b[39m]\n\u001b[0;32m---> 37\u001b[0m \u001b[38;5;28;01mreturn\u001b[39;00m \u001b[43mparameters\u001b[49m\n",
      "\u001b[0;31mUnboundLocalError\u001b[0m: cannot access local variable 'parameters' where it is not associated with a value"
     ]
    }
   ],
   "source": [
    "for reactor in reactors:\n",
    "    by_nuclide_csv(reactor,primary_path)"
   ]
  },
  {
   "cell_type": "code",
   "execution_count": 285,
   "id": "69599aa3",
   "metadata": {},
   "outputs": [
    {
     "data": {
      "text/plain": [
       "'HTGR_80'"
      ]
     },
     "execution_count": 285,
     "metadata": {},
     "output_type": "execute_result"
    }
   ],
   "source": [
    "i"
   ]
  },
  {
   "cell_type": "code",
   "execution_count": null,
   "id": "a3daa8ee",
   "metadata": {},
   "outputs": [],
   "source": []
  }
 ],
 "metadata": {
  "kernelspec": {
   "display_name": "Python 3 (ipykernel)",
   "language": "python",
   "name": "python3"
  },
  "language_info": {
   "codemirror_mode": {
    "name": "ipython",
    "version": 3
   },
   "file_extension": ".py",
   "mimetype": "text/x-python",
   "name": "python",
   "nbconvert_exporter": "python",
   "pygments_lexer": "ipython3",
   "version": "3.12.1"
  }
 },
 "nbformat": 4,
 "nbformat_minor": 5
}
