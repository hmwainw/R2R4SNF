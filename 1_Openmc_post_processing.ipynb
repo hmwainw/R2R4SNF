{
 "cells": [
  {
   "cell_type": "markdown",
   "id": "530f5222",
   "metadata": {},
   "source": [
    "# OpenMC Post-Processing"
   ]
  },
  {
   "cell_type": "markdown",
   "id": "ea3c16f6",
   "metadata": {
    "jp-MarkdownHeadingCollapsed": true
   },
   "source": [
    "### This notebook reads OpenMC output files for all reactors and computes SNF metrics, including mass, volume, activity, radiotoxicity and decay heat."
   ]
  },
  {
   "cell_type": "markdown",
   "id": "eafbd76a",
   "metadata": {},
   "source": [
    "## Import and Setup"
   ]
  },
  {
   "cell_type": "code",
   "execution_count": 1,
   "id": "6ac6008a",
   "metadata": {},
   "outputs": [],
   "source": [
    "## Import the python modules and openmc modules \n",
    "import os\n",
    "import xml.etree.ElementTree as ET\n",
    "import pandas as pd\n",
    "import numpy as np\n",
    "import openmc\n",
    "import openmc.deplete\n",
    "import warnings\n",
    "from pathlib import Path\n",
    "warnings.filterwarnings('ignore')"
   ]
  },
  {
   "cell_type": "code",
   "execution_count": 9,
   "id": "2245f876",
   "metadata": {},
   "outputs": [],
   "source": [
    "## Necessary Files:\n",
    "# depletion_results.h5 - openMC output file\n",
    "# materials.xml - openMC material file \n",
    "# DCF_ingestion.csv - DCF / MPC factors in the running directory\n",
    "# reactor_parameters.csv - hard-coded parameters for each reactor type\n",
    "\n",
    "def setup(workspace_path, reactor):\n",
    "    '''Sets paths for OpenMC inputs/primary outputs to be saved and read in reactor parameters.'''\n",
    "    \n",
    "    ## ---- Parameters: \n",
    "    #  workspace_path (string): User-provided path to directory where R2R4SNF is cloned\n",
    "    #  reactor (string): Reactor type\n",
    "    ## ---- Returns: \n",
    "    #  openmc_path (string): path to openmc inputs folder to read depletion results\n",
    "    #  output_path (string): path to results folder where output will be saved\n",
    "    #  parameters (dict): Dictionary of reactor parameters\n",
    "    \n",
    "    openmc_path = workspace_path + 'inputs/openmc/' + reactor + '/'\n",
    "    output_path = workspace_path + 'results/' + reactor + '/'\n",
    "\n",
    "    # Set path to the decay chain file used for the OpenMC simulation\n",
    "    openmc.config['chain_file'] = workspace_path + 'inputs/openmc/nuclear_data/chain_endfb71_pwr.xml'\n",
    "\n",
    "    # Set path to nuclide cross sections data in materials.xml file \n",
    "    tree = ET.parse(openmc_path + 'materials.xml')\n",
    "    tree.find('cross_sections').text = workspace_path + \"inputs/openmc/nuclear_data/endfb71_hdf5/cross_sections.xml\"\n",
    "    tree.write(openmc_path + '/materials.xml')\n",
    "\n",
    "    # Create relevant directories (if they don't exist)\n",
    "    paths = [\"reactor_simulation/summary\", \"reactor_simulation/SNF_by_nuclide/decay_heat\", \n",
    "             \"reactor_simulation/SNF_by_nuclide/radioactivity\", \"reactor_simulation/SNF_by_nuclide/radiotoxicity\",\n",
    "             \"repository_simulation/nwpy_wasteforms\", \"repository_simulation/footprints\"]\n",
    "    for p in paths:  \n",
    "        Path(output_path + p).mkdir(parents=True, exist_ok=True)\n",
    "    \n",
    "    # Read in dictionary of reactor parameters\n",
    "    parameters = pd.read_csv(workspace_path + 'inputs/parameters/reactor_parameters.csv',index_col=0).T.to_dict()[reactor]\n",
    "\n",
    "    return (openmc_path, output_path, parameters)"
   ]
  },
  {
   "cell_type": "markdown",
   "id": "40eb42c5",
   "metadata": {},
   "source": [
    "## Build functions"
   ]
  },
  {
   "cell_type": "code",
   "execution_count": 18,
   "id": "0177128d",
   "metadata": {},
   "outputs": [],
   "source": [
    "def conv_GWe_y(value, parameters): \n",
    "    '''Converts output data (activity, decay heat...) from /gHM to /GWe.y.'''\n",
    "    \n",
    "    ## ---- Parameters: \n",
    "    #  value (float) - the value in per gHM to be converted to per GWE.y production\n",
    "    #  parameters (dict) - reactor parameters\n",
    "    ## ---- Returns: \n",
    "    #  value per electricity production\n",
    "    \n",
    "    return (value * 365 / (parameters['discharge_burnup'] * \n",
    "                           parameters['thermal_eff']*(10**-6)))"
   ]
  },
  {
   "cell_type": "code",
   "execution_count": 2,
   "id": "7fe8ff10",
   "metadata": {},
   "outputs": [],
   "source": [
    "def build_snf_metrics(openmc_path, openmc_results, num_steps, material_id):\n",
    "    '''Calculates detailed SNF metrics (radioactivity, decay heat, toxicity, etc.) by radionuclide.'''\n",
    "    \n",
    "    ## ---- Parameters: \n",
    "    #  primary_path (str) - a path to the directory in which openmc files are stored\n",
    "    #  openmc_results (Object) - openmc depletion calculation results\n",
    "    #  material_id (int) - the ID of the depleted material (usually '1' for the fuel - each material's \n",
    "    #                      ID can be found in the materials.xml file)\n",
    "    ## ---- Returns: \n",
    "    #  snf_activity - a dataframe measuring radioactivity in Bq/g for each fuel isotope at each time step\n",
    "    #  snf_decay_heat - a table of decay heat in W/g for each fuel isotope at each time step\n",
    "    #  snf_toxicity - a table of radiotoxicity in Sv/g for each isotope at each time step\n",
    "    #  fissionable_mass - the amount of fissionable mass in the fuel at time t = 0\n",
    "    #  fuel_volume - the volume of fuel at time t = 0\n",
    "\n",
    "    ## SNF Composition\n",
    "    # This variable collects a list of Material objects from each step in time of the OpenMC simulation. \n",
    "    # The specific Material in question is determined by the material_id input, which is set to 1 for \n",
    "    # the nuclear fuel. Each Material object contains functions to access a variety of information on \n",
    "    # the fuel at that point in time, including fissionable mass, volume, radioactivity, decay heat, and\n",
    "    # radiotoxicity. export_to_materials() returns a Material object with a specified material_id and \n",
    "    # simulation step.\n",
    "    snf_composition = [openmc_results.export_to_materials(burnup_index = i, path = openmc_path + 'materials.xml')[material_id-1] \n",
    "                       for i in range(num_steps)]\n",
    "\n",
    "    ## SNF Activity\n",
    "    snf_activity = pd.DataFrame([snf_composition[i].get_activity(by_nuclide=True, units='Bq/g') \n",
    "                                 for i in range(num_steps)]).T\n",
    "    snf_activity.index.names = ['Isotope']\n",
    "    snf_activity.columns = openmc_results.get_keff(time_units = 'd')[0]\n",
    "\n",
    "    ## SNF Decay Heat\n",
    "    snf_decay_heat = pd.DataFrame([snf_composition[i].get_decay_heat(by_nuclide=True, units='W/g')\n",
    "                                 for i in range(num_steps)]).T\n",
    "    snf_decay_heat.index.names = ['Isotope']\n",
    "    snf_decay_heat.columns = openmc_results.get_keff(time_units = 'd')[0]\n",
    "    \n",
    "    ## SNF Radiotoxicity\n",
    "    conversion_factors = pd.read_csv('inputs/parameters/isotope_conversion_factors.csv', sep=';') \n",
    "    conversion_factors.set_index('Isotope', inplace=True)\n",
    "\n",
    "    # Merge radioactivity table onto CF table, and multiply CFs across the dataframe. Then remove the last column\n",
    "    snf_toxicity = snf_activity.merge(conversion_factors, how = \"inner\", on = \"Isotope\")\n",
    "    snf_toxicity = snf_toxicity.mul(snf_toxicity['Conversion factors (Sv/Bq)'], axis = 'index').iloc[:, :-1]\n",
    "    snf_toxicity.columns = openmc_results.get_keff(time_units = 'd')[0]\n",
    "    \n",
    "    return (snf_activity, snf_decay_heat, snf_toxicity, snf_composition[0].fissionable_mass, snf_composition[0].volume)"
   ]
  },
  {
   "cell_type": "code",
   "execution_count": 11,
   "id": "b3c08f7f",
   "metadata": {},
   "outputs": [],
   "source": [
    "def build_reactor_metrics(parameters, openmc_path):\n",
    "    '''Returns a dataframe containing the main metrics and parameters useful in the study.'''\n",
    "    \n",
    "    ## ---- Parameters: \n",
    "    #  parameters (dict) - reactor parameters: linear power, discharge burnup, thermal efficiency, and volume-to-mass ratio\n",
    "    #  primary_path (string) - a path to the directory in which openmc files are stored\n",
    "    ## ---- Returns:\n",
    "    #  results (tuple) - A dataframe containing a variety of reactor and SNF metrics\n",
    "    \n",
    "    \n",
    "    # Initialize the dataframe\n",
    "    df = pd.DataFrame()\n",
    "    \n",
    "    # Collect results from the OpenMC depletion calculation.\n",
    "    openmc_results = openmc.deplete.Results(openmc_path + 'depletion_results.h5')\n",
    "    num_steps = len(openmc_results)\n",
    "    \n",
    "    # Compute SNF metrics at each step of the OpenMC simulation\n",
    "    snf_activity, snf_decay_heat, snf_toxicity, fissionable_mass, fuel_volume = build_snf_metrics(openmc_path, openmc_results, num_steps, 1)\n",
    "\n",
    "    # Days: days elapsed at each simulation step. Serves as dataframe index\n",
    "    df['Days'] = openmc_results.get_keff(time_units = 'd')[0]\n",
    "    \n",
    "    # K-effective: effective neutron multiplication factor\n",
    "    df['Keff'] = openmc_results.get_keff()[1][:,0]\n",
    "    \n",
    "    # Discharge step/time: Simulation step/days at which nuclear reactor discharges (i.e., K-effective falls to 0)\n",
    "    df['Discharge Step'] = np.max(np.nonzero(df['Keff'])) + 1\n",
    "    df['Discharge Time'] = df['Days'].iloc[df['Discharge Step'][0]]\n",
    "\n",
    "    # Power: power is generated at the reactor type's linear power level until fuel is discharged.\n",
    "    df['Power (W/cm)'] = [parameters['linear_power'] if i < df['Discharge Step'][0] else 0 for i in range(num_steps)]\n",
    "    df['Power (W/cm)'] = pd.to_numeric(df['Power (W/cm)'])\n",
    "\n",
    "    # Burnup: \n",
    "    df['Burnup'] = df['Days'] * df['Power (W/cm)'] / ((10**3) * fissionable_mass)\n",
    "\n",
    "    # SNF Metrics \n",
    "    # filtering out NaNs from SNF metrics data \n",
    "    df['Activity (Bq/g)'] = [snf_activity[i].values[~np.isnan(snf_activity[i].values)].sum() for i in df['Days']]\n",
    "    df['Activity (Ci/GWe.y)'] = conv_GWe_y(df['Activity (Bq/g)'], parameters) * 2.7 * (10**-11)                            \n",
    "    df['Decay heat (W/g)']= [snf_decay_heat[i].values[~np.isnan(snf_decay_heat[i].values)].sum() for i in df['Days']]\n",
    "    df['Decay heat (W/GWe.y)'] = conv_GWe_y(df['Decay heat (W/g)'], parameters)\n",
    "    df['Radiotoxicity (Sv/g)'] = [snf_toxicity[i].values[~np.isnan(snf_toxicity[i].values)].sum() for i in df['Days']]\n",
    "    df['Radiotoxicity (Sv/GWe.y)'] = conv_GWe_y(df['Radiotoxicity (Sv/g)'], parameters)\n",
    "\n",
    "    # I-129: Concentration of I-129 (long-lived radioisotope) in SNF\n",
    "    # does GWe.y conversion make sense?\n",
    "    df['I129 (atom/cm3)'] = openmc_results.get_atoms(\"1\", \"I129\", nuc_units='atom/cm3', time_units='d')[1]\n",
    "    df['I129 (atom/GWe.y)'] = (df['I129 (atom/cm3)'] * fuel_volume * 365 / \n",
    "                               (parameters['linear_power'] * df['Discharge Time'][0] * parameters['thermal_eff'])*(10**9))\n",
    "\n",
    "    # Reactor Parameters (hard-coded)\n",
    "    df['Efficiency'] = parameters['thermal_eff']\n",
    "    df['Volume Model (cm3)'] = parameters['vol_to_mass_ratio']\n",
    "    df['SNF mass (t/GWe.y)'] = 365 / (parameters['discharge_burnup'] * parameters['thermal_eff'])\n",
    "    df['SNF volume (m3/GWe.y)'] = df['SNF mass (t/GWe.y)'] * parameters['vol_to_mass_ratio']\n",
    "    df['Volume Ueq']= fuel_volume\n",
    "    df['Mass U'] = fissionable_mass\n",
    "    \n",
    "    df.set_index('Days', inplace = True)\n",
    "\n",
    "    results = (df, snf_activity, snf_decay_heat, snf_toxicity)\n",
    "    return results"
   ]
  },
  {
   "cell_type": "markdown",
   "id": "d3a939c6",
   "metadata": {},
   "source": [
    "## Output functions"
   ]
  },
  {
   "cell_type": "code",
   "execution_count": 13,
   "id": "6f139485",
   "metadata": {},
   "outputs": [],
   "source": [
    "def conv_prop(df):\n",
    "    '''Returns a dataframe containing the contribution of each nuclide for the metric considered, in percents.'''\n",
    "    \n",
    "    total   = df.sum(axis=0)\n",
    "    df_prop = df/total\n",
    "    return df_prop"
   ]
  },
  {
   "cell_type": "code",
   "execution_count": 14,
   "id": "5e08baba",
   "metadata": {},
   "outputs": [],
   "source": [
    "def write_snf_metrics(snf_activity, snf_decay_heat, snf_toxicity, reactor_parameters, output_path):\n",
    "    ''' Writes SNF nuclide metrics to a csv.'''\n",
    "\n",
    "    output_path += 'reactor_simulation/SNF_by_nuclide/'\n",
    "    output_funcs = [lambda x: x, lambda x: conv_GWe_y(x, reactor_parameters), conv_prop]\n",
    "    func_names = ['', '_GWe', '_prop']\n",
    "    \n",
    "    # Cycling through the three output formats: as calculated, as GWe.y, and by proportion\n",
    "    for i, func in enumerate(output_funcs):\n",
    "        func(snf_activity).to_csv(output_path + 'radioactivity/' + reactor + '_activity'+ func_names[i] +'.csv', index = True, header = True)\n",
    "        func(snf_decay_heat).to_csv(output_path + 'decay_heat/' + reactor + '_decay_heat' + func_names[i] + '.csv', index = True, header = True)\n",
    "        func(snf_toxicity).to_csv(output_path + 'radiotoxicity/' + reactor + '_toxicity' + func_names[i] + '.csv', index = True, header = True)"
   ]
  },
  {
   "cell_type": "code",
   "execution_count": 47,
   "id": "a5b0c668",
   "metadata": {},
   "outputs": [],
   "source": [
    "def write_reactor_metrics(reactor_output, output_path):\n",
    "    ''' Writes reactor metrics to a csv.'''\n",
    "    \n",
    "    output_path += 'reactor_simulation/summary/'\n",
    "    \n",
    "    # split dataframe into time-dependent and time-independent columns\n",
    "    time_independent_cols = ['Discharge Step', 'Discharge Time', 'Efficiency', 'Volume Model (cm3)', 'SNF mass (t/GWe.y)', 'SNF volume (m3/GWe.y)', 'Volume Ueq', 'Mass U']\n",
    "    df_time_ind = reactor_output.head(1)[time_independent_cols].T.reset_index()\n",
    "    df_time_ind.columns = ['Parameter', 'Value']\n",
    "    df_time_dep = reactor_output.drop(time_independent_cols, axis=1)\n",
    "\n",
    "    # dataframe containing the value only after discharge from the reactor\n",
    "    df_cooling  = reactor_output.iloc[reactor_output['Discharge Step'][0]+1:].copy(deep=True) \n",
    "    \n",
    "    df_time_dep.to_csv(output_path + 'out_' + reactor + '_time_dep.csv', index=True, header=True)\n",
    "    df_time_ind.to_csv(output_path + 'out_' + reactor + '_time_ind.csv', index=False, header=True)\n",
    "    df_cooling.to_csv(output_path + 'cooling_' + reactor + '.csv', index=True, header=True)"
   ]
  },
  {
   "cell_type": "code",
   "execution_count": 16,
   "id": "f20fcc56",
   "metadata": {},
   "outputs": [],
   "source": [
    "def openMC2SNF(reactor, workspace_path, output = False):\n",
    "    ''' Sets up directory, builds metrics, and writes to csv.'''\n",
    "\n",
    "    if output: print(reactor + \" reactor simulation ----------------\")\n",
    "    \n",
    "    # Set up file paths to openMC inputs and create directories\n",
    "    openmc_path, output_path, reactor_parameters = setup(workspace_path, reactor)\n",
    "    if output: print(\"Directories initialized...\")\n",
    "\n",
    "    # Read OpenMC results to build reactor + SNF metrics\n",
    "    reactor_output, snf_activity, snf_decay_heat, snf_toxicity = build_reactor_metrics(reactor_parameters, openmc_path)\n",
    "    if output: print(\"OpenMC + SNF metrics calculated...\")\n",
    "\n",
    "    # Create csv files containing main results in \"summary\" folder + detailed SNF metrics in \"SNF_by_nuclide\" folder\n",
    "    write_reactor_metrics(reactor_output, output_path)\n",
    "    write_snf_metrics(snf_activity, snf_decay_heat, snf_toxicity, reactor_parameters, output_path)\n",
    "    if output: print(\"Output saved!\\n\")"
   ]
  },
  {
   "cell_type": "markdown",
   "id": "0bd6379d",
   "metadata": {},
   "source": [
    "## Example"
   ]
  },
  {
   "cell_type": "markdown",
   "id": "e6415500",
   "metadata": {},
   "source": [
    "### Single reactor"
   ]
  },
  {
   "cell_type": "code",
   "execution_count": 48,
   "id": "57356d48",
   "metadata": {},
   "outputs": [
    {
     "name": "stdout",
     "output_type": "stream",
     "text": [
      "SFR reactor simulation ----------------\n",
      "Directories initialized...\n",
      "OpenMC + SNF metrics calculated...\n",
      "Output saved!\n",
      "\n"
     ]
    }
   ],
   "source": [
    "# Set reactor type\n",
    "reactor = 'SFR'\n",
    "workspace_path = '/Users/krishnasunder/Desktop/workspace/R2R4SNF/'\n",
    "\n",
    "openMC2SNF(reactor, workspace_path, True)"
   ]
  },
  {
   "cell_type": "markdown",
   "id": "aa36d9df",
   "metadata": {},
   "source": [
    "### Multiple reactors \n"
   ]
  },
  {
   "cell_type": "code",
   "execution_count": 49,
   "id": "bba83e0c",
   "metadata": {
    "scrolled": true
   },
   "outputs": [],
   "source": [
    "reactors = ['Ref_PWR', 'SPWR', 'HTGR', 'HPR', 'HTGR_FCM', 'SFR']\n",
    "workspace_path = '/Users/krishnasunder/Desktop/workspace/R2R4SNF/'\n",
    "\n",
    "for reactor in reactors:\n",
    "    openMC2SNF(reactor, workspace_path)"
   ]
  }
 ],
 "metadata": {
  "kernelspec": {
   "display_name": "Python 3 (ipykernel)",
   "language": "python",
   "name": "python3"
  },
  "language_info": {
   "codemirror_mode": {
    "name": "ipython",
    "version": 3
   },
   "file_extension": ".py",
   "mimetype": "text/x-python",
   "name": "python",
   "nbconvert_exporter": "python",
   "pygments_lexer": "ipython3",
   "version": "3.10.14"
  }
 },
 "nbformat": 4,
 "nbformat_minor": 5
}
